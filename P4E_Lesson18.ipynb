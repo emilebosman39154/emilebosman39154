{
  "nbformat": 4,
  "nbformat_minor": 0,
  "metadata": {
    "colab": {
      "provenance": [],
      "include_colab_link": true
    },
    "kernelspec": {
      "name": "python3",
      "display_name": "Python 3"
    },
    "language_info": {
      "name": "python"
    }
  },
  "cells": [
    {
      "cell_type": "markdown",
      "metadata": {
        "id": "view-in-github",
        "colab_type": "text"
      },
      "source": [
        "<a href=\"https://colab.research.google.com/github/emilebosman39154/emilebosman39154/blob/main/P4E_Lesson18.ipynb\" target=\"_parent\"><img src=\"https://colab.research.google.com/assets/colab-badge.svg\" alt=\"Open In Colab\"/></a>"
      ]
    },
    {
      "cell_type": "markdown",
      "source": [
        "# **Lesson 18 : Chapter 8 (Lists) - In closure**\n",
        "\n"
      ],
      "metadata": {
        "id": "5kD5T4xArapf"
      }
    },
    {
      "cell_type": "markdown",
      "source": [
        "# **Quick Test**\n",
        "\n",
        "None"
      ],
      "metadata": {
        "id": "nqAkyfMtIrv1"
      }
    },
    {
      "cell_type": "markdown",
      "source": [
        "1. \n",
        "\n",
        "None\n"
      ],
      "metadata": {
        "id": "7RVjhoAWDKn8"
      }
    },
    {
      "cell_type": "markdown",
      "source": [
        "# **Quick Test Answers**\n",
        "\n",
        "**1. Answers:**\n",
        "\n",
        "None"
      ],
      "metadata": {
        "id": "TsTWYEfT9HSX"
      }
    },
    {
      "cell_type": "markdown",
      "source": [
        "## **Opening Files (then continue with Lists)**\n"
      ],
      "metadata": {
        "id": "j1WQsgheaj0N"
      }
    },
    {
      "cell_type": "markdown",
      "source": [
        "## **1. Parsing Lines**\n",
        "Often, you need to **sort through the output file** and **identify particular pieces of information that are most important to you**. In general, this is **called file parsing**"
      ],
      "metadata": {
        "id": "nu_cWZ64hFeP"
      }
    },
    {
      "cell_type": "markdown",
      "source": [
        "Start with opeing text documents first:  **NB - Run the following code in Pycharm** - easier since the file is on your compouter and no further configurations required from Pycharm (different to Colab as online IDE)"
      ],
      "metadata": {
        "id": "C8S6-XWxaAD3"
      }
    },
    {
      "cell_type": "code",
      "source": [
        "a = open(\"/Users/emilebosman/Downloads/Python Text Import.txt\", 'r')   # 'r' is for read mode\n",
        "# print(a.read())\n",
        "print(a.readline())  # comment the precious statement out"
      ],
      "metadata": {
        "id": "sLr-XdEeaDqH"
      },
      "execution_count": null,
      "outputs": []
    },
    {
      "cell_type": "code",
      "source": [
        "fhand = open(\"/Users/emilebosman/Downloads/mbox.txt\", 'r')\n",
        "for line in fhand:\n",
        "    line = line.rstrip()  # .rstrip() method removes any trailing characters (characters at the end a string), space is the default trailing character to remove\n",
        "    if not line.startswith('From '): continue  #  .startswith() method returns True if the string starts with the specified value, otherwise False\n",
        "    words = line.split() # .split() method a string into a list [ \"dd\", \"ee\", \"ff\"] where each word is a list item\n",
        "    print(words[2])"
      ],
      "metadata": {
        "id": "813MJQQ7jaFJ"
      },
      "execution_count": null,
      "outputs": []
    },
    {
      "cell_type": "markdown",
      "source": [
        "## **2. Objects & Values**\n",
        "\n",
        "Two (2) strings with the same values are one object\n",
        "\n",
        "Two (2) lists with the same values are wo seperate objects\n",
        "\n",
        "Test this with the \"is\" operator:\n",
        "\n",
        "**2.1 Strings**"
      ],
      "metadata": {
        "id": "3pmre4U39-NU"
      }
    },
    {
      "cell_type": "code",
      "source": [
        "x = \"long\"\n",
        "y = \"long\"\n",
        "x is y"
      ],
      "metadata": {
        "id": "-7EYdHfP-dge"
      },
      "execution_count": null,
      "outputs": []
    },
    {
      "cell_type": "markdown",
      "source": [
        "**2.2 Lists:**"
      ],
      "metadata": {
        "id": "StlHQOws-2D5"
      }
    },
    {
      "cell_type": "code",
      "source": [
        "q = [1, 5, 10, 15]\n",
        "r = [1, 5, 10, 15]\n",
        "q is r "
      ],
      "metadata": {
        "id": "rC0Pzk9j-5Nd"
      },
      "execution_count": null,
      "outputs": []
    },
    {
      "cell_type": "markdown",
      "source": [
        "In this case we would say that the **two lists are equivalent**, because they have the\n",
        "same elements, **but not identical**, because they are **not the same object**."
      ],
      "metadata": {
        "id": "HLdN4qwe_OhS"
      }
    },
    {
      "cell_type": "markdown",
      "source": [
        "r = [1, 5, 10, 15] is a list OBJECT whose VALUE is a specific sequence of elements.\n",
        "Thus object and vlue should not be used interchangeable (it is not the same)"
      ],
      "metadata": {
        "id": "Bt-RFu1-_fHK"
      }
    },
    {
      "cell_type": "markdown",
      "source": [
        "## **3. Aliasing**"
      ],
      "metadata": {
        "id": "xH4UlWfiAlKW"
      }
    },
    {
      "cell_type": "markdown",
      "source": [
        "If a refers to an object and you assign b = a, then both variables refer to the same\n",
        "object:"
      ],
      "metadata": {
        "id": "3WE4e8dnAD-U"
      }
    },
    {
      "cell_type": "code",
      "source": [
        "a = [1, 2, 3]\n",
        "b = a\n",
        "b is a"
      ],
      "metadata": {
        "id": "XOmQVs8eAGmS"
      },
      "execution_count": null,
      "outputs": []
    },
    {
      "cell_type": "markdown",
      "source": [
        "The association of a variable with an object is called a **reference**. In this example,\n",
        "there **are two references to the same object**.\n",
        "An **object with more than one reference** has **more than one name**, so we say that\n",
        "the **object is** ***aliased***. "
      ],
      "metadata": {
        "id": "pDdHWeTmALHZ"
      }
    },
    {
      "cell_type": "markdown",
      "source": [
        "Since they are referencing the same object, changing the one variable, changes the other."
      ],
      "metadata": {
        "id": "yRiEEdN3A2Jo"
      }
    },
    {
      "cell_type": "code",
      "source": [
        "b[0] = 17\n",
        "print(a)"
      ],
      "metadata": {
        "id": "FTn7pXAwAxng"
      },
      "execution_count": null,
      "outputs": []
    },
    {
      "cell_type": "markdown",
      "source": [
        "## **4. List Arguments**\n",
        "When you pass a list to a function, the function gets a reference to the list. If\n",
        "the function modifies a list parameter, the caller sees the change. For example,\n",
        "delete_head removes the first element from a list:"
      ],
      "metadata": {
        "id": "TsIEAuj7DtcS"
      }
    },
    {
      "cell_type": "markdown",
      "source": [
        "**Custom Function called: delete_head()**"
      ],
      "metadata": {
        "id": "OCYGgTh8Kf-M"
      }
    },
    {
      "cell_type": "code",
      "source": [
        "def delete_head(t):\n",
        "  del t[0]"
      ],
      "metadata": {
        "id": "zXjt6meGKbij"
      },
      "execution_count": null,
      "outputs": []
    },
    {
      "cell_type": "markdown",
      "source": [
        "**Passing a list** to the Function above:\n",
        "The parameter t and the variable letters are aliases for the same object"
      ],
      "metadata": {
        "id": "6AsLSa3QKqBY"
      }
    },
    {
      "cell_type": "code",
      "source": [
        "letters = ['a', 'b', 'c']\n",
        "delete_head(letters)\n",
        "print(letters)"
      ],
      "metadata": {
        "id": "GCly78ixKtzC"
      },
      "execution_count": null,
      "outputs": []
    },
    {
      "cell_type": "markdown",
      "source": [
        "## **5. Python Guessing Game**"
      ],
      "metadata": {
        "id": "85yL3R8lXh8v"
      }
    },
    {
      "cell_type": "markdown",
      "source": [
        "**5.1 Guessing with unlimited options:**"
      ],
      "metadata": {
        "id": "1Vo3e3sZYKri"
      }
    },
    {
      "cell_type": "markdown",
      "source": [
        "**My preference:**"
      ],
      "metadata": {
        "id": "XJLVrKicUGxV"
      }
    },
    {
      "cell_type": "code",
      "source": [
        "import random\n",
        "n = random.randrange(1,10)\n",
        "guess = int(input(\"Enter any number: \"))\n",
        "while n!= guess:\n",
        "    if guess < n:\n",
        "        print(\"Too low\")\n",
        "        guess = int(input(\"Enter number again: \"))\n",
        "    elif guess > n:\n",
        "        print(\"Too high!\")\n",
        "        guess = int(input(\"Enter number again: \"))\n",
        "    else:\n",
        "      break\n",
        "print(\"you guessed it right!!\")"
      ],
      "metadata": {
        "id": "IZMbv-szUC0g"
      },
      "execution_count": null,
      "outputs": []
    },
    {
      "cell_type": "markdown",
      "source": [
        "**Alternative:**"
      ],
      "metadata": {
        "id": "g4sWlvkkUMV1"
      }
    },
    {
      "cell_type": "code",
      "source": [
        "import random\n",
        "n = random.randint(1, 99)\n",
        "guess = int(input(\"Enter an integer from 1 to 99: \"))\n",
        "while True:\n",
        "    if guess < n:\n",
        "        print (\"guess is low\")\n",
        "        guess = int(input(\"Enter an integer from 1 to 99: \"))\n",
        "    elif guess > n:\n",
        "        print (\"guess is high\")\n",
        "        guess = int(input(\"Enter an integer from 1 to 99: \"))\n",
        "    else:\n",
        "        print (\"you guessed it right! Bye!\")\n",
        "        break"
      ],
      "metadata": {
        "id": "5iE5VQtbXmCu"
      },
      "execution_count": null,
      "outputs": []
    },
    {
      "cell_type": "markdown",
      "source": [
        "**5.2 Guessing with limited options, based on 1st preference**"
      ],
      "metadata": {
        "id": "maR1Tf_8YTf3"
      }
    },
    {
      "cell_type": "code",
      "source": [
        "import random\n",
        "n = random.randrange(1,100)\n",
        "guess = int(input(\"Enter any number: \"))\n",
        "\n",
        "count = 1\n",
        "\n",
        "while n!= guess:\n",
        "    if guess < n:\n",
        "        print(\"Too low\")\n",
        "        guess = int(input(\"Enter number again: \"))\n",
        "    elif guess > n:\n",
        "        print(\"Too high!\")\n",
        "        guess = int(input(\"Enter number again: \"))\n",
        "    #else:\n",
        "     # break\n",
        "\n",
        "\n",
        "   # user = int(input(\"What's the number?\"))\n",
        "    count += 1\n",
        "    if count == 5:\n",
        "     break\n",
        "\n",
        "print(\"You guessed it!!, the number is\", n, \"and it only\"\\\n",
        "       \" took you\", count , \"tries\")\n",
        "\n",
        "print(\"you guessed it right!!\")\n",
        "\n",
        "input (\"\\nPress enter to exit\")  "
      ],
      "metadata": {
        "colab": {
          "base_uri": "https://localhost:8080/",
          "height": 261
        },
        "id": "NzlnirudVfY6",
        "outputId": "8139c2ec-6bf2-481e-cded-cfb8e7976a7b"
      },
      "execution_count": 2,
      "outputs": [
        {
          "name": "stdout",
          "output_type": "stream",
          "text": [
            "Enter any number: 56\n",
            "Too low\n",
            "Enter number again: 77\n",
            "Too high!\n",
            "Enter number again: 68\n",
            "Too low\n",
            "Enter number again: 72\n",
            "Too low\n",
            "Enter number again: 75\n",
            "You guessed it!!, the number is 75 and it only took you 5 tries\n",
            "you guessed it right!!\n",
            "\n",
            "Press enter to exit\n"
          ]
        },
        {
          "output_type": "execute_result",
          "data": {
            "text/plain": [
              "''"
            ],
            "application/vnd.google.colaboratory.intrinsic+json": {
              "type": "string"
            }
          },
          "metadata": {},
          "execution_count": 2
        }
      ]
    },
    {
      "cell_type": "markdown",
      "source": [
        "Altrernative:"
      ],
      "metadata": {
        "id": "HZU0_goLViwy"
      }
    },
    {
      "cell_type": "code",
      "source": [
        "import random\n",
        "print (\"welcome to the guess my number hardcore edition \")\n",
        "\n",
        "print (\"In this program you only get 5 guesses\\n\")\n",
        "\n",
        "print (\"good luck\")\n",
        "\n",
        "the_number = random.randint(1, 100)\n",
        "\n",
        "user = int(input(\"What's the number?\"))\n",
        "\n",
        "count = 1\n",
        "while user != the_number:\n",
        "\n",
        "    if user > the_number:\n",
        "     print (\"Lower\")\n",
        "\n",
        "    elif user < the_number:\n",
        "     print (\"Higher\")\n",
        "\n",
        "    user = int(input(\"What's the number?\"))\n",
        "    count += 1\n",
        "    if count == 5:\n",
        "     break\n",
        "\n",
        "\n",
        "print(\"You guessed it!!, the number is\", the_number, \"and it only\"\\\n",
        "       \" took you\", count , \"tries\")\n",
        "\n",
        "input (\"\\nPress enter to exit\")        "
      ],
      "metadata": {
        "id": "IrSCdBLwX72T"
      },
      "execution_count": null,
      "outputs": []
    },
    {
      "cell_type": "markdown",
      "source": [
        "## **10. Rock Paper Scissor Game**"
      ],
      "metadata": {
        "id": "wC2JR8-l8E_U"
      }
    },
    {
      "cell_type": "code",
      "source": [
        "import random\n",
        "\n",
        "exit = False\n",
        "user_points = 0\n",
        "computer_points = 0\n",
        "\n",
        "while exit == False:\n",
        "    options = [\"rock\", \"paper\" , \"scissors\"]\n",
        "    user_input = input(\"Choose rock, paper, scissors or exit: \")\n",
        "    computer_input = random.choice(options)\n",
        "    \n",
        "    if user_input == \"exit\" :\n",
        "        print(\"Game ended\")\n",
        "        print(\"You won a total score of \"+str(user_points)+\" and the computer total score is \" +str(computer_points))\n",
        "        exit = True\n",
        "\n",
        "    if user_input == \"rock\":\n",
        "        if computer_input == \"rock\":\n",
        "            print(\"Your input is rock\")\n",
        "            print(\"computer input is rock\")\n",
        "            print(\"It is a tie!\")\n",
        "        elif computer_input == \"paper\":\n",
        "            print(\"Your input is rock\")\n",
        "            print(\"computer input is paper\")\n",
        "            print(\" computer wins\")\n",
        "            computer_points += 1\n",
        "        elif computer_input == \"scissors\":\n",
        "            print(\"Your input is rock\")\n",
        "            print(\"computer input is scissors\")\n",
        "            print(\"you win\")\n",
        "            user_points += 1\n",
        "\n",
        "    elif user_input == \"paper\":\n",
        "        if computer_input == \"rock\":\n",
        "            print(\"Your input is paper\")\n",
        "            print(\"computer input is rock\")\n",
        "            print(\"you win!\")\n",
        "            user_points += 1\n",
        "        elif computer_input == \"paper\":\n",
        "            print(\"Your input is paper\")\n",
        "            print(\"computer input is paper\")\n",
        "            print(\"it's a tie!\")\n",
        "        elif computer_input == \"scissors\":\n",
        "            print(\"Your input is paper\")\n",
        "            print(\"computer input is scissors\")\n",
        "            print(\"computer wins\")\n",
        "            computer_points += 1\n",
        "\n",
        "    elif user_input == \"scissors\":\n",
        "        if computer_input == \"rock\":\n",
        "            print(\"Your input is scissors\")\n",
        "            print(\"computer input is rock\")\n",
        "            print(\"computer win!\")\n",
        "            computer_points += 1\n",
        "        elif computer_input == \"paper\":\n",
        "            print(\"Your input is scissors\")\n",
        "            print(\"computer input is paper\")\n",
        "            print(\"you win\")\n",
        "            user_points += 1\n",
        "        elif computer_input == \"scissors\":\n",
        "            print(\"Your input is scissors\")\n",
        "            print(\"computer input is scissors\")\n",
        "            print(\"its a tie\")\n",
        "\n",
        "    elif user_input != \" rock\" or user_input != \"paper\" or user_input != \"scissors\":\n",
        "        print(\"Invalid Input\")"
      ],
      "metadata": {
        "id": "-QMgo2Av8Eu0"
      },
      "execution_count": null,
      "outputs": []
    }
  ]
}