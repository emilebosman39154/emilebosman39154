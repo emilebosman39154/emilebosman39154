{
  "nbformat": 4,
  "nbformat_minor": 0,
  "metadata": {
    "colab": {
      "name": "Untitled37.ipynb",
      "provenance": [],
      "collapsed_sections": [],
      "authorship_tag": "ABX9TyMcgojKxSc3FSKrH9rkwrxV",
      "include_colab_link": true
    },
    "kernelspec": {
      "name": "python3",
      "display_name": "Python 3"
    },
    "language_info": {
      "name": "python"
    }
  },
  "cells": [
    {
      "cell_type": "markdown",
      "metadata": {
        "id": "view-in-github",
        "colab_type": "text"
      },
      "source": [
        "<a href=\"https://colab.research.google.com/github/emilebosman39154/emilebosman39154/blob/main/P4E_Lesson%208.ipynb\" target=\"_parent\"><img src=\"https://colab.research.google.com/assets/colab-badge.svg\" alt=\"Open In Colab\"/></a>"
      ]
    },
    {
      "cell_type": "markdown",
      "source": [
        "# **Lesson 8**\n",
        "\n",
        "## **Python Turtle Graphics**\n",
        "\n"
      ],
      "metadata": {
        "id": "fv6qpUBhRJCG"
      }
    },
    {
      "cell_type": "markdown",
      "source": [
        "The screen is initially divided into four quadrants. The turtle is positioned at the beginning of the program is (0,0) known as the Home.\n",
        "\n",
        "goto(x, y=None) or turtle.setpos(x, y=None) turtle.setposition(x, y=None) - This method is used to move the turtle in the other area on the screen. It takes the two coordinates - x and y. Consider the following example."
      ],
      "metadata": {
        "id": "GMxXKbcbROwr"
      }
    },
    {
      "cell_type": "code",
      "execution_count": null,
      "metadata": {
        "id": "-PLZBZ1KQ9Hp"
      },
      "outputs": [],
      "source": [
        "import turtle  \n",
        "# Creating turtle screen  \n",
        "t = turtle.Turtle()  \n",
        "# Move turtle with coordinates  \n",
        "t.goto(100, 80)  \n",
        "# To stop the screen to display  \n",
        "turtle.mainloop() "
      ]
    },
    {
      "cell_type": "markdown",
      "source": [
        "\n",
        "![image.png](data:image/png;base64,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)\n",
        "\n",
        "In which Quadrant are the following values of (x,y)"
      ],
      "metadata": {
        "id": "ZcvvYmlFRgMm"
      }
    },
    {
      "cell_type": "markdown",
      "source": [
        "1. (-15,50)\n",
        "\n",
        "2. (-25,-135)\n",
        "\n",
        "3. (45, 185)\n",
        "\n",
        "4. (38, -135)\n",
        "\n",
        "5. (34, 65)"
      ],
      "metadata": {
        "id": "4UdEp8-5Tmha"
      }
    },
    {
      "cell_type": "markdown",
      "source": [
        "# **Exercise:**\n",
        "\n",
        "Write a Python code that will give you the answer to which Quadrant the values of a given (x,y) belongs to."
      ],
      "metadata": {
        "id": "TVwJmS88U8hR"
      }
    },
    {
      "cell_type": "code",
      "source": [
        "print(\"Provide value for X then enter; then Provide value for Y and enter\")\n",
        "\n",
        "x = int(input())\n",
        "y = int(input())\n",
        " \n",
        "print(\"(\",x,\",\",y,\")\",end=\"\")\n",
        "if(x<0 and y<0):\n",
        "    print(\" belongs to 3rd Quadrant.\")\n",
        "elif(x<0 and y>0):\n",
        "    print(\" belongs to 1st Quadrant.\")\n",
        "elif(x>0 and y>0):\n",
        "    print(\" belongs to 2nd Quadrant.\")\n",
        "else:\n",
        "    print(\" belongs to 4th Quadrant.\")"
      ],
      "metadata": {
        "id": "Se5qT2ksUDDJ"
      },
      "execution_count": null,
      "outputs": []
    }
  ]
}