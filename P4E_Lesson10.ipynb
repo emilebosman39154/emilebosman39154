{
  "nbformat": 4,
  "nbformat_minor": 0,
  "metadata": {
    "colab": {
      "name": "P4E_Lesson10.ipynb",
      "provenance": [],
      "authorship_tag": "ABX9TyPcpI9LjI+qqaPXOR2MttxE",
      "include_colab_link": true
    },
    "kernelspec": {
      "name": "python3",
      "display_name": "Python 3"
    },
    "language_info": {
      "name": "python"
    }
  },
  "cells": [
    {
      "cell_type": "markdown",
      "metadata": {
        "id": "view-in-github",
        "colab_type": "text"
      },
      "source": [
        "<a href=\"https://colab.research.google.com/github/emilebosman39154/emilebosman39154/blob/main/P4E_Lesson10.ipynb\" target=\"_parent\"><img src=\"https://colab.research.google.com/assets/colab-badge.svg\" alt=\"Open In Colab\"/></a>"
      ]
    },
    {
      "cell_type": "markdown",
      "source": [
        "# **Lesson 10 : Strings**\n",
        "\n",
        "String = sequence of letters\n",
        "\n",
        "NB: starting to count from 0 and not 1.  An Index of characters are denoted as [1] or [0], etc. \n",
        "\n",
        "Must be an integer. Cannot be 1.5 only complete numbers."
      ],
      "metadata": {
        "id": "5kD5T4xArapf"
      }
    },
    {
      "cell_type": "code",
      "execution_count": null,
      "metadata": {
        "id": "43LV6FpQrXkV"
      },
      "outputs": [],
      "source": [
        "clothes = \"shirt\"\n",
        "first_letter = clothes[0]\n",
        "print (first_letter)"
      ]
    },
    {
      "cell_type": "markdown",
      "source": [
        "## **String Length**\n",
        "\n",
        "Use a function len()\n"
      ],
      "metadata": {
        "id": "OOlCr-t2u51w"
      }
    },
    {
      "cell_type": "code",
      "source": [
        "len(clothes)"
      ],
      "metadata": {
        "id": "Acty3iaIu_OA"
      },
      "execution_count": null,
      "outputs": []
    },
    {
      "cell_type": "markdown",
      "source": [
        "Getting the last (or any other specific letter from a string."
      ],
      "metadata": {
        "id": "CmlzxlyevQ27"
      }
    },
    {
      "cell_type": "code",
      "source": [
        "length = len(clothes) # variable that provides the length or no. of characters in the string \"clothes\"\n",
        "last = clothes[length-1]    # variable that will identify the last character in the string - need to subtract 1 from the character length.  It is to the right and therefore 1 less will identify it correctly\n",
        "print(last)"
      ],
      "metadata": {
        "id": "iQxIf1MPvXmK"
      },
      "execution_count": null,
      "outputs": []
    },
    {
      "cell_type": "markdown",
      "source": [
        "**NOTE: **a much shorter methods is just using + or - indices:"
      ],
      "metadata": {
        "id": "Oma-kPkzw-ps"
      }
    },
    {
      "cell_type": "code",
      "source": [
        "clothes[-1]"
      ],
      "metadata": {
        "id": "7tbhto7ww6Zl"
      },
      "execution_count": null,
      "outputs": []
    },
    {
      "cell_type": "code",
      "source": [
        "clothes[-3]"
      ],
      "metadata": {
        "id": "2j3pQcMNxJPV"
      },
      "execution_count": null,
      "outputs": []
    },
    {
      "cell_type": "code",
      "source": [
        "clothes[4]"
      ],
      "metadata": {
        "id": "meVRF_0NxLUJ"
      },
      "execution_count": null,
      "outputs": []
    },
    {
      "cell_type": "markdown",
      "source": [
        "## **Looping through Character Strings : Traversal**\n",
        "\n",
        "One way of doing this is with a **while loop**."
      ],
      "metadata": {
        "id": "33h7qnbAxXUY"
      }
    },
    {
      "cell_type": "code",
      "source": [
        "index = 0                    # the first letter in the string starts at index 0\n",
        "while index < len(clothes):  # this will continue until the length (len) of the string has been reached\n",
        "  letter = clothes[index]    # a variable is created to represent eaxh letter of the string (to be printed)\n",
        "  print(letter)              # with the print function each letter identified during the loop will now be printed below one another\n",
        "  index = index + 1          # to continue through the loop the index value has to increase from the initial 0 with an added value of 1\n"
      ],
      "metadata": {
        "id": "oBrLkoAxxrE9"
      },
      "execution_count": null,
      "outputs": []
    },
    {
      "cell_type": "markdown",
      "source": [
        "**NOTE: **a much shorter way of doing this is with a **for loop** - assigning a variable char to it."
      ],
      "metadata": {
        "id": "PrYRmp3fzs0T"
      }
    },
    {
      "cell_type": "code",
      "source": [
        "for char in clothes:\n",
        "  print(char)"
      ],
      "metadata": {
        "id": "3voEyhjdztOU"
      },
      "execution_count": null,
      "outputs": []
    },
    {
      "cell_type": "markdown",
      "source": [
        "## **String Segments or Slices**\n",
        "\n",
        "\n"
      ],
      "metadata": {
        "id": "zkh48H9q92Wi"
      }
    },
    {
      "cell_type": "code",
      "source": [
        "string = \"Monty Python\"\n",
        "print(string[0:5])        # This includes the first (character namely \"0\"), but excludes the last character (namely \"4\")\n"
      ],
      "metadata": {
        "id": "z8l_ZJ6K-PHr"
      },
      "execution_count": null,
      "outputs": []
    },
    {
      "cell_type": "code",
      "source": [
        "print(string[6:12])\n"
      ],
      "metadata": {
        "id": "4n5w_LeR-a7J"
      },
      "execution_count": null,
      "outputs": []
    },
    {
      "cell_type": "markdown",
      "source": [
        "*Leaving out the first or the last index (before or after the colon) let is starts at either the begin or the end of the string.*"
      ],
      "metadata": {
        "id": "To8GWmyq--37"
      }
    },
    {
      "cell_type": "code",
      "source": [
        "new_string = \"apple\"\n",
        "new_string[:4]"
      ],
      "metadata": {
        "colab": {
          "base_uri": "https://localhost:8080/",
          "height": 35
        },
        "id": "FyyzTP-b_N9S",
        "outputId": "2e5d2036-db3b-47bd-f1d2-4aa894bf618d"
      },
      "execution_count": 56,
      "outputs": [
        {
          "output_type": "execute_result",
          "data": {
            "text/plain": [
              "'appl'"
            ],
            "application/vnd.google.colaboratory.intrinsic+json": {
              "type": "string"
            }
          },
          "metadata": {},
          "execution_count": 56
        }
      ]
    },
    {
      "cell_type": "code",
      "source": [
        "new_string[1:]"
      ],
      "metadata": {
        "colab": {
          "base_uri": "https://localhost:8080/",
          "height": 35
        },
        "id": "o3xdZYN-_Vkk",
        "outputId": "fd91e62c-1a50-4c65-ed1e-3c0820da1ba6"
      },
      "execution_count": 57,
      "outputs": [
        {
          "output_type": "execute_result",
          "data": {
            "text/plain": [
              "'pple'"
            ],
            "application/vnd.google.colaboratory.intrinsic+json": {
              "type": "string"
            }
          },
          "metadata": {},
          "execution_count": 57
        }
      ]
    },
    {
      "cell_type": "markdown",
      "source": [
        "**QUESTION:** Given the string \"apple:, what would [:] mean (or return as a value?"
      ],
      "metadata": {
        "id": "zk_2Zf1CAaRe"
      }
    },
    {
      "cell_type": "code",
      "source": [
        "new_string[:]"
      ],
      "metadata": {
        "id": "v5hL-frQATf4"
      },
      "execution_count": null,
      "outputs": []
    },
    {
      "cell_type": "markdown",
      "source": [
        ""
      ],
      "metadata": {
        "id": "hksWDe6KAL_r"
      }
    }
  ]
}