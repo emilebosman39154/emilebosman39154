{
  "cells": [
    {
      "cell_type": "markdown",
      "metadata": {
        "id": "view-in-github",
        "colab_type": "text"
      },
      "source": [
        "<a href=\"https://colab.research.google.com/github/emilebosman39154/emilebosman39154/blob/main/P4E_Chapter_2_3_(Updated_2023).ipynb\" target=\"_parent\"><img src=\"https://colab.research.google.com/assets/colab-badge.svg\" alt=\"Open In Colab\"/></a>"
      ]
    },
    {
      "cell_type": "markdown",
      "source": [
        "# **Chapter 2.3 Variables, Expressions & Statements**"
      ],
      "metadata": {
        "id": "-UV0aLMgvV5H"
      }
    },
    {
      "cell_type": "markdown",
      "metadata": {
        "id": "kuL6ctDUPhBN"
      },
      "source": [
        "## **1. TRY and EXCEPT**\n",
        "\n",
        "E.g. when incorrect input values are received"
      ]
    },
    {
      "cell_type": "code",
      "execution_count": null,
      "metadata": {
        "id": "u3drL5K6MlZj"
      },
      "outputs": [],
      "source": [
        "inp = input('Enter Fahrenheit Temperature: ')\n",
        "fahr = float(inp)\n",
        "cel = (fahr - 32.0) * 5.0 / 9.0\n",
        "print(cel)"
      ]
    },
    {
      "cell_type": "markdown",
      "metadata": {
        "id": "IWDaHCf9Peab"
      },
      "source": [
        "As long as the correct data type is received the results is fine.\n",
        "However, as soon as an invalid input is received the following exception occurs:\n",
        "\n",
        "e.g. **ValueError:**\n",
        "\n",
        "*ValueError: could not convert string to float: 'LTL'*"
      ]
    },
    {
      "cell_type": "code",
      "execution_count": null,
      "metadata": {
        "id": "3HcTMqeJQiZJ"
      },
      "outputs": [],
      "source": [
        "inp = input('Enter Fahrenheit Temperature: ')\n",
        "fahr = float(inp)\n",
        "cel = (fahr - 32.0) * 5.0 / 9.0\n",
        "print(cel)\n",
        "\n"
      ]
    },
    {
      "cell_type": "markdown",
      "metadata": {
        "id": "qV_DYCE9RW3w"
      },
      "source": [
        "### **Use Try and Except code in handling Exceptions**\n",
        "\n",
        "If statements are expected to potentially get problematic input values then a range / single statement(s) (called the **Except Block**) can be added to address this.  Intercepting and error with the Try and Except statement is called \"catching an exception\". It will only execute when an error occurs:\n",
        "\n",
        "**Add to your code:**\n",
        "\n",
        "**Add:**\n",
        "  [code - remember indentation]\n",
        "**Except:**\n",
        "  [code - remember indentation]\n",
        "\n"
      ]
    },
    {
      "cell_type": "code",
      "execution_count": null,
      "metadata": {
        "id": "fQ91GDkFYWuY"
      },
      "outputs": [],
      "source": [
        "inp = input('Enter Fahrenheit Temperature:')\n",
        "try:\n",
        "  fahr = float(inp)\n",
        "  cel = (fahr - 32.0) * 5.0 / 9.0\n",
        "  print(cel)\n",
        "except:\n",
        "  print('Please enter a number')  "
      ]
    },
    {
      "cell_type": "markdown",
      "metadata": {
        "id": "f4hOlfOEf15M"
      },
      "source": [
        "**Short-circuit Evaluation of Logical Expressions**\n",
        "\n",
        "When the evaluation of a logical expression stops because the overall value is already known, it is called short-circuiting the\n",
        "evaluation.\n"
      ]
    },
    {
      "cell_type": "code",
      "execution_count": null,
      "metadata": {
        "id": "QVUYKGrrkagO"
      },
      "outputs": [],
      "source": [
        ">>> x = 6\n",
        ">>> y = 2\n",
        ">>> x >= 2 and (x/y) > 2"
      ]
    },
    {
      "cell_type": "code",
      "execution_count": null,
      "metadata": {
        "id": "2oZIhG4ukeFW"
      },
      "outputs": [],
      "source": [
        ">>> x = 1\n",
        ">>> y = 0\n",
        ">>> x >= 2 and (x/y) > 2"
      ]
    },
    {
      "cell_type": "code",
      "execution_count": null,
      "metadata": {
        "id": "yYVN3nQukhNF"
      },
      "outputs": [],
      "source": [
        ">>> x = 6\n",
        ">>> y = 0\n",
        ">>> x >= 2 and (x/y) > 2"
      ]
    },
    {
      "cell_type": "markdown",
      "metadata": {
        "id": "TJDGmV3ukl2Y"
      },
      "source": [
        "To circumvent the possible errors beinng created by the division by 0, a **Guard Evalution** is introduced before the evaluation likely to cause the error (x/y):"
      ]
    },
    {
      "cell_type": "code",
      "execution_count": null,
      "metadata": {
        "id": "Klx18nfglL_Q"
      },
      "outputs": [],
      "source": [
        ">>> x = 1\n",
        ">>> y = 0\n",
        ">>> x >= 2 and y != 0 and (x/y) > 2"
      ]
    },
    {
      "cell_type": "code",
      "execution_count": null,
      "metadata": {
        "id": "P4-oeMK6lNxv"
      },
      "outputs": [],
      "source": [
        ">>> x = 6\n",
        ">>> y = 0\n",
        ">>> x >= 2 and y != 0 and (x/y) > 2"
      ]
    },
    {
      "cell_type": "code",
      "execution_count": null,
      "metadata": {
        "id": "UtS5Q-SOlLpt"
      },
      "outputs": [],
      "source": [
        ">>> x = 6\n",
        ">>> y = 0\n",
        ">>> x >= 2 and (x/y) > 2 and y != 0"
      ]
    },
    {
      "cell_type": "markdown",
      "metadata": {
        "id": "D_76y1dRfvbH"
      },
      "source": [
        "## **Example: Basic Calculator**\n"
      ]
    },
    {
      "cell_type": "code",
      "execution_count": null,
      "metadata": {
        "id": "gxPGlvmcfzNk"
      },
      "outputs": [],
      "source": [
        "# This function adds two numbers\n",
        "def add(x, y):\n",
        "    return x + y\n",
        "\n",
        "# This function subtracts two numbers\n",
        "def subtract(x, y):\n",
        "    return x - y\n",
        "\n",
        "# This function multiplies two numbers\n",
        "def multiply(x, y):\n",
        "    return x * y\n",
        "\n",
        "# This function divides two numbers\n",
        "def divide(x, y):\n",
        "    return x / y\n",
        "\n",
        "\n",
        "print(\"Select operation.\")\n",
        "print(\"1.Add\")\n",
        "print(\"2.Subtract\")\n",
        "print(\"3.Multiply\")\n",
        "print(\"4.Divide\")\n",
        "\n",
        "# Use a If Then Logical Condition within a While Loop\n",
        "while True:\n",
        "    # take input from the user\n",
        "    choice = input(\"Enter choice(1/2/3/4): \")\n",
        "\n",
        "    # check if choice is one of the four options\n",
        "    if choice in ('1', '2', '3', '4'):\n",
        "        try:\n",
        "            num1 = float(input(\"Enter first number: \"))\n",
        "            num2 = float(input(\"Enter second number: \"))\n",
        "        except ValueError:\n",
        "            print(\"Invalid input. Please enter a number.\")\n",
        "            continue\n",
        "\n",
        "        if choice == '1':\n",
        "            print(num1, \"+\", num2, \"=\", add(num1, num2))\n",
        "\n",
        "        elif choice == '2':\n",
        "            print(num1, \"-\", num2, \"=\", subtract(num1, num2))\n",
        "\n",
        "        elif choice == '3':\n",
        "            print(num1, \"*\", num2, \"=\", multiply(num1, num2))\n",
        "\n",
        "        elif choice == '4':\n",
        "            print(num1, \"/\", num2, \"=\", divide(num1, num2))\n",
        "        \n",
        "        # check if user wants another calculation\n",
        "        # break the while loop if answer is no\n",
        "        next_calculation = input(\"Let's do next calculation? (yes/no): \")\n",
        "        if next_calculation == \"no\":\n",
        "          break\n",
        "    else:\n",
        "        print(\"Invalid Input\")"
      ]
    },
    {
      "cell_type": "markdown",
      "source": [
        "# **Choosing mnemonic variable names**\n",
        "\n",
        "As long as you follow the simple rules of variable naming, and avoid reserved words, you have a lot of choice when you name your variables. \n",
        "\n",
        "In the beginning, this choice can be confusing both when you read a program and when you write your own programs. For example, the following three programs are identical in terms of what they accomplish, but very different when you read them and try to understand them:"
      ],
      "metadata": {
        "id": "6WjyDlhAOb2F"
      }
    },
    {
      "cell_type": "code",
      "source": [
        "a = 35.0\n",
        "b = 12.50\n",
        "c = a * b\n",
        "print(c)"
      ],
      "metadata": {
        "id": "fKnxxz6FObla"
      },
      "execution_count": null,
      "outputs": []
    },
    {
      "cell_type": "code",
      "source": [
        "hours = 35.0\n",
        "rate = 12.50\n",
        "pay = hours * rate\n",
        "print(pay)"
      ],
      "metadata": {
        "id": "vX524cgSPGTy"
      },
      "execution_count": null,
      "outputs": []
    },
    {
      "cell_type": "code",
      "source": [
        "x1q3z9ahd = 35.0\n",
        "x1q3z9afd = 12.50\n",
        "x1q3p9afd = x1q3z9ahd * x1q3z9afd\n",
        "print(x1q3p9afd)\n"
      ],
      "metadata": {
        "id": "YvdPJLYcPLky"
      },
      "execution_count": null,
      "outputs": []
    },
    {
      "cell_type": "markdown",
      "source": [
        "The Python interpreter sees all three of these programs as exactly the same but humans see and understand these programs quite differently. Humans will most quickly understand the intent of the second program because the programmer has chosen variable names that reflect their intent regarding what data will be stored in each variable.\n",
        "\n",
        "We call these wisely chosen variable names **“mnemonic variable names”.** The word **mnemonic** **means “memory aid”.** We choose mnemonic variable names to help us remember why we created the variable in the first place.\n",
        "\n",
        "*----------------------------------------------------------------------*\n",
        "\n",
        "**NOTE:** **Mnemonic**\n",
        "\n",
        "A **mnemonic device** (/nɪˈmɒnɪk/ nih-MON-ik),[1] or memory device, is any learning technique that aids information retention or retrieval (remembering) in the human memory for better understanding.\n",
        "\n",
        "*----------------------------------------------------------------------*"
      ],
      "metadata": {
        "id": "FetQj75ePPgI"
      }
    },
    {
      "cell_type": "markdown",
      "source": [
        "![image.png](data:image/png;base64,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)"
      ],
      "metadata": {
        "id": "zJe7fUs8QDHA"
      }
    },
    {
      "cell_type": "markdown",
      "source": [
        "While this all sounds great, and it is a very good idea to use mnemonic variable names, mnemonic variable names can get in the way of a beginning programmer’s ability to parse and understand code. This is because beginning programmers have not yet memorized the reserved words (there are only 33-36 of them) and sometimes variables with names that are **too descriptive** start to look like part of the language and not just **well-chosen variable names**."
      ],
      "metadata": {
        "id": "ag51I1RhQFqP"
      }
    },
    {
      "cell_type": "markdown",
      "source": [
        "Take a quick look at the following Python sample code which loops through some data. We will cover loops soon, but for now try to just puzzle through what this means:"
      ],
      "metadata": {
        "id": "3PcpgpCFQvXD"
      }
    },
    {
      "cell_type": "code",
      "source": [
        "words = [\"as\", \"soon\", \"as\", \"you\", \"learn\", \"this\", \"it\", \"will\", \"make\",\"sense\"]\n",
        "\n",
        "for word in words:\n",
        "    print(word)"
      ],
      "metadata": {
        "id": "jJ1nwYvIQwoT"
      },
      "execution_count": null,
      "outputs": []
    },
    {
      "cell_type": "markdown",
      "source": [
        "What is happening here? \n",
        "\n",
        "**Which of the tokens (for, word, in, etc.) are reserved words and which are just variable names?**\n",
        "\n",
        "Does Python understand at a fundamental level the notion of words? \n",
        "\n",
        "Beginning programmers have trouble separating what parts of the code must be the same as this example and what parts of the code are simply choices made by the programmer."
      ],
      "metadata": {
        "id": "GR4VlTLnRYmZ"
      }
    },
    {
      "cell_type": "markdown",
      "source": [
        "The following code is equivalent to the above code:"
      ],
      "metadata": {
        "id": "GUfVOUyyRgAo"
      }
    },
    {
      "cell_type": "code",
      "source": [
        "pizza = [\"as\", \"soon\", \"as\", \"you\", \"learn\", \"this\", \"it\", \"will\", \"make\",\"sense\"]\n",
        "\n",
        "for slice in words:\n",
        "    print(slice)"
      ],
      "metadata": {
        "id": "GcRDtIxmRk38"
      },
      "execution_count": null,
      "outputs": []
    },
    {
      "cell_type": "markdown",
      "source": [
        "It is easier for the beginning programmer to look at this code and know which parts are reserved words defined by Python and which parts are simply variable names chosen by the programmer. **It is pretty clear that Python has no fundamental understanding of pizza and slices and the fact that a pizza consists of a set of one or more slices.**\n",
        "\n",
        "But if our program is truly about reading data and looking for words in the data, pizza and slice are very un-mnemonic variable names. Choosing them as variable names distracts from the meaning of the program."
      ],
      "metadata": {
        "id": "7dq4OZCIR_3q"
      }
    },
    {
      "cell_type": "code",
      "source": [
        "for word in words:\n",
        "    print(word)"
      ],
      "metadata": {
        "id": "QJjBT-tVSPeo"
      },
      "execution_count": null,
      "outputs": []
    },
    {
      "cell_type": "markdown",
      "source": [
        "The parts of the code that are defined by Python (**for, in, print, and :**) are in bold and the programmer-chosen variables (word and words) are not in bold. Many text editors are aware of Python syntax and will color reserved words differently to give you clues to keep your variables and reserved words separate. After a while you will begin to read Python and quickly determine what is a variable and what is a reserved word."
      ],
      "metadata": {
        "id": "S4LALNXbSSA4"
      }
    },
    {
      "cell_type": "markdown",
      "source": [
        "# **Glossary:**\n",
        "\n",
        "**assignment**\n",
        "\n",
        "A statement that assigns a value to a variable.\n",
        "\n",
        "**concatenate**\n",
        "\n",
        "To join two operands end to end.\n",
        "\n",
        "**comment**\n",
        "\n",
        "Information in a program that is meant for other programmers (or anyone reading the source code) and has no effect on the execution of the program.\n",
        "evaluate\n",
        "To simplify an expression by performing the operations in order to yield a single value.\n",
        "\n",
        "**expression**\n",
        "\n",
        "A combination of variables, operators, and values that represents a single result value.\n",
        "\n",
        "**floating point**\n",
        "\n",
        "A type that represents numbers with fractional parts.\n",
        "\n",
        "**integer**\n",
        "\n",
        "A type that represents whole numbers.\n",
        "\n",
        "**keyword**\n",
        "\n",
        "A reserved word that is used by the compiler to parse a program; you cannot use keywords like if, def, and while as variable names.\n",
        "\n",
        "**mnemonic**\n",
        "\n",
        "A memory aid. We often give variables mnemonic names to help us remember what is stored in the variable.\n",
        "\n",
        "**modulus operator**\n",
        "\n",
        "An operator, denoted with a percent sign (%), that works on integers and yields the remainder when one number is divided by another.\n",
        "\n",
        "**operand**\n",
        "\n",
        "One of the values on which an operator operates.\n",
        "\n",
        "**operator**\n",
        "\n",
        "A special symbol that represents a simple computation like addition, multiplication, or string concatenation.\n",
        "\n",
        "**rules of precedence**\n",
        "\n",
        "The set of rules governing the order in which expressions involving multiple operators and operands are evaluated.\n",
        "\n",
        "**statement**\n",
        "\n",
        "A section of code that represents a command or action. So far, the statements we have seen are assignments and print expression statement.\n",
        "\n",
        "**string**\n",
        "\n",
        "A type that represents sequences of characters.\n",
        "\n",
        "**type**\n",
        "\n",
        "A category of values. The types we have seen so far are integers (type int), floating-point numbers (type float), and strings (type str).\n",
        "\n",
        "**value**\n",
        "\n",
        "One of the basic units of data, like a number or string, that a program manipulates.\n",
        "\n",
        "**variable**\n",
        "\n",
        "A name that refers to a value."
      ],
      "metadata": {
        "id": "b_hO5rc_WluQ"
      }
    },
    {
      "cell_type": "markdown",
      "source": [
        "# **Exercises:**"
      ],
      "metadata": {
        "id": "XHJJ8_M2YcxW"
      }
    },
    {
      "cell_type": "markdown",
      "source": [
        "**Exercise 1:** Write a program that uses input to prompt a user for their name and then welcomes them."
      ],
      "metadata": {
        "id": "NJGT1AQyYjfn"
      }
    },
    {
      "cell_type": "code",
      "source": [
        "name = input(\"What is your name?\\n\")\n",
        "\n",
        "print(\"Welcome to LTL Robotics\", name)"
      ],
      "metadata": {
        "id": "1oWBS52aYnm4"
      },
      "execution_count": null,
      "outputs": []
    },
    {
      "cell_type": "markdown",
      "source": [
        "**Exercise 2:** Write a program to prompt the user for hours and rate per hour to compute gross pay per month (total pay before any deductions).  Workdays per month is 21.67days at 8h paid per day (or 4.33 weeks/month)."
      ],
      "metadata": {
        "id": "CTKVmfWpnhAU"
      }
    },
    {
      "cell_type": "code",
      "source": [
        "w_hours = input(\"How many hours have you worked this week?\\n\")\n",
        "p_hours = input(\"What is your hourly rate of pay?\")\n",
        "w_hours_day = 8\n",
        "w_days = 21.67\n",
        "w_weeks = 4.33\n",
        "\n",
        "print(\"----\" * 20)\n",
        "print(\"This is the data type of the raw input\")\n",
        "print(type(w_hours))\n",
        "print(type(p_hours))\n",
        "print(\"----\" * 20)\n",
        "\n",
        "# Ensuring the input value are not strings\n",
        "w_hours = int(w_hours)\n",
        "p_hours = int(p_hours)\n",
        "\n",
        "print(\"----\" * 20)\n",
        "print(\"This is the data type of after input value s have been converted to integer values\")              \n",
        "print(type(w_hours))\n",
        "print(type(p_hours)) \n",
        "print(\"----\" * 20)          \n",
        "\n",
        "# Calculating the pay per week and then per month (total_pay)\n",
        "\n",
        "print(\"----\" * 20)\n",
        "print(\"This is the Total Pay per Month\") \n",
        "pay_week = int(w_hours * p_hours)\n",
        "total_pay = int(pay_week * w_weeks)\n",
        "\n",
        "print(\"R\",total_pay)"
      ],
      "metadata": {
        "id": "nwqYshFyn2G3"
      },
      "execution_count": null,
      "outputs": []
    },
    {
      "cell_type": "markdown",
      "source": [
        "**Exercise 3:** Assume that we execute the following assignment statements: below.\n",
        "\n",
        "For each of the following expressions, **write the code** to calculate the **value of the expression** and **its type** (of the value of the expression)."
      ],
      "metadata": {
        "id": "emIQ97lKtJUy"
      }
    },
    {
      "cell_type": "code",
      "source": [
        "width = 17\n",
        "height = 12.0\n",
        "\n",
        "print(\"----\" * 20)\n",
        "print(\"This is results of floor division \\\"width//2\\\":\")  # Escape Character \\\n",
        "x = width//2\n",
        "print(x)\n",
        "print(type(x))\n",
        "\n",
        "print(\"----\" * 20)\n",
        "print(\"This is results of division \\\"width/2.0\\\":\")\n",
        "y = width/2.0\n",
        "print(y)\n",
        "print(type(y))\n",
        "\n",
        "print(\"----\" * 20)\n",
        "print(\"This is results of floor division \\\"height/3\\\":\")\n",
        "z = height/3\n",
        "print(z)\n",
        "print(type(z))\n",
        "\n",
        "print(\"----\" * 20)\n",
        "print(\"This is results of equation \\\"1 + 2 * 5\\\":\")\n",
        "w = 1 + 2 * 5\n",
        "print(w)\n",
        "print(type(w))\n"
      ],
      "metadata": {
        "id": "6eyITUU4tLRz"
      },
      "execution_count": null,
      "outputs": []
    }
  ],
  "metadata": {
    "colab": {
      "provenance": [],
      "include_colab_link": true
    },
    "kernelspec": {
      "display_name": "Python 3",
      "name": "python3"
    },
    "language_info": {
      "name": "python"
    }
  },
  "nbformat": 4,
  "nbformat_minor": 0
}