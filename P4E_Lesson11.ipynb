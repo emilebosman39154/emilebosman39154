{
  "nbformat": 4,
  "nbformat_minor": 0,
  "metadata": {
    "colab": {
      "name": "P4E_Lesson10.ipynb",
      "provenance": [],
      "authorship_tag": "ABX9TyMOqdrRlHEYowswowlTwx9b",
      "include_colab_link": true
    },
    "kernelspec": {
      "name": "python3",
      "display_name": "Python 3"
    },
    "language_info": {
      "name": "python"
    }
  },
  "cells": [
    {
      "cell_type": "markdown",
      "metadata": {
        "id": "view-in-github",
        "colab_type": "text"
      },
      "source": [
        "<a href=\"https://colab.research.google.com/github/emilebosman39154/emilebosman39154/blob/main/P4E_Lesson11.ipynb\" target=\"_parent\"><img src=\"https://colab.research.google.com/assets/colab-badge.svg\" alt=\"Open In Colab\"/></a>"
      ]
    },
    {
      "cell_type": "markdown",
      "source": [
        "# **Lesson 11 : Strings (continue)**\n",
        "\n",
        "String = sequence of letters\n",
        "\n",
        "NB: starting to count from 0 and not 1.  An Index of characters are denoted as [1] or [0], etc. \n",
        "\n",
        "Must be an integer. Cannot be 1.5 only complete numbers."
      ],
      "metadata": {
        "id": "5kD5T4xArapf"
      }
    },
    {
      "cell_type": "markdown",
      "source": [
        "# **Quick Test**\n",
        "\n",
        "1. Write the code to extraxt the 6 letter of the word: ambidextrous\n",
        "\n",
        "2. Determine the length of the word ambidextrous by using a function\n",
        "\n",
        "3. Print the last letter of the word ambidextrous by using a negative value in and index\n",
        "\n",
        "4. Use a for loop to print all the characters of ambidextrous (below one another)\n",
        "\n",
        "5.  In the string: \"I love to code in Python!\" write the code to slice the string in showing the text in from the 10-14 character.  Also write the code to show only the text characters: \"Python\".\n",
        "\n",
        "6. Use a slice of string index to show the whole string: \"ambidextrous\"\n",
        "\n"
      ],
      "metadata": {
        "id": "nqAkyfMtIrv1"
      }
    },
    {
      "cell_type": "markdown",
      "source": [
        "# **Code Answers**"
      ],
      "metadata": {
        "id": "_FbbdrjHNss1"
      }
    },
    {
      "cell_type": "code",
      "source": [
        "word = \"ambidextrous\"\n",
        "letter = word[6]\n",
        "print(letter)"
      ],
      "metadata": {
        "id": "JskB6NvILSKK"
      },
      "execution_count": null,
      "outputs": []
    },
    {
      "cell_type": "code",
      "source": [
        "len(word)"
      ],
      "metadata": {
        "id": "K5sOnFJ2Mbr6"
      },
      "execution_count": null,
      "outputs": []
    },
    {
      "cell_type": "code",
      "source": [
        "word[-1]"
      ],
      "metadata": {
        "id": "HMV1zzCWMg_e"
      },
      "execution_count": null,
      "outputs": []
    },
    {
      "cell_type": "code",
      "source": [
        "for char in word:\n",
        "  print(char)\n"
      ],
      "metadata": {
        "id": "a1M3ldCzMoFp"
      },
      "execution_count": null,
      "outputs": []
    },
    {
      "cell_type": "code",
      "source": [
        "string = \"I love to code in Python!\" \n",
        "print(string[10:14])        # This includes the first (character namely \"0\"), but excludes the last character (namely \"4\")\n",
        "print(string[18:24]) "
      ],
      "metadata": {
        "id": "7LohImdZLSwo"
      },
      "execution_count": null,
      "outputs": []
    },
    {
      "cell_type": "code",
      "source": [
        "word[:]"
      ],
      "metadata": {
        "id": "M1uwaZ3PNl93"
      },
      "execution_count": null,
      "outputs": []
    },
    {
      "cell_type": "markdown",
      "source": [
        "## **Review from Previous Lesson:**"
      ],
      "metadata": {
        "id": "-cYfNYOwL1Rg"
      }
    },
    {
      "cell_type": "code",
      "execution_count": 2,
      "metadata": {
        "id": "43LV6FpQrXkV",
        "outputId": "dd5a2237-4f64-4830-ac60-ed8bf297f8f3",
        "colab": {
          "base_uri": "https://localhost:8080/"
        }
      },
      "outputs": [
        {
          "output_type": "stream",
          "name": "stdout",
          "text": [
            "t\n"
          ]
        }
      ],
      "source": [
        "clothes = \"shirt\"\n",
        "first_letter = clothes[4]\n",
        "print (first_letter)"
      ]
    },
    {
      "cell_type": "markdown",
      "source": [
        "## **String Length**\n",
        "\n",
        "Use a function len()\n"
      ],
      "metadata": {
        "id": "OOlCr-t2u51w"
      }
    },
    {
      "cell_type": "code",
      "source": [
        "len(clothes)"
      ],
      "metadata": {
        "id": "Acty3iaIu_OA",
        "outputId": "d0cc394d-8f99-46cb-84d8-fc8b77298a74",
        "colab": {
          "base_uri": "https://localhost:8080/"
        }
      },
      "execution_count": 3,
      "outputs": [
        {
          "output_type": "execute_result",
          "data": {
            "text/plain": [
              "5"
            ]
          },
          "metadata": {},
          "execution_count": 3
        }
      ]
    },
    {
      "cell_type": "markdown",
      "source": [
        "Getting the last (or any other specific letter from a string."
      ],
      "metadata": {
        "id": "CmlzxlyevQ27"
      }
    },
    {
      "cell_type": "code",
      "source": [
        "length = len(clothes) # variable that provides the length or no. of characters in the string \"clothes\"\n",
        "last = clothes[length-1]    # variable that will identify the last character in the string - need to subtract 1 from the character length.  It is to the right and therefore 1 less will identify it correctly\n",
        "print(last)"
      ],
      "metadata": {
        "id": "iQxIf1MPvXmK"
      },
      "execution_count": null,
      "outputs": []
    },
    {
      "cell_type": "markdown",
      "source": [
        "**NOTE: **a much shorter methods is just using + or - indices:"
      ],
      "metadata": {
        "id": "Oma-kPkzw-ps"
      }
    },
    {
      "cell_type": "code",
      "source": [
        "clothes[-1]"
      ],
      "metadata": {
        "id": "7tbhto7ww6Zl"
      },
      "execution_count": null,
      "outputs": []
    },
    {
      "cell_type": "code",
      "source": [
        "clothes[-3]"
      ],
      "metadata": {
        "id": "2j3pQcMNxJPV"
      },
      "execution_count": null,
      "outputs": []
    },
    {
      "cell_type": "code",
      "source": [
        "clothes[4]"
      ],
      "metadata": {
        "id": "meVRF_0NxLUJ"
      },
      "execution_count": null,
      "outputs": []
    },
    {
      "cell_type": "markdown",
      "source": [
        "## **Looping through Character Strings : Traversal**\n",
        "\n",
        "One way of doing this is with a **while loop**."
      ],
      "metadata": {
        "id": "33h7qnbAxXUY"
      }
    },
    {
      "cell_type": "code",
      "source": [
        "index = 0                    # the first letter in the string starts at index 0\n",
        "while index < len(clothes):  # this will continue until the length (len) of the string has been reached\n",
        "  letter = clothes[index]    # a variable is created to represent eaxh letter of the string (to be printed)\n",
        "  print(letter)              # with the print function each letter identified during the loop will now be printed below one another\n",
        "  index = index + 1          # to continue through the loop the index value has to increase from the initial 0 with an added value of 1\n"
      ],
      "metadata": {
        "id": "oBrLkoAxxrE9"
      },
      "execution_count": null,
      "outputs": []
    },
    {
      "cell_type": "markdown",
      "source": [
        "**NOTE: **a much shorter way of doing this is with a **for loop** - assigning a variable char to it."
      ],
      "metadata": {
        "id": "PrYRmp3fzs0T"
      }
    },
    {
      "cell_type": "code",
      "source": [
        "for char in clothes:\n",
        "  print(char)"
      ],
      "metadata": {
        "id": "3voEyhjdztOU",
        "outputId": "dde53558-6ed2-468a-c318-3028e092b7d0",
        "colab": {
          "base_uri": "https://localhost:8080/"
        }
      },
      "execution_count": 4,
      "outputs": [
        {
          "output_type": "stream",
          "name": "stdout",
          "text": [
            "s\n",
            "h\n",
            "i\n",
            "r\n",
            "t\n"
          ]
        }
      ]
    },
    {
      "cell_type": "markdown",
      "source": [
        "## **String Segments or Slices**\n",
        "\n",
        "\n"
      ],
      "metadata": {
        "id": "zkh48H9q92Wi"
      }
    },
    {
      "cell_type": "code",
      "source": [
        "string = \"Monty Python\"\n",
        "print(string[0:5])        # This includes the first (character namely \"0\"), but excludes the last character (namely \"4\")\n"
      ],
      "metadata": {
        "id": "z8l_ZJ6K-PHr",
        "colab": {
          "base_uri": "https://localhost:8080/"
        },
        "outputId": "87dbc824-3f42-4462-fadf-799759dcbd90"
      },
      "execution_count": 7,
      "outputs": [
        {
          "output_type": "stream",
          "name": "stdout",
          "text": [
            "Monty\n"
          ]
        }
      ]
    },
    {
      "cell_type": "code",
      "source": [
        "print(string[6:12])\n"
      ],
      "metadata": {
        "id": "4n5w_LeR-a7J",
        "outputId": "6e8ad2fd-cd03-4c63-ecb3-f7014f4adca0",
        "colab": {
          "base_uri": "https://localhost:8080/"
        }
      },
      "execution_count": 8,
      "outputs": [
        {
          "output_type": "stream",
          "name": "stdout",
          "text": [
            "Python\n"
          ]
        }
      ]
    },
    {
      "cell_type": "markdown",
      "source": [
        "*Leaving out the first or the last index (before or after the colon) let is starts at either the begin or the end of the string.*"
      ],
      "metadata": {
        "id": "To8GWmyq--37"
      }
    },
    {
      "cell_type": "code",
      "source": [
        "new_string = \"apple\"\n",
        "new_string[:4]"
      ],
      "metadata": {
        "colab": {
          "base_uri": "https://localhost:8080/",
          "height": 35
        },
        "id": "FyyzTP-b_N9S",
        "outputId": "38e8584e-831a-4df0-a1df-04e3a87abac0"
      },
      "execution_count": 18,
      "outputs": [
        {
          "output_type": "execute_result",
          "data": {
            "text/plain": [
              "'appl'"
            ],
            "application/vnd.google.colaboratory.intrinsic+json": {
              "type": "string"
            }
          },
          "metadata": {},
          "execution_count": 18
        }
      ]
    },
    {
      "cell_type": "code",
      "source": [
        "new_string[1:]"
      ],
      "metadata": {
        "colab": {
          "base_uri": "https://localhost:8080/",
          "height": 35
        },
        "id": "o3xdZYN-_Vkk",
        "outputId": "412f9551-6b6f-4901-d345-c4aec028fb2b"
      },
      "execution_count": 19,
      "outputs": [
        {
          "output_type": "execute_result",
          "data": {
            "text/plain": [
              "'pple'"
            ],
            "application/vnd.google.colaboratory.intrinsic+json": {
              "type": "string"
            }
          },
          "metadata": {},
          "execution_count": 19
        }
      ]
    },
    {
      "cell_type": "markdown",
      "source": [
        "**QUESTION:** Given the string \"apple:, what would [:] mean (or return as a value?"
      ],
      "metadata": {
        "id": "zk_2Zf1CAaRe"
      }
    },
    {
      "cell_type": "code",
      "source": [
        "new_string[:]"
      ],
      "metadata": {
        "id": "v5hL-frQATf4",
        "outputId": "9f5f2fe2-233f-42b1-833b-4f6a5f4240ba",
        "colab": {
          "base_uri": "https://localhost:8080/",
          "height": 35
        }
      },
      "execution_count": 20,
      "outputs": [
        {
          "output_type": "execute_result",
          "data": {
            "text/plain": [
              "'apple'"
            ],
            "application/vnd.google.colaboratory.intrinsic+json": {
              "type": "string"
            }
          },
          "metadata": {},
          "execution_count": 20
        }
      ]
    },
    {
      "cell_type": "markdown",
      "source": [
        "## **Strings Continue**\n",
        "\n"
      ],
      "metadata": {
        "id": "hksWDe6KAL_r"
      }
    },
    {
      "cell_type": "markdown",
      "source": [
        "**Immutable & Mutable**\n",
        "\n",
        "What does Immutable means: It means the string in this instance cannot be changed.  The string is referred to as an 'object', while the letters in the strings are 'items'.  'Object' = same as a value (e.g. 34526) and 'item' is one of the values in a sequence (e.g. 5).\n",
        "\n",
        "That is why you get the following error in the code below:\n",
        "\n",
        "*TypeError: 'str' object does not support item assignment*\n",
        "\n",
        "---\n",
        "❓\n",
        "**Which data type are mutable / immutable?**\n",
        "\n",
        "**Immutable:** for example a ***number***, a ***string***, and a ***tuple***.\n",
        "\n",
        "**Mutable:** for example a ***list***, a ***set***, and a ***dictionary***."
      ],
      "metadata": {
        "id": "ByMW5HmTOpor"
      }
    },
    {
      "cell_type": "code",
      "source": [
        "greeting = 'Hello, world!'\n",
        "greeting[0] = 'J'"
      ],
      "metadata": {
        "id": "XJ3yaI8sOgdL"
      },
      "execution_count": null,
      "outputs": []
    }
  ]
}