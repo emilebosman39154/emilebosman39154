{
  "nbformat": 4,
  "nbformat_minor": 0,
  "metadata": {
    "colab": {
      "name": "P4E_Lesson10.ipynb",
      "provenance": [],
      "authorship_tag": "ABX9TyNAYNdQ+aHczfNqw5Wcb+Gg",
      "include_colab_link": true
    },
    "kernelspec": {
      "name": "python3",
      "display_name": "Python 3"
    },
    "language_info": {
      "name": "python"
    }
  },
  "cells": [
    {
      "cell_type": "markdown",
      "metadata": {
        "id": "view-in-github",
        "colab_type": "text"
      },
      "source": [
        "<a href=\"https://colab.research.google.com/github/emilebosman39154/emilebosman39154/blob/main/P4E_Lesson11.ipynb\" target=\"_parent\"><img src=\"https://colab.research.google.com/assets/colab-badge.svg\" alt=\"Open In Colab\"/></a>"
      ]
    },
    {
      "cell_type": "markdown",
      "source": [
        "# **Lesson 11 : Strings (continue)**\n",
        "\n",
        "String = sequence of letters\n",
        "\n",
        "NB: starting to count from 0 and not 1.  An Index of characters are denoted as [1] or [0], etc. \n",
        "\n",
        "Must be an integer. Cannot be 1.5 only complete numbers."
      ],
      "metadata": {
        "id": "5kD5T4xArapf"
      }
    },
    {
      "cell_type": "markdown",
      "source": [
        "# **Quick Test**\n",
        "\n",
        "1. Write the code to extraxt the 6 letter of the word: ambidextrous\n",
        "\n",
        "2. Determine the length of the word ambidextrous by using a function\n",
        "\n",
        "3. Print the last letter of the word ambidextrous by using a negative value in and index\n",
        "\n",
        "4. Use a for loop to print all the characters of ambidextrous (below one another)\n",
        "\n",
        "5.  In the string: \"I love to code in Python!\" write the code to slice the string in showing the text in from the 10-14 character.  Also write the code to show only the text characters: \"Python\".\n",
        "\n",
        "6. Use a slice of string index to show the whole string: \"ambidextrous\"\n",
        "\n"
      ],
      "metadata": {
        "id": "nqAkyfMtIrv1"
      }
    },
    {
      "cell_type": "markdown",
      "source": [
        "# **Code Answers**"
      ],
      "metadata": {
        "id": "_FbbdrjHNss1"
      }
    },
    {
      "cell_type": "code",
      "source": [
        "word = \"ambidextrous\"\n",
        "letter = word[6]\n",
        "print(letter)"
      ],
      "metadata": {
        "id": "JskB6NvILSKK"
      },
      "execution_count": null,
      "outputs": []
    },
    {
      "cell_type": "code",
      "source": [
        "len(word)"
      ],
      "metadata": {
        "id": "K5sOnFJ2Mbr6"
      },
      "execution_count": null,
      "outputs": []
    },
    {
      "cell_type": "code",
      "source": [
        "word[-1]"
      ],
      "metadata": {
        "id": "HMV1zzCWMg_e"
      },
      "execution_count": null,
      "outputs": []
    },
    {
      "cell_type": "code",
      "source": [
        "for char in word:\n",
        "  print(char)\n"
      ],
      "metadata": {
        "id": "a1M3ldCzMoFp"
      },
      "execution_count": null,
      "outputs": []
    },
    {
      "cell_type": "code",
      "source": [
        "string = \"I love to code in Python!\" \n",
        "print(string[10:14])        # This includes the first (character namely \"0\"), but excludes the last character (namely \"4\")\n",
        "print(string[18:24]) "
      ],
      "metadata": {
        "id": "7LohImdZLSwo"
      },
      "execution_count": null,
      "outputs": []
    },
    {
      "cell_type": "code",
      "source": [
        "word[:]"
      ],
      "metadata": {
        "id": "M1uwaZ3PNl93"
      },
      "execution_count": null,
      "outputs": []
    },
    {
      "cell_type": "markdown",
      "source": [
        "## **Review from Previous Lesson:**"
      ],
      "metadata": {
        "id": "-cYfNYOwL1Rg"
      }
    },
    {
      "cell_type": "code",
      "execution_count": null,
      "metadata": {
        "id": "43LV6FpQrXkV",
        "outputId": "dd5a2237-4f64-4830-ac60-ed8bf297f8f3",
        "colab": {
          "base_uri": "https://localhost:8080/"
        }
      },
      "outputs": [
        {
          "output_type": "stream",
          "name": "stdout",
          "text": [
            "t\n"
          ]
        }
      ],
      "source": [
        "clothes = \"shirt\"\n",
        "first_letter = clothes[4]\n",
        "print (first_letter)"
      ]
    },
    {
      "cell_type": "markdown",
      "source": [
        "## **String Length**\n",
        "\n",
        "Use a function len()\n"
      ],
      "metadata": {
        "id": "OOlCr-t2u51w"
      }
    },
    {
      "cell_type": "code",
      "source": [
        "len(clothes)"
      ],
      "metadata": {
        "id": "Acty3iaIu_OA",
        "outputId": "d0cc394d-8f99-46cb-84d8-fc8b77298a74",
        "colab": {
          "base_uri": "https://localhost:8080/"
        }
      },
      "execution_count": null,
      "outputs": [
        {
          "output_type": "execute_result",
          "data": {
            "text/plain": [
              "5"
            ]
          },
          "metadata": {},
          "execution_count": 3
        }
      ]
    },
    {
      "cell_type": "markdown",
      "source": [
        "Getting the last (or any other specific letter from a string."
      ],
      "metadata": {
        "id": "CmlzxlyevQ27"
      }
    },
    {
      "cell_type": "code",
      "source": [
        "length = len(clothes) # variable that provides the length or no. of characters in the string \"clothes\"\n",
        "last = clothes[length-1]    # variable that will identify the last character in the string - need to subtract 1 from the character length.  It is to the right and therefore 1 less will identify it correctly\n",
        "print(last)"
      ],
      "metadata": {
        "id": "iQxIf1MPvXmK"
      },
      "execution_count": null,
      "outputs": []
    },
    {
      "cell_type": "markdown",
      "source": [
        "**NOTE: **a much shorter methods is just using + or - indices:"
      ],
      "metadata": {
        "id": "Oma-kPkzw-ps"
      }
    },
    {
      "cell_type": "code",
      "source": [
        "clothes[-1]"
      ],
      "metadata": {
        "id": "7tbhto7ww6Zl"
      },
      "execution_count": null,
      "outputs": []
    },
    {
      "cell_type": "code",
      "source": [
        "clothes[-3]"
      ],
      "metadata": {
        "id": "2j3pQcMNxJPV"
      },
      "execution_count": null,
      "outputs": []
    },
    {
      "cell_type": "code",
      "source": [
        "clothes[4]"
      ],
      "metadata": {
        "id": "meVRF_0NxLUJ"
      },
      "execution_count": null,
      "outputs": []
    },
    {
      "cell_type": "markdown",
      "source": [
        "## **Looping through Character Strings : Traversal**\n",
        "\n",
        "One way of doing this is with a **while loop**."
      ],
      "metadata": {
        "id": "33h7qnbAxXUY"
      }
    },
    {
      "cell_type": "code",
      "source": [
        "index = 0                    # the first letter in the string starts at index 0\n",
        "while index < len(clothes):  # this will continue until the length (len) of the string has been reached\n",
        "  letter = clothes[index]    # a variable is created to represent eaxh letter of the string (to be printed)\n",
        "  print(letter)              # with the print function each letter identified during the loop will now be printed below one another\n",
        "  index = index + 1          # to continue through the loop the index value has to increase from the initial 0 with an added value of 1\n"
      ],
      "metadata": {
        "id": "oBrLkoAxxrE9"
      },
      "execution_count": null,
      "outputs": []
    },
    {
      "cell_type": "markdown",
      "source": [
        "**NOTE: **a much shorter way of doing this is with a **for loop** - assigning a variable char to it."
      ],
      "metadata": {
        "id": "PrYRmp3fzs0T"
      }
    },
    {
      "cell_type": "code",
      "source": [
        "for char in clothes:\n",
        "  print(char)"
      ],
      "metadata": {
        "id": "3voEyhjdztOU",
        "outputId": "dde53558-6ed2-468a-c318-3028e092b7d0",
        "colab": {
          "base_uri": "https://localhost:8080/"
        }
      },
      "execution_count": null,
      "outputs": [
        {
          "output_type": "stream",
          "name": "stdout",
          "text": [
            "s\n",
            "h\n",
            "i\n",
            "r\n",
            "t\n"
          ]
        }
      ]
    },
    {
      "cell_type": "markdown",
      "source": [
        "## **String Segments or Slices**\n",
        "\n",
        "\n"
      ],
      "metadata": {
        "id": "zkh48H9q92Wi"
      }
    },
    {
      "cell_type": "code",
      "source": [
        "string = \"Monty Python\"\n",
        "print(string[0:5])        # This includes the first (character namely \"0\"), but excludes the last character (namely \"4\")\n"
      ],
      "metadata": {
        "id": "z8l_ZJ6K-PHr",
        "colab": {
          "base_uri": "https://localhost:8080/"
        },
        "outputId": "87dbc824-3f42-4462-fadf-799759dcbd90"
      },
      "execution_count": null,
      "outputs": [
        {
          "output_type": "stream",
          "name": "stdout",
          "text": [
            "Monty\n"
          ]
        }
      ]
    },
    {
      "cell_type": "code",
      "source": [
        "print(string[6:12])\n"
      ],
      "metadata": {
        "id": "4n5w_LeR-a7J",
        "outputId": "6e8ad2fd-cd03-4c63-ecb3-f7014f4adca0",
        "colab": {
          "base_uri": "https://localhost:8080/"
        }
      },
      "execution_count": null,
      "outputs": [
        {
          "output_type": "stream",
          "name": "stdout",
          "text": [
            "Python\n"
          ]
        }
      ]
    },
    {
      "cell_type": "markdown",
      "source": [
        "*Leaving out the first or the last index (before or after the colon) let is starts at either the begin or the end of the string.*"
      ],
      "metadata": {
        "id": "To8GWmyq--37"
      }
    },
    {
      "cell_type": "code",
      "source": [
        "new_string = \"apple\"\n",
        "new_string[:4]"
      ],
      "metadata": {
        "colab": {
          "base_uri": "https://localhost:8080/",
          "height": 35
        },
        "id": "FyyzTP-b_N9S",
        "outputId": "38e8584e-831a-4df0-a1df-04e3a87abac0"
      },
      "execution_count": null,
      "outputs": [
        {
          "output_type": "execute_result",
          "data": {
            "text/plain": [
              "'appl'"
            ],
            "application/vnd.google.colaboratory.intrinsic+json": {
              "type": "string"
            }
          },
          "metadata": {},
          "execution_count": 18
        }
      ]
    },
    {
      "cell_type": "code",
      "source": [
        "new_string[1:]"
      ],
      "metadata": {
        "colab": {
          "base_uri": "https://localhost:8080/",
          "height": 35
        },
        "id": "o3xdZYN-_Vkk",
        "outputId": "412f9551-6b6f-4901-d345-c4aec028fb2b"
      },
      "execution_count": null,
      "outputs": [
        {
          "output_type": "execute_result",
          "data": {
            "text/plain": [
              "'pple'"
            ],
            "application/vnd.google.colaboratory.intrinsic+json": {
              "type": "string"
            }
          },
          "metadata": {},
          "execution_count": 19
        }
      ]
    },
    {
      "cell_type": "markdown",
      "source": [
        "**QUESTION:** Given the string \"apple:, what would [:] mean (or return as a value?"
      ],
      "metadata": {
        "id": "zk_2Zf1CAaRe"
      }
    },
    {
      "cell_type": "code",
      "source": [
        "new_string[:]"
      ],
      "metadata": {
        "id": "v5hL-frQATf4",
        "outputId": "9f5f2fe2-233f-42b1-833b-4f6a5f4240ba",
        "colab": {
          "base_uri": "https://localhost:8080/",
          "height": 35
        }
      },
      "execution_count": null,
      "outputs": [
        {
          "output_type": "execute_result",
          "data": {
            "text/plain": [
              "'apple'"
            ],
            "application/vnd.google.colaboratory.intrinsic+json": {
              "type": "string"
            }
          },
          "metadata": {},
          "execution_count": 20
        }
      ]
    },
    {
      "cell_type": "markdown",
      "source": [
        "## **Strings Continue**\n",
        "\n"
      ],
      "metadata": {
        "id": "hksWDe6KAL_r"
      }
    },
    {
      "cell_type": "markdown",
      "source": [
        "**Immutable & Mutable**\n",
        "\n",
        "What does Immutable means: It means the string in this instance cannot be changed.  The string is referred to as an 'object', while the letters in the strings are 'items'.  'Object' = same as a value (e.g. 34526) and 'item' is one of the values in a sequence (e.g. 5).\n",
        "\n",
        "That is why you get the following error in the code below:\n",
        "\n",
        "*TypeError: 'str' object does not support item assignment*\n",
        "\n",
        "---\n",
        "❓\n",
        "**Which data type are mutable / immutable?**\n",
        "\n",
        "**Immutable:** for example a ***number***, a ***string***, and a ***tuple***.\n",
        "\n",
        "**Mutable:** for example a ***list***, a ***set***, and a ***dictionary***."
      ],
      "metadata": {
        "id": "ByMW5HmTOpor"
      }
    },
    {
      "cell_type": "code",
      "source": [
        "greeting = 'Hello, world!'\n",
        "greeting[0] = 'J'"
      ],
      "metadata": {
        "id": "XJ3yaI8sOgdL"
      },
      "execution_count": null,
      "outputs": []
    },
    {
      "cell_type": "markdown",
      "source": [
        "\n",
        "**Immutable Further Explained:**\n"
      ],
      "metadata": {
        "id": "rftyfOqPSSie"
      }
    },
    {
      "cell_type": "code",
      "source": [
        "age = 42\n",
        "print(id(age))    # id of the object 'age' - id never changes\n",
        "print(type(age))  # type of object also never changes since it support certain operations \n",
        "print(age)        # value that can change or also cannot - it depends on what you do with it"
      ],
      "metadata": {
        "colab": {
          "base_uri": "https://localhost:8080/"
        },
        "id": "6AfpL1P1SZLs",
        "outputId": "54d5e5b9-350d-4eb9-9840-b5fa233874f3"
      },
      "execution_count": null,
      "outputs": [
        {
          "output_type": "stream",
          "name": "stdout",
          "text": [
            "11257376\n",
            "<class 'int'>\n",
            "42\n"
          ]
        }
      ]
    },
    {
      "cell_type": "code",
      "source": [
        "age = 43\n",
        "print(age)\n",
        "print(id(age))"
      ],
      "metadata": {
        "colab": {
          "base_uri": "https://localhost:8080/"
        },
        "id": "yubJvQalTUz3",
        "outputId": "527b8696-6726-413a-88ce-64ce37244c93"
      },
      "execution_count": null,
      "outputs": [
        {
          "output_type": "stream",
          "name": "stdout",
          "text": [
            "43\n",
            "11257408\n"
          ]
        }
      ]
    },
    {
      "cell_type": "markdown",
      "source": [
        "### **VERY important in above:**\n",
        "\n",
        "We did NOT change the value of the variable age from 42 to 43.. We merely point it to another location!?  Makes sense?\n",
        "\n",
        "**When we type age = 43, what happens is that *another object is created*, of the type int and value 43 (also, the id will be different), and the name age is set to point to it. So, we didn’t change that 42 to 43.**\n",
        "\n",
        "---\n",
        "\n",
        "### **Python is an OOP Lanaguage**\n",
        "\n",
        "*Object-orientated Programming Language*\n",
        "\n",
        "Object-oriented programming (OOP) is a method of structuring a program by bundling related properties and behaviors into individual objects. In this tutorial, you’ll learn the basics of object-oriented programming in Python.\n",
        "\n",
        "Conceptually, objects are like the components of a system. Think of a program as a factory assembly line of sorts. At each step of the assembly line a system component processes some material, ultimately transforming raw material into a finished product.\n",
        "\n",
        "###**“everything in Python is an object”**\n",
        "\n",
        "\n",
        "\n",
        "\n",
        "\n",
        "\n",
        "\n"
      ],
      "metadata": {
        "id": "crEVHa3pTkfC"
      }
    },
    {
      "cell_type": "markdown",
      "source": [
        "**Mutable Further explained:**\n",
        "\n"
      ],
      "metadata": {
        "id": "rN9KdBwFV-eB"
      }
    },
    {
      "cell_type": "code",
      "source": [
        "x = [1, 2, 3]\n",
        "print(x)\n",
        "print(id(x))\n",
        "\n",
        "\n",
        "x.pop()\n",
        "print(x)\n",
        "print(id(x))\n"
      ],
      "metadata": {
        "id": "S_SykLLUWEmm",
        "outputId": "fb7aa8c9-8901-441d-fb55-242746467f1e",
        "colab": {
          "base_uri": "https://localhost:8080/"
        }
      },
      "execution_count": null,
      "outputs": [
        {
          "output_type": "stream",
          "name": "stdout",
          "text": [
            "[1, 2, 3]\n",
            "139884506316880\n",
            "[1, 2]\n",
            "139884506316880\n"
          ]
        }
      ]
    },
    {
      "cell_type": "markdown",
      "source": [
        "In the above example, we created a list named x that contains 3 integers, 1, 2, and 3. After we change x by “popping” off the last value 3, the ID of x stays the same even though the list have changed (mutable nature of lists)!\n",
        "\n",
        "Note: List pop in Python is a pre-defined, in-built function that removes an item at the specified index from the list.  \n",
        "\n",
        "If used without and index value if will remove the last value from the list.\n",
        "\n",
        "**NOTE: IMPORTANT**\n",
        "\n",
        "Everytime you amend the list the list changes (obviously).  So what happens when I start with:\n",
        "\n",
        "y = [1,2,3]\n",
        "\n",
        "and then run?  **Why do I get an error on the last y.pop()?**\n",
        "\n",
        "y.pop()\n",
        "\n",
        "y.pop()\n",
        "\n",
        "y.pop()\n",
        "\n",
        "y.pop()\n"
      ],
      "metadata": {
        "id": "LXFpUcTGWbzx"
      }
    },
    {
      "cell_type": "code",
      "source": [
        "y = [1, 2, 3]\n",
        "print(y)\n",
        "\n",
        "y.pop()\n",
        "print(y)\n",
        "y.pop()\n",
        "print(y)\n",
        "y.pop()\n",
        "print(y)\n",
        "y.pop()\n",
        "print(y)"
      ],
      "metadata": {
        "id": "9ow2S-2qXXkX"
      },
      "execution_count": null,
      "outputs": []
    },
    {
      "cell_type": "markdown",
      "source": [
        "**A Function using Mutable Data Types**\n",
        "\n",
        "append() in a list\n",
        "\n"
      ],
      "metadata": {
        "id": "gR9tBmZOfOPp"
      }
    },
    {
      "cell_type": "code",
      "source": [
        "a = list(('apple', 'banana', 'clementine'))\n",
        "print(id(a))\n",
        "print(a)\n",
        "a.append('dates')\n",
        "print(id(a))\n",
        "print(a)"
      ],
      "metadata": {
        "id": "jtIX_ZQ2fTDe",
        "outputId": "b4cfd7f4-e517-4d43-e6c3-ab679260ef14",
        "colab": {
          "base_uri": "https://localhost:8080/"
        }
      },
      "execution_count": null,
      "outputs": [
        {
          "output_type": "stream",
          "name": "stdout",
          "text": [
            "139884506594272\n",
            "['apple', 'banana', 'clementine']\n",
            "139884506594272\n",
            "['apple', 'banana', 'clementine', 'dates']\n"
          ]
        }
      ]
    },
    {
      "cell_type": "markdown",
      "source": [
        "update() in a dictionary"
      ],
      "metadata": {
        "id": "i9y42rQLh8zv"
      }
    },
    {
      "cell_type": "code",
      "source": [
        "d = {\n",
        "    'a': 'alpha',\n",
        "    'b': 'bravo',\n",
        "    'c': 'charlie',\n",
        "    'd': 'delta',\n",
        "    'e': 'echo'\n",
        "}\n",
        "print(id(d))\n",
        "print(d)\n",
        "\n",
        "d.update({\n",
        "    'f': 'foxtrot'\n",
        "})\n",
        "print(id(d))\n",
        "print(d)"
      ],
      "metadata": {
        "id": "j_JnxxqHhsOw"
      },
      "execution_count": null,
      "outputs": []
    },
    {
      "cell_type": "markdown",
      "source": [
        "## **BACK to IMMUTABLE**\n",
        "\n",
        "How do I then update an Immutable string (like the one below)?\n",
        "\n",
        "As indicated in the TypeError: TypeError: 'str' object does not support item assignment;\n",
        "\n",
        "it cannot be done this way..."
      ],
      "metadata": {
        "id": "zOuamknVtixP"
      }
    },
    {
      "cell_type": "code",
      "source": [
        "greeting = 'Hello, world!'\n",
        "greeting[0] = 'J'"
      ],
      "metadata": {
        "id": "cbBwv29Gtunl"
      },
      "execution_count": null,
      "outputs": []
    },
    {
      "cell_type": "markdown",
      "source": [
        "You create a new string as a variation of the first one:"
      ],
      "metadata": {
        "id": "bwj7XeAtuDM0"
      }
    },
    {
      "cell_type": "code",
      "source": [
        "greeting = 'Hello, world!'\n",
        "new_greeting = 'J' + greeting[1:]\n",
        "print(new_greeting)"
      ],
      "metadata": {
        "id": "gjJx2Q3muMXd"
      },
      "execution_count": null,
      "outputs": []
    },
    {
      "cell_type": "markdown",
      "source": [
        "This example concatenates a new first letter onto a slice of greeting. It has no\n",
        "effect on the original string"
      ],
      "metadata": {
        "id": "F0DPE8L1upyj"
      }
    },
    {
      "cell_type": "markdown",
      "source": [
        "### **Looping and Counting**\n",
        "\n"
      ],
      "metadata": {
        "id": "rmfHgxyYyDDa"
      }
    },
    {
      "cell_type": "code",
      "source": [
        "word = 'banana'\n",
        "count = 0                   # the counting is set to zero at the start and increased by 1 each time an \"a\" is found\n",
        "for letter in word:         # looping through the word, checking every letter one after the other\n",
        "  if letter == 'a':         # once a letter is found to be \"a\" due to \"letter =='a'\" it will add a 1 to the count value (started as 0)\n",
        "    count = count + 1       # increasing the value of the variable named: count, with one on finding an 'a'\n",
        "print(count)"
      ],
      "metadata": {
        "id": "0qPMlXapyLcp"
      },
      "execution_count": null,
      "outputs": []
    },
    {
      "cell_type": "markdown",
      "source": [
        "### **Checking if string are the Same**"
      ],
      "metadata": {
        "id": "u-rt0lJw0ADo"
      }
    },
    {
      "cell_type": "markdown",
      "source": [
        "**Comparing strings**"
      ],
      "metadata": {
        "id": "c1BjblUn0DQD"
      }
    },
    {
      "cell_type": "code",
      "source": [
        "if word == 'banana':\n",
        "  print('All right, bananas.')"
      ],
      "metadata": {
        "id": "6EXLnYQ60Luh"
      },
      "execution_count": null,
      "outputs": []
    },
    {
      "cell_type": "markdown",
      "source": [
        "Putting words in Alphabetical order\n",
        "\n",
        "1. Run code once;\n",
        "2. Change word \"banana' to \"Banana'\n",
        "3. Then change banana at the first defined variable of word to \"cabana\" and run all the codes thereafter.\n"
      ],
      "metadata": {
        "id": "O5rVHwLR0ZHy"
      }
    },
    {
      "cell_type": "code",
      "source": [
        "if word < 'banana':\n",
        "  print('Your word,' + ' ' + word + ', comes before banana.')\n",
        "elif word > 'banana':\n",
        "  print('Your word,' + ' ' + word + ', comes after banana.')\n",
        "else:\n",
        "  print('All right, bananas.')"
      ],
      "metadata": {
        "id": "x0_C3v_Y0dpH"
      },
      "execution_count": null,
      "outputs": []
    },
    {
      "cell_type": "markdown",
      "source": [
        "**IMPORTANT**: Uppercase comes before Lowercase letters.  To test for alphabetical order convert all text to lowercase first (then this will not be an issue).\n",
        "\n",
        "This can be done with function: **lower()**"
      ],
      "metadata": {
        "id": "FL4Xxxu42AG1"
      }
    },
    {
      "cell_type": "code",
      "source": [
        "# example string\n",
        "string = \"THIS SHOULD BE LOWERCASE!\"\n",
        "print(string.lower())"
      ],
      "metadata": {
        "id": "orDbmWtE3Q2v",
        "outputId": "f432ca07-3a66-40c3-c28e-75e6c9f2b5d3",
        "colab": {
          "base_uri": "https://localhost:8080/"
        }
      },
      "execution_count": null,
      "outputs": [
        {
          "output_type": "stream",
          "name": "stdout",
          "text": [
            "this should be lowercase!\n"
          ]
        }
      ]
    },
    {
      "cell_type": "code",
      "source": [
        "# string with numbers\n",
        "# all alphabets should be lowercase\n",
        "string = \"Th!s Sh0uLd B3 L0w3rCas3!\"\n",
        "print(string.lower())"
      ],
      "metadata": {
        "id": "3wKmU1IF3ifp",
        "outputId": "8be6df7d-b3b1-410d-ee4f-5638f8fa5e5f",
        "colab": {
          "base_uri": "https://localhost:8080/"
        }
      },
      "execution_count": null,
      "outputs": [
        {
          "output_type": "stream",
          "name": "stdout",
          "text": [
            "th!s sh0uld b3 l0w3rcas3!\n"
          ]
        }
      ]
    },
    {
      "cell_type": "markdown",
      "source": [
        "NEXT: 6.9 String Methods"
      ],
      "metadata": {
        "id": "RiGlefpuLJ69"
      }
    }
  ]
}