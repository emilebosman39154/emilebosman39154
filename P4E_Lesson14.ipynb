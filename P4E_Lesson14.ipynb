{
  "nbformat": 4,
  "nbformat_minor": 0,
  "metadata": {
    "colab": {
      "provenance": [],
      "authorship_tag": "ABX9TyP9ysTSon6GT+l5HRo8AAML",
      "include_colab_link": true
    },
    "kernelspec": {
      "name": "python3",
      "display_name": "Python 3"
    },
    "language_info": {
      "name": "python"
    }
  },
  "cells": [
    {
      "cell_type": "markdown",
      "metadata": {
        "id": "view-in-github",
        "colab_type": "text"
      },
      "source": [
        "<a href=\"https://colab.research.google.com/github/emilebosman39154/emilebosman39154/blob/main/P4E_Lesson14.ipynb\" target=\"_parent\"><img src=\"https://colab.research.google.com/assets/colab-badge.svg\" alt=\"Open In Colab\"/></a>"
      ]
    },
    {
      "cell_type": "markdown",
      "source": [
        "# **Lesson 14 : Chapter 8 Lists**\n",
        "\n"
      ],
      "metadata": {
        "id": "5kD5T4xArapf"
      }
    },
    {
      "cell_type": "markdown",
      "source": [
        "# **Quick Test**\n",
        "\n",
        "**1. None"
      ],
      "metadata": {
        "id": "nqAkyfMtIrv1"
      }
    },
    {
      "cell_type": "code",
      "source": [
        "l"
      ],
      "metadata": {
        "id": "N57Xilvv7r_s"
      },
      "execution_count": null,
      "outputs": []
    },
    {
      "cell_type": "markdown",
      "source": [
        "# **Class Notes:**\n",
        "\n",
        "1. Python Calculator\n",
        "2. Lists"
      ],
      "metadata": {
        "id": "-cYfNYOwL1Rg"
      }
    },
    {
      "cell_type": "markdown",
      "source": [
        "# **1. Python Calculator**"
      ],
      "metadata": {
        "id": "wC2JR8-l8E_U"
      }
    },
    {
      "cell_type": "code",
      "source": [
        "def add(a, b):\n",
        "    answer = a + b\n",
        "    print(str(a) + \" + \" + str( b) + \" = \" + str(answer) + \"\\n\")\n",
        "def sub(a, b):\n",
        "    answer = a - b\n",
        "    print(str(a) + \" - \" + str(b ) + \" = \" + str(answer) + \"\\n\")\n",
        "def mul(a, b):\n",
        "    answer = a*b\n",
        "    print(str(a) + \" * \" + str(b) + \" = \" + str(answer) + \"\\n\")\n",
        "def div(a, b):\n",
        "    answer = a / b\n",
        "    print(str(a) + \" / \" + str(b) + \" = \" + str(answer) + \"\\n\")\n",
        "\n",
        "while True:\n",
        "    print(\"A. Addition\")\n",
        "    print(\"B. Subtraction\")\n",
        "    print(\"C. Multiplication\")\n",
        "    print(\"D. Division\")\n",
        "    print(\"E. Exit\")\n",
        "    choice = input(\"input your choice: \")\n",
        "\n",
        "    if choice == \"a\" or choice == \"A\":\n",
        "        print(\"Addition\")\n",
        "        a = int(input(\"input first number: \"))\n",
        "        b = int(input(\"input second number: \"))\n",
        "        add(a, b)\n",
        "    elif choice == \"b\" or choice == \"B\":\n",
        "        print(\"Subtraction\")\n",
        "        a = int(input(\"input first number:\"))\n",
        "        b = int(input(\"input second number: \"))\n",
        "        sub(a, b)\n",
        "    elif choice == \"c\" or choice == \"C\":\n",
        "        print(\"Multiplication\")\n",
        "        a = int(input(\"input first number:\"))\n",
        "        b = int(input(\"input second number: \"))\n",
        "        mul(a, b)\n",
        "    elif choice == \"d\" or choice == \"D\":\n",
        "        print(\"Division\" )\n",
        "        a = int(input(\"input first number:\"))\n",
        "        b = int(input(\"input second number: \"))\n",
        "        div(a, b)\n",
        "    elif choice == \"e\" or choice == \"E\":\n",
        "        print(\"program ended\")\n",
        "        quit()\n"
      ],
      "metadata": {
        "id": "-QMgo2Av8Eu0"
      },
      "execution_count": null,
      "outputs": []
    },
    {
      "cell_type": "markdown",
      "source": [
        "# **2. Chapter 8: Lists**\n",
        "\n",
        "\n",
        "\n"
      ],
      "metadata": {
        "id": "8BOUhsdEH4oN"
      }
    },
    {
      "cell_type": "markdown",
      "source": [
        "List a string, a list is a sequence of values. In a string, the values are characters; in a list, they can be any type. The values in list are called elements or sometimes items."
      ],
      "metadata": {
        "id": "2eQ6hzz7Y0CB"
      }
    },
    {
      "cell_type": "code",
      "source": [
        "list = ['spam', 2.0, 5, [10, 20]]\n",
        "print(list)"
      ],
      "metadata": {
        "id": "pK7N4P1_ciaw",
        "colab": {
          "base_uri": "https://localhost:8080/"
        },
        "outputId": "14581fbe-834c-40b4-f9e1-c2b57d6a7bee"
      },
      "execution_count": null,
      "outputs": [
        {
          "output_type": "execute_result",
          "data": {
            "text/plain": [
              "['spam', 2.0, 5, [10, 20]]"
            ]
          },
          "metadata": {},
          "execution_count": 1
        }
      ]
    },
    {
      "cell_type": "markdown",
      "source": [
        "The expression inside the brackets specifies the index. "
      ],
      "metadata": {
        "id": "l8Ihzh-L8DO2"
      }
    },
    {
      "cell_type": "code",
      "source": [
        "numbers = [17, 123]\n",
        "numbers[1] = 5\n",
        "print(numbers)\n",
        "[17, 5]"
      ],
      "metadata": {
        "id": "wqdXW8Mu9V9x",
        "colab": {
          "base_uri": "https://localhost:8080/"
        },
        "outputId": "e9456dea-3b2e-4f49-aff2-c1bb115fb8e1"
      },
      "execution_count": null,
      "outputs": [
        {
          "output_type": "stream",
          "name": "stdout",
          "text": [
            "[17, 5]\n"
          ]
        },
        {
          "output_type": "execute_result",
          "data": {
            "text/plain": [
              "[17, 5]"
            ]
          },
          "metadata": {},
          "execution_count": 9
        }
      ]
    },
    {
      "cell_type": "markdown",
      "source": [
        "Question: \n",
        "1. Why is 123 changed to 5?\n",
        "2. Are list mutable or immutable? Why?\n"
      ],
      "metadata": {
        "id": "MZFP9Tyi9ezn"
      }
    },
    {
      "cell_type": "markdown",
      "source": [
        "In above:\n",
        "\n",
        "Index = [0] or [1], etc.\n",
        "\n",
        "The value in the list = element [17,123]\n",
        "\n",
        "Thus in lists there are a relationship (called: mapping) between indices and elements."
      ],
      "metadata": {
        "id": "fT3T5E5h9_Eg"
      }
    },
    {
      "cell_type": "markdown",
      "source": [
        "# **Traversing a list** (meaning moving back and forth)\n",
        "\n"
      ],
      "metadata": {
        "id": "nH7WUIHNADiC"
      }
    },
    {
      "cell_type": "markdown",
      "source": [
        "In strings we do:\n",
        "\n",
        "for cheese in cheeses:\n",
        "    print(cheese)"
      ],
      "metadata": {
        "id": "_utSN-2iAS4E"
      }
    },
    {
      "cell_type": "code",
      "source": [
        "thislist = [\"apple\", \"banana\", \"cherry\"]\n",
        "for x in thislist:\n",
        "  print(x)"
      ],
      "metadata": {
        "colab": {
          "base_uri": "https://localhost:8080/"
        },
        "id": "3Q7mPidRAiSC",
        "outputId": "4f17baa4-b530-4e01-d397-c75c784652ac"
      },
      "execution_count": null,
      "outputs": [
        {
          "output_type": "stream",
          "name": "stdout",
          "text": [
            "apple\n",
            "banana\n",
            "cherry\n"
          ]
        }
      ]
    },
    {
      "cell_type": "markdown",
      "source": [
        "Below: \n",
        "**len** returns the number of elements in the list. **range** returns a list of indices from 0 to n − 1, where n is the length of the list. Each time through the loop, i gets the index of the next element. The assignment statement in the body uses i to read the old value of the element and to assign the new value."
      ],
      "metadata": {
        "id": "wFQmkN4nCYZY"
      }
    },
    {
      "cell_type": "code",
      "source": [
        "thislist = [\"apple\", \"banana\", \"cherry\"]\n",
        "for i in range(len(thislist)):\n",
        "  print(thislist[i])"
      ],
      "metadata": {
        "id": "KFCJ1FbUB_wl"
      },
      "execution_count": null,
      "outputs": []
    },
    {
      "cell_type": "markdown",
      "source": [
        "Other methods of looping through a List:"
      ],
      "metadata": {
        "id": "RY0C49plC-ls"
      }
    },
    {
      "cell_type": "code",
      "source": [
        "fruits = [\"Apple\", \"Mango\", \"Banana\", \"Peach\"]\n",
        "[print(fruit + \" juice\") for fruit in fruits]"
      ],
      "metadata": {
        "id": "pp_3y1XIDB5H"
      },
      "execution_count": null,
      "outputs": []
    },
    {
      "cell_type": "markdown",
      "source": [
        "Showing only certain elements based on their indices:"
      ],
      "metadata": {
        "id": "BpfFC_WNDSZG"
      }
    },
    {
      "cell_type": "code",
      "source": [
        "fruits = [\"Apple\", \"Mango\", \"Banana\", \"Peach\"]\n",
        " \n",
        "# Constructs range object containing only 1 and 2\n",
        "for i in range(1, 3):\n",
        "  print(fruits[i])"
      ],
      "metadata": {
        "id": "zd4FHQ_2DWkC"
      },
      "execution_count": null,
      "outputs": []
    },
    {
      "cell_type": "markdown",
      "source": [
        "Enumeate elements in a List (give their index values):"
      ],
      "metadata": {
        "id": "EhB7hPDkDgHN"
      }
    },
    {
      "cell_type": "code",
      "source": [
        "fruits = [\"Apple\", \"Mango\", \"Banana\", \"Peach\"]\n",
        " \n",
        "for index, element in enumerate(fruits):\n",
        "  print(index, \":\", element)"
      ],
      "metadata": {
        "id": "zkE203OBDk10"
      },
      "execution_count": null,
      "outputs": []
    },
    {
      "cell_type": "markdown",
      "source": [
        "Using a While loop (iso a For Loop) with Lists:"
      ],
      "metadata": {
        "id": "ubykMokoD1L6"
      }
    },
    {
      "cell_type": "markdown",
      "source": [
        "In the code beneath, the condition is the length of the list; the i counter is set to zero, then it adds 1 every time the loop prints one item in the list. When i becomes greater than the number of items in the list, the while loop terminates."
      ],
      "metadata": {
        "id": "axwrFrGoEMdO"
      }
    },
    {
      "cell_type": "code",
      "source": [
        "fruits = [\"Apple\", \"Mango\",  \"Banana\", \"Peach\"]\n",
        " \n",
        "i = 0\n",
        "while i < len(fruits):\n",
        "  print(fruits[i])\n",
        "  i = i + 1"
      ],
      "metadata": {
        "colab": {
          "base_uri": "https://localhost:8080/"
        },
        "id": "XWbLdL6BD6et",
        "outputId": "20ffb5c8-0355-4d46-fc44-97b9d2c2a0a3"
      },
      "execution_count": null,
      "outputs": [
        {
          "output_type": "stream",
          "name": "stdout",
          "text": [
            "Apple\n",
            "Mango\n",
            "Banana\n",
            "Peach\n"
          ]
        }
      ]
    },
    {
      "cell_type": "markdown",
      "source": [
        "**# 8.5 List Operators**"
      ],
      "metadata": {
        "id": "2YoqceLdBdPN"
      }
    },
    {
      "cell_type": "code",
      "source": [
        "a = [1, 2, 3]\n",
        "b = [4, 5, 6]\n",
        "c = a + b\n",
        "print(c)\n"
      ],
      "metadata": {
        "id": "utPshFdCBfyw"
      },
      "execution_count": null,
      "outputs": []
    },
    {
      "cell_type": "code",
      "source": [
        "[0] * 4"
      ],
      "metadata": {
        "colab": {
          "base_uri": "https://localhost:8080/"
        },
        "id": "GnFNsTfBEeYF",
        "outputId": "924ff2c8-088c-4494-c8fb-4160431220a8"
      },
      "execution_count": null,
      "outputs": [
        {
          "output_type": "execute_result",
          "data": {
            "text/plain": [
              "[0, 0, 0, 0]"
            ]
          },
          "metadata": {},
          "execution_count": 23
        }
      ]
    },
    {
      "cell_type": "code",
      "source": [
        "[1, 2, 3] * 3"
      ],
      "metadata": {
        "colab": {
          "base_uri": "https://localhost:8080/"
        },
        "id": "ink5PtomEl1v",
        "outputId": "1211f3f4-332b-47cb-d820-b809b17c8e26"
      },
      "execution_count": null,
      "outputs": [
        {
          "output_type": "execute_result",
          "data": {
            "text/plain": [
              "[1, 2, 3, 1, 2, 3, 1, 2, 3]"
            ]
          },
          "metadata": {},
          "execution_count": 24
        }
      ]
    },
    {
      "cell_type": "markdown",
      "source": [
        "**Slicing a List:**"
      ],
      "metadata": {
        "id": "K4Ig0GefE0UR"
      }
    },
    {
      "cell_type": "code",
      "source": [
        "t = ['a', 'b', 'c', 'd', 'e', 'f']\n",
        "t[1:3]"
      ],
      "metadata": {
        "id": "4EPbgGLFE3Ek"
      },
      "execution_count": null,
      "outputs": []
    },
    {
      "cell_type": "code",
      "source": [
        "t[:4]"
      ],
      "metadata": {
        "colab": {
          "base_uri": "https://localhost:8080/"
        },
        "id": "mdtQboqzFHFD",
        "outputId": "fb885658-9d83-4dd1-8397-4d2816f6c3b4"
      },
      "execution_count": null,
      "outputs": [
        {
          "output_type": "execute_result",
          "data": {
            "text/plain": [
              "['a', 'b', 'c', 'd']"
            ]
          },
          "metadata": {},
          "execution_count": 27
        }
      ]
    },
    {
      "cell_type": "code",
      "source": [
        "t[3:]"
      ],
      "metadata": {
        "colab": {
          "base_uri": "https://localhost:8080/"
        },
        "id": "c2ZG1PxlFKC4",
        "outputId": "3ebe1936-b0c5-47f6-849e-1e45251f5526"
      },
      "execution_count": null,
      "outputs": [
        {
          "output_type": "execute_result",
          "data": {
            "text/plain": [
              "['d', 'e', 'f']"
            ]
          },
          "metadata": {},
          "execution_count": 28
        }
      ]
    },
    {
      "cell_type": "code",
      "source": [
        "t[:]"
      ],
      "metadata": {
        "id": "XU-PshH0FXOo"
      },
      "execution_count": null,
      "outputs": []
    }
  ]
}