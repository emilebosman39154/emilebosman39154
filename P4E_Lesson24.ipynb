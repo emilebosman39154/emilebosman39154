{
  "nbformat": 4,
  "nbformat_minor": 0,
  "metadata": {
    "colab": {
      "provenance": [],
      "toc_visible": true,
      "include_colab_link": true
    },
    "kernelspec": {
      "name": "python3",
      "display_name": "Python 3"
    },
    "language_info": {
      "name": "python"
    }
  },
  "cells": [
    {
      "cell_type": "markdown",
      "metadata": {
        "id": "view-in-github",
        "colab_type": "text"
      },
      "source": [
        "<a href=\"https://colab.research.google.com/github/emilebosman39154/emilebosman39154/blob/main/P4E_Lesson24.ipynb\" target=\"_parent\"><img src=\"https://colab.research.google.com/assets/colab-badge.svg\" alt=\"Open In Colab\"/></a>"
      ]
    },
    {
      "cell_type": "markdown",
      "source": [
        "# **Lesson 24 : Chapter 12 (Networked Programmes)**\n",
        "\n"
      ],
      "metadata": {
        "id": "5kD5T4xArapf"
      }
    },
    {
      "cell_type": "markdown",
      "source": [
        "# **Quick Test**"
      ],
      "metadata": {
        "id": "nqAkyfMtIrv1"
      }
    },
    {
      "cell_type": "markdown",
      "source": [
        "# **Quick Test Answers**"
      ],
      "metadata": {
        "id": "TsTWYEfT9HSX"
      }
    },
    {
      "cell_type": "markdown",
      "source": [
        "# **1. Socket Programming**\n",
        "\n",
        "\n"
      ],
      "metadata": {
        "id": "35iR5iPexHDC"
      }
    },
    {
      "cell_type": "markdown",
      "source": [
        "Socket programming is a way of **connecting two nodes on a network to communicate with each other**. **One** socket(node) **listens** on a **particular port** at an IP, while the **other** socket **reaches out** to the other to **form a connection**. The server forms the listener socket while the client reaches out to the server. \n",
        "\n",
        "They are the real backbones behind web browsing. In simpler terms, there is a server and a client. "
      ],
      "metadata": {
        "id": "CEPfVVIkPNn9"
      }
    },
    {
      "cell_type": "markdown",
      "source": [
        "## **HOW?**"
      ],
      "metadata": {
        "id": "X08OwXXOPeek"
      }
    },
    {
      "cell_type": "markdown",
      "source": [
        "1. Socket programming is **started by importing the socket library** and **making a simple socket** (connection). "
      ],
      "metadata": {
        "id": "iKArNk6KPjcx"
      }
    },
    {
      "cell_type": "code",
      "source": [
        "import socket\n",
        "s = socket.socket(socket.AF_INET, socket.SOCK_STREAM)"
      ],
      "metadata": {
        "id": "TqrCdVrYPlWJ"
      },
      "execution_count": null,
      "outputs": []
    },
    {
      "cell_type": "markdown",
      "source": [
        "**Explain:** Here we made a socket instance and passed it **two parameters**. The **first parameter** is AF_INET and the **second one** is SOCK_STREAM. AF_INET refers to the address-family ipv4. The SOCK_STREAM means connection-oriented TCP protocol. \n",
        "\n",
        "Now we can connect to a server using this socket."
      ],
      "metadata": {
        "id": "DiIu-ghJPydL"
      }
    },
    {
      "cell_type": "markdown",
      "source": [
        "**Further explanation:** \n",
        "\n",
        "**Transmission Control Protocol (TCP)** = a communications standard that enables application programs and computing devices to exchange messages over a network. It is designed to send packets across the internet and ensure the successful delivery of data and messages over networks.\n",
        "\n",
        "“**IPv4** = the fourth version of the internet protocol. IP, which stands for internet protocol, is the internet’s principal set of rules for communications.  **The internet protocol suite governs rules for packetizing, addressing, transmitting, routing, and receiving data over networks.** IPv4, is also at a crossroads: its global IP address supply is exhausted.  A transision to version 6 is in process."
      ],
      "metadata": {
        "id": "pkq6f-EOQEo9"
      }
    },
    {
      "cell_type": "markdown",
      "source": [
        "**2.** In case of an **error in the connection**:\n",
        "\n",
        "Note that if any error occurs during the creation of a socket then a socket. error is thrown and we can only connect to a server by knowing its IP. You can find the IP of the server by using this : "
      ],
      "metadata": {
        "id": "be1JrqbbRErk"
      }
    },
    {
      "cell_type": "code",
      "source": [
        "# from cmd or terminal in command line\n",
        "\n",
        "# ping www.google.com "
      ],
      "metadata": {
        "id": "mUHbDGHqRqPL"
      },
      "execution_count": null,
      "outputs": []
    },
    {
      "cell_type": "markdown",
      "source": [
        "**Output will be:**\n",
        "\n",
        "emilebosman@Emile-Mini ~ % ping www.google.com \n",
        "\n",
        "PING www.google.com (216.239.38.120): 56 data bytes\n",
        "\n",
        "64 bytes from 216.239.38.120: icmp_seq=0 ttl=117 time=110.345 ms\n",
        "\n",
        "64 bytes from 216.239.38.120: icmp_seq=1 ttl=117 time=7.591 ms\n",
        "\n",
        "64 bytes from 216.239.38.120: icmp_seq=2 ttl=117 time=7.263 ms"
      ],
      "metadata": {
        "id": "b3BMfrb1SBLa"
      }
    },
    {
      "cell_type": "markdown",
      "source": [
        "**Finding the IP Address using Python:**"
      ],
      "metadata": {
        "id": "vYkRN33rSg-1"
      }
    },
    {
      "cell_type": "code",
      "source": [
        "import socket \n",
        "\n",
        "ip = socket.gethostbyname('www.google.com')\n",
        "print(ip)"
      ],
      "metadata": {
        "colab": {
          "base_uri": "https://localhost:8080/"
        },
        "id": "JQ8YRUIMSkJa",
        "outputId": "f252ca64-9391-44c8-e1fd-687916e127ff"
      },
      "execution_count": null,
      "outputs": [
        {
          "output_type": "stream",
          "name": "stdout",
          "text": [
            "74.125.197.99\n"
          ]
        }
      ]
    },
    {
      "cell_type": "code",
      "source": [
        "# An example script to connect to Google using socket\n",
        "# programming in Python\n",
        "import socket # for socket\n",
        "import sys\n",
        " \n",
        "try:\n",
        "    s = socket.socket(socket.AF_INET, socket.SOCK_STREAM)\n",
        "    print (\"Socket successfully created\")\n",
        "except socket.error as err:\n",
        "    print (\"socket creation failed with error %s\" %(err))\n",
        " \n",
        "# default port for socket\n",
        "port = 80\n",
        " \n",
        "try:\n",
        "    host_ip = socket.gethostbyname('www.google.com')\n",
        "except socket.gaierror:\n",
        " \n",
        "    # this means could not resolve the host\n",
        "    print (\"there was an error resolving the host\")\n",
        "    sys.exit()\n",
        " \n",
        "# connecting to the server\n",
        "s.connect((host_ip, port))\n",
        " \n",
        "print (\"the socket has successfully connected to google\")"
      ],
      "metadata": {
        "id": "rcP8Tx7VRk7F"
      },
      "execution_count": null,
      "outputs": []
    },
    {
      "cell_type": "markdown",
      "source": [
        "**First** of all, we made a socket.\n",
        "\n",
        "**Then** we resolved google’s IP and lastly, we connected to google.\n",
        "\n",
        "Now we need to know how can we send some data through a socket.\n",
        "\n",
        "For sending data the socket library has a sendall function. This function allows you to send data to a server to which the socket is connected and the server can also send data to the client using this function."
      ],
      "metadata": {
        "id": "69Hqzk8uUW7y"
      }
    },
    {
      "cell_type": "markdown",
      "source": [
        "# **2. Retrieving Text file**\n"
      ],
      "metadata": {
        "id": "yJT-vgCRBYLr"
      }
    },
    {
      "cell_type": "code",
      "source": [
        "import socket\n",
        "\n",
        "mysock = socket.socket(socket.AF_INET, socket.SOCK_STREAM)\n",
        "mysock.connect(('data.pr4e.org', 80))\n",
        "cmd = 'GET http://data.pr4e.org/romeo.txt HTTP/1.0\\r\\n\\r\\n'.encode()\n",
        "mysock.send(cmd)\n",
        "\n",
        "while True:\n",
        "    data = mysock.recv(512)\n",
        "    if len(data) < 1:\n",
        "        break\n",
        "    print(data.decode(),end='')\n",
        "\n",
        "mysock.close()"
      ],
      "metadata": {
        "id": "4zpwtcEVVN36"
      },
      "execution_count": null,
      "outputs": []
    },
    {
      "cell_type": "markdown",
      "source": [],
      "metadata": {
        "id": "BTOmF8fPVRdF"
      }
    },
    {
      "cell_type": "markdown",
      "source": [
        "# **2. Retrieving Image file**\n"
      ],
      "metadata": {
        "id": "y4_yJZRSVSfD"
      }
    },
    {
      "cell_type": "code",
      "source": [
        "import socket\n",
        "import time\n",
        "\n",
        "HOST = 'data.pr4e.org'\n",
        "PORT = 80\n",
        "mysock = socket.socket(socket.AF_INET, socket.SOCK_STREAM)\n",
        "mysock.connect((HOST, PORT))\n",
        "mysock.sendall(b'GET http://data.pr4e.org/cover3.jpg HTTP/1.0\\r\\n\\r\\n')\n",
        "count = 0\n",
        "picture = b\"\"\n",
        "\n",
        "while True:\n",
        "    data = mysock.recv(5120)\n",
        "    if len(data) < 1: break\n",
        "    #time.sleep(0.25)\n",
        "    count = count + len(data)\n",
        "    print(len(data), count)\n",
        "    picture = picture + data\n",
        "\n",
        "mysock.close()\n",
        "\n",
        "# Look for the end of the header (2 CRLF)\n",
        "pos = picture.find(b\"\\r\\n\\r\\n\")\n",
        "print('Header length', pos)\n",
        "print(picture[:pos].decode())\n",
        "\n",
        "# Skip past the header and save the picture data\n",
        "picture = picture[pos+4:]\n",
        "fhand = open(\"stuff.jpg\", \"wb\")\n",
        "fhand.write(picture)\n",
        "fhand.close()"
      ],
      "metadata": {
        "id": "AKbS5GFsVUEh"
      },
      "execution_count": null,
      "outputs": []
    },
    {
      "cell_type": "markdown",
      "source": [],
      "metadata": {
        "id": "GRtE6P64VYjg"
      }
    },
    {
      "cell_type": "markdown",
      "source": [
        "# **2. Retrieving URL page / file**\n"
      ],
      "metadata": {
        "id": "mRyC9OrjVZ1P"
      }
    },
    {
      "cell_type": "code",
      "source": [
        "import urllib.request\n",
        "\n",
        "fhand = urllib.request.urlopen('http://data.pr4e.org/romeo.txt')\n",
        "for line in fhand:\n",
        "    print(line.decode().strip())"
      ],
      "metadata": {
        "id": "0EG_Hb6cVfYz"
      },
      "execution_count": null,
      "outputs": []
    },
    {
      "cell_type": "markdown",
      "source": [
        "**We can know use the text we retrieved through normal Python programming:**\n",
        "\n",
        "Creating a frequesncy table (dictionary)"
      ],
      "metadata": {
        "id": "cZhH2t-uWIhl"
      }
    },
    {
      "cell_type": "code",
      "source": [
        "import urllib.request, urllib.parse, urllib.error\n",
        "\n",
        "fhand = urllib.request.urlopen('http://data.pr4e.org/romeo.txt')\n",
        "\n",
        "counts = dict()\n",
        "for line in fhand:\n",
        "    words = line.decode().split()\n",
        "    for word in words:\n",
        "        counts[word] = counts.get(word, 0) + 1\n",
        "print(counts)"
      ],
      "metadata": {
        "id": "LfFIx0zZWQUz"
      },
      "execution_count": null,
      "outputs": []
    },
    {
      "cell_type": "markdown",
      "source": [
        "**If Graphic / Video is too large:**\n",
        "\n",
        "Creating a buffer becomes important:"
      ],
      "metadata": {
        "id": "O8UihubOXNuG"
      }
    },
    {
      "cell_type": "code",
      "source": [
        "import urllib.request, urllib.parse, urllib.error\n",
        "\n",
        "img = urllib.request.urlopen('http://data.pr4e.org/cover3.jpg')\n",
        "fhand = open('cover3.jpg', 'wb')\n",
        "size = 0\n",
        "while True:\n",
        "    info = img.read(100000)\n",
        "    if len(info) < 1: break\n",
        "    size = size + len(info)\n",
        "    fhand.write(info)\n",
        "\n",
        "print(size, 'characters copied.')\n",
        "fhand.close()"
      ],
      "metadata": {
        "colab": {
          "base_uri": "https://localhost:8080/"
        },
        "id": "4kyJalhuXVFb",
        "outputId": "58e189eb-9cb9-4917-c078-d71857969eae"
      },
      "execution_count": null,
      "outputs": [
        {
          "output_type": "stream",
          "name": "stdout",
          "text": [
            "230210 characters copied.\n"
          ]
        }
      ]
    },
    {
      "cell_type": "markdown",
      "source": [
        "## **5. Web Scraping**"
      ],
      "metadata": {
        "id": "_7uWsw5rY9dY"
      }
    },
    {
      "cell_type": "markdown",
      "source": [
        "Run the following in VS Code:"
      ],
      "metadata": {
        "id": "j1WSmON_ZBRY"
      }
    },
    {
      "cell_type": "code",
      "source": [
        "<h1>The First Page</h1>\n",
        "<p>\n",
        "If you like, you can switch to the\n",
        "<a href=\"http://www.dr-chuck.com/page2.htm\">\n",
        "Second Page</a>.\n",
        "</p>"
      ],
      "metadata": {
        "id": "9n6v_OHEZG3-"
      },
      "execution_count": null,
      "outputs": []
    },
    {
      "cell_type": "markdown",
      "source": [
        "Using a RegEx to extract the link values in the web pages above:"
      ],
      "metadata": {
        "id": "J1ZkWA1VZWmw"
      }
    },
    {
      "cell_type": "code",
      "source": [
        "href=\"http[s]?://.+?\""
      ],
      "metadata": {
        "id": "Ty7X48_5ZiGs"
      },
      "execution_count": null,
      "outputs": []
    },
    {
      "cell_type": "markdown",
      "source": [
        "Our regular expression looks for strings that start with “href=\"http://” or\n",
        "“href=\"https://”, followed by one or more characters (.+?), followed by another\n",
        "double quote. The question mark behind the [s]? indicates to search for the\n",
        "string “http” followed by zero or one “s”.\n",
        "\n",
        "The question mark added to the .+? indicates that the match is to be done in\n",
        "a “non-greedy” fashion instead of a “greedy” fashion. A non-greedy match tries\n",
        "to find the smallest possible matching string and a greedy match tries to find the largest possible matching string.\n",
        "\n",
        "We add parentheses to our regular expression to indicate which part of our matched string we would like to extract, and produce the following program:"
      ],
      "metadata": {
        "id": "zBlD-jPgZvFr"
      }
    },
    {
      "cell_type": "code",
      "source": [
        "# Search for link values within URL input\n",
        "import urllib.request, urllib.parse, urllib.error\n",
        "import re\n",
        "import ssl\n",
        "\n",
        "# Ignore SSL certificate errors\n",
        "ctx = ssl.create_default_context()\n",
        "ctx.check_hostname = False\n",
        "ctx.verify_mode = ssl.CERT_NONE\n",
        "\n",
        "url = input('Enter - ')\n",
        "html = urllib.request.urlopen(url, context=ctx).read()\n",
        "links = re.findall(b'href=\"(http[s]?://.*?)\"', html)\n",
        "for link in links:\n",
        "    print(link.decode())\n",
        "\n",
        "# enter: https://docs.python.org/"
      ],
      "metadata": {
        "id": "ohTA1bd8Zy7k"
      },
      "execution_count": null,
      "outputs": []
    },
    {
      "cell_type": "markdown",
      "source": [
        "## **5.1 Beautiful Soap**\n",
        "\n",
        "One of the best ways of parsing HTML input and extract links are with the BeautifulSoup library. BeautifulSoup tolerates highly flawed HTML and still\n",
        "lets you easily extract the data you need. "
      ],
      "metadata": {
        "id": "S7DWsVNfdKWG"
      }
    },
    {
      "cell_type": "markdown",
      "source": [
        "**Install Beautifull Soap Library:**\n",
        "\n",
        "Copy the pip command line from the link below and run from cmd (Windows) or terminal (Mac).\n",
        "\n",
        "https://pypi.python.org/pypi/beautifulsoup4"
      ],
      "metadata": {
        "id": "SNuogXPzdlyl"
      }
    },
    {
      "cell_type": "markdown",
      "source": [
        "Installing a parser if BeautifulSoup does not extract the information accurately with the build-in parser in python:"
      ],
      "metadata": {
        "id": "s5IjL9XVor8c"
      }
    },
    {
      "cell_type": "markdown",
      "source": [
        "![image.png](data:image/png;base64,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)"
      ],
      "metadata": {
        "id": "4RrUBDquo3ID"
      }
    },
    {
      "cell_type": "code",
      "source": [
        "# To run this, download the BeautifulSoup zip file\n",
        "# http://www.py4e.com/code3/bs4.zip\n",
        "# and unzip it in the same directory as this file\n",
        "\n",
        "import urllib.request, urllib.parse, urllib.error\n",
        "from bs4 import BeautifulSoup\n",
        "import ssl\n",
        "\n",
        "# Ignore SSL certificate errors\n",
        "ctx = ssl.create_default_context()\n",
        "ctx.check_hostname = False\n",
        "ctx.verify_mode = ssl.CERT_NONE\n",
        "\n",
        "url = input('Enter - ')\n",
        "html = urllib.request.urlopen(url, context=ctx).read()\n",
        "soup = BeautifulSoup(html, 'html.parser')\n",
        "\n",
        "# Retrieve all of the anchor tags\n",
        "tags = soup('a')\n",
        "for tag in tags:\n",
        "    print(tag.get('href', None))\n",
        "\n",
        "# enter: https://docs.python.org/\n",
        "\n",
        "# The program prompts for a web address, then opens the web page, reads the data\n",
        "# and passes the data to the BeautifulSoup parser, and then retrieves all of the\n",
        "# anchor tags and prints out the href attribute for each tag."
      ],
      "metadata": {
        "id": "rchWEJpbdqz6"
      },
      "execution_count": null,
      "outputs": []
    },
    {
      "cell_type": "markdown",
      "source": [
        "Amend the Python code to **only extract certain tag's text:**"
      ],
      "metadata": {
        "id": "LuX6GwfofCT3"
      }
    },
    {
      "cell_type": "code",
      "source": [
        "# To run this, download the BeautifulSoup zip file\n",
        "# http://www.py4e.com/code3/bs4.zip\n",
        "# and unzip it in the same directory as this file\n",
        "\n",
        "from urllib.request import urlopen\n",
        "from bs4 import BeautifulSoup\n",
        "import ssl\n",
        "\n",
        "# Ignore SSL certificate errors\n",
        "ctx = ssl.create_default_context()\n",
        "ctx.check_hostname = False\n",
        "ctx.verify_mode = ssl.CERT_NONE\n",
        "\n",
        "url = input('Enter - ')\n",
        "html = urlopen(url, context=ctx).read()\n",
        "soup = BeautifulSoup(html, \"html.parser\")\n",
        "\n",
        "# Retrieve all of the anchor tags\n",
        "tags = soup('a')\n",
        "for tag in tags:\n",
        "    # Look at the parts of a tag\n",
        "    print('TAG:', tag)\n",
        "    print('URL:', tag.get('href', None))\n",
        "    print('Contents:', tag.contents[0])\n",
        "    print('Attrs:', tag.attrs)\n",
        "\n",
        "# enter: https://docs.python.org/"
      ],
      "metadata": {
        "id": "k4QdWsHifKC8"
      },
      "execution_count": null,
      "outputs": []
    },
    {
      "cell_type": "markdown",
      "source": [
        "**Extracting Text from a Website:**"
      ],
      "metadata": {
        "id": "XgkDlIL4hHcG"
      }
    },
    {
      "cell_type": "code",
      "source": [
        "from bs4 import BeautifulSoup\n",
        "import requests\n",
        "\n",
        "# Getting the HTML from a website\n",
        "website = \"http://www.script-o-rama.com/movie_scripts/s/secret-life-of-walter-mitty-script.html\"\n",
        "\n",
        "# Sending our request to the website\n",
        "result = requests.get(website)\n",
        "content = result.text\n",
        "\n",
        "# What we get after the parsing\n",
        "soup = BeautifulSoup(content, \"html5lib\")\n",
        "print(soup.prettify())"
      ],
      "metadata": {
        "id": "62a4nUhdRhN-"
      },
      "execution_count": null,
      "outputs": []
    },
    {
      "cell_type": "code",
      "source": [],
      "metadata": {
        "id": "gjfbJe5KrAQD"
      },
      "execution_count": null,
      "outputs": []
    }
  ]
}