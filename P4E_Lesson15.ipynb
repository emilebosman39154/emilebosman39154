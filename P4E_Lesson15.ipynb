{
  "nbformat": 4,
  "nbformat_minor": 0,
  "metadata": {
    "colab": {
      "provenance": [],
      "include_colab_link": true
    },
    "kernelspec": {
      "name": "python3",
      "display_name": "Python 3"
    },
    "language_info": {
      "name": "python"
    }
  },
  "cells": [
    {
      "cell_type": "markdown",
      "metadata": {
        "id": "view-in-github",
        "colab_type": "text"
      },
      "source": [
        "<a href=\"https://colab.research.google.com/github/emilebosman39154/emilebosman39154/blob/main/P4E_Lesson15.ipynb\" target=\"_parent\"><img src=\"https://colab.research.google.com/assets/colab-badge.svg\" alt=\"Open In Colab\"/></a>"
      ]
    },
    {
      "cell_type": "markdown",
      "source": [
        "# **Lesson 15 : Chapter 8 Lists**\n",
        "\n"
      ],
      "metadata": {
        "id": "5kD5T4xArapf"
      }
    },
    {
      "cell_type": "markdown",
      "source": [
        "# **Quick Test**\n",
        "\n",
        "1.1 Why do we say List as Mutable?\n",
        "\n",
        "1.2 Write a small code with a list to show how it is Mutable?"
      ],
      "metadata": {
        "id": "nqAkyfMtIrv1"
      }
    },
    {
      "cell_type": "markdown",
      "source": [
        "**2. List Operations**\n",
        "\n",
        "Without running the code - what will the answer to the following code be:\n",
        "\n",
        "[0] * 6\n",
        "\n",
        "[2,7,4,9]*4\n"
      ],
      "metadata": {
        "id": "7RVjhoAWDKn8"
      }
    },
    {
      "cell_type": "code",
      "source": [
        "[0] * 6\n",
        "\n",
        "[2,7,4,9]*4"
      ],
      "metadata": {
        "id": "_FtKw_NrDbau"
      },
      "execution_count": null,
      "outputs": []
    },
    {
      "cell_type": "markdown",
      "source": [
        "3. **2. List Slicing**\n",
        "\n",
        "Without running the code - what will the answer to the following code be:\n",
        "\n",
        "t = ['a1', 'b2', 'c3', 'd4', 'e5', 'f6', 'g7']\n",
        "\n",
        "3.1 t[1:4]\n",
        "\n",
        "3.2 t[:6]\n",
        "\n",
        "3.3 t[4:]"
      ],
      "metadata": {
        "id": "wC_ODwv5ELGy"
      }
    },
    {
      "cell_type": "markdown",
      "source": [
        "# **Quick Test Answers**\n",
        "\n",
        "**1. Answers:**\n",
        "\n",
        "You can change order of items in a list and reassign an item in a list"
      ],
      "metadata": {
        "id": "TsTWYEfT9HSX"
      }
    },
    {
      "cell_type": "code",
      "source": [
        "numbers = [7, 12, 55]\n",
        "numbers[2] = 89\n",
        "print(numbers)"
      ],
      "metadata": {
        "colab": {
          "base_uri": "https://localhost:8080/"
        },
        "id": "HTiJWela9TOM",
        "outputId": "e678a033-d2c2-4a54-a38e-9cba5134fcfa"
      },
      "execution_count": null,
      "outputs": [
        {
          "output_type": "stream",
          "name": "stdout",
          "text": [
            "[7, 12, 89]\n"
          ]
        }
      ]
    },
    {
      "cell_type": "markdown",
      "source": [
        "**2. Answer:**\n",
        "\n",
        "2.1 [0, 0, 0, 0, 0, 0]\n",
        "\n",
        "2.2 [2, 7, 4, 9, 2, 7, 4, 9, 2, 7, 4, 9, 2, 7, 4, 9]"
      ],
      "metadata": {
        "id": "_YtQl_AwDs-6"
      }
    },
    {
      "cell_type": "markdown",
      "source": [
        "**3. Answer:**"
      ],
      "metadata": {
        "id": "o2prz3fwEyac"
      }
    },
    {
      "cell_type": "code",
      "source": [
        "t = ['a1', 'b2', 'c3', 'd4', 'e5', 'f6', 'g7']\n",
        "\n",
        "t[1:4]"
      ],
      "metadata": {
        "id": "8t6etU_rE4WN"
      },
      "execution_count": null,
      "outputs": []
    },
    {
      "cell_type": "code",
      "source": [
        "t[:6]"
      ],
      "metadata": {
        "id": "I1PFEtj0FKRj"
      },
      "execution_count": null,
      "outputs": []
    },
    {
      "cell_type": "code",
      "source": [
        "t[4:]"
      ],
      "metadata": {
        "id": "8AG4hFwuFKHH"
      },
      "execution_count": null,
      "outputs": []
    },
    {
      "cell_type": "markdown",
      "source": [
        "# **1. Password Simulator**"
      ],
      "metadata": {
        "id": "wC2JR8-l8E_U"
      }
    },
    {
      "cell_type": "code",
      "source": [
        "import string\n",
        "import random\n",
        "\n",
        "characters = list(string.ascii_letters + string.digits + \" !@#$%^&*()\")\n",
        "\n",
        "def generate_password():\n",
        "    password_length = int(input(\"How long would you like your password to be? \"))\n",
        "    \n",
        "    random.shuffle(characters)\n",
        "    \n",
        "    password = []\n",
        "    \n",
        "    for x in range(password_length):\n",
        "        password.append(random.choice(characters))\n",
        "    \n",
        "    random.shuffle(password)\n",
        "    \n",
        "    password = \"\" .join(password)\n",
        "    print(password)\n",
        "\n",
        "option = input(\"Do you want to generate a password? (Yes/No): \")\n",
        "\n",
        "if option == \"Yes\":\n",
        "    generate_password()\n",
        "elif option == \"No\":\n",
        "    print(\"Program ended\")\n",
        "    quit()\n",
        "else:\n",
        "    print(\"Invalid input, please input Yes or No\")\n",
        "    quit()\n"
      ],
      "metadata": {
        "id": "-QMgo2Av8Eu0"
      },
      "execution_count": null,
      "outputs": []
    },
    {
      "cell_type": "markdown",
      "source": [
        "# **Class Notes:**\n",
        "\n",
        "1. List Methods"
      ],
      "metadata": {
        "id": "-cYfNYOwL1Rg"
      }
    },
    {
      "cell_type": "markdown",
      "source": [
        "# **2. Chapter 8: Lists Methods**\n",
        "\n",
        "\n",
        "\n"
      ],
      "metadata": {
        "id": "8BOUhsdEH4oN"
      }
    },
    {
      "cell_type": "markdown",
      "source": [
        "**2.1 Build-in methods that operate on lists:**\n",
        "\n",
        "**append** (adds a new element at the end of a list)\n",
        "\n",
        "**extend** (takes a list as an argument and append all its elements to the end of the list\n",
        "\n",
        "**sort** (arrange list elements from low to high\n",
        "\n"
      ],
      "metadata": {
        "id": "2eQ6hzz7Y0CB"
      }
    },
    {
      "cell_type": "code",
      "source": [
        "b = ['a','b','c','d','e','f']"
      ],
      "metadata": {
        "id": "pK7N4P1_ciaw"
      },
      "execution_count": null,
      "outputs": []
    },
    {
      "cell_type": "code",
      "source": [
        "b.append('g')\n",
        "print(b)"
      ],
      "metadata": {
        "id": "PET7RFL8H3qP"
      },
      "execution_count": null,
      "outputs": []
    },
    {
      "cell_type": "code",
      "source": [
        "b2 = ['h','i']"
      ],
      "metadata": {
        "id": "VhC9-ME_IDhM"
      },
      "execution_count": null,
      "outputs": []
    },
    {
      "cell_type": "code",
      "source": [
        "b.extend(b2)\n",
        "print(b)"
      ],
      "metadata": {
        "id": "ZVeCgPXrILmb"
      },
      "execution_count": null,
      "outputs": []
    },
    {
      "cell_type": "code",
      "source": [
        "b.sort(reverse=True)\n",
        "print(b)"
      ],
      "metadata": {
        "colab": {
          "base_uri": "https://localhost:8080/"
        },
        "id": "berZ5gk2Ima-",
        "outputId": "c6dc3fca-5194-42b0-cd01-dc08e5e15ba0"
      },
      "execution_count": null,
      "outputs": [
        {
          "output_type": "stream",
          "name": "stdout",
          "text": [
            "['i', 'i', 'i', 'i', 'h', 'h', 'h', 'h', 'g', 'f', 'e', 'd', 'c', 'b', 'a']\n"
          ]
        }
      ]
    },
    {
      "cell_type": "markdown",
      "source": [
        "**2.2 More build-in methods that operate on lists:**\n",
        "\n",
        "**pop **(deletes an element if you know its index number and keeps reference to the elements that were deleted)\n",
        "\n",
        "**del** (deletes without keeping a reference to the elements deleted)\n",
        "\n",
        "**remove** (to remove an element if the index is not known but the element is known)\n",
        "\n",
        "**remove more than one** (1) element with a slice"
      ],
      "metadata": {
        "id": "hnn8czssJLQ2"
      }
    },
    {
      "cell_type": "code",
      "source": [
        "x = ['a','b','c','d','e','f']\n",
        "print(x)\n",
        "\n",
        "y = x.pop(1)\n",
        "print(y)\n",
        "print(x)"
      ],
      "metadata": {
        "id": "S49zqWIaJ7UD"
      },
      "execution_count": null,
      "outputs": []
    },
    {
      "cell_type": "code",
      "source": [
        "x = ['a','b','c','d','e','f']\n",
        "print(x)\n",
        "\n",
        "del x[1]\n",
        "print(x)\n"
      ],
      "metadata": {
        "id": "R8ZupjIvK3eE"
      },
      "execution_count": null,
      "outputs": []
    },
    {
      "cell_type": "code",
      "source": [
        "x = ['a','b','c','d','e','f']\n",
        "print(x)\n",
        "\n",
        "x.remove('c')\n",
        "print(x)"
      ],
      "metadata": {
        "id": "6Y_ur2rOLI-4"
      },
      "execution_count": null,
      "outputs": []
    },
    {
      "cell_type": "code",
      "source": [
        "x = ['a','b','c','d','e','f']\n",
        "print(x)\n",
        "\n",
        "del x[1:3]\n",
        "print(x)"
      ],
      "metadata": {
        "id": "St_asxejLUgI"
      },
      "execution_count": null,
      "outputs": []
    }
  ]
}