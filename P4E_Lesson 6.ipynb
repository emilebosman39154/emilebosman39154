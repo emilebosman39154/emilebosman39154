{
  "nbformat": 4,
  "nbformat_minor": 0,
  "metadata": {
    "colab": {
      "name": "Copy of Untitled25.ipynb",
      "provenance": [],
      "authorship_tag": "ABX9TyN3zwc9X/oYULeGfLJ+JDAa",
      "include_colab_link": true
    },
    "kernelspec": {
      "name": "python3",
      "display_name": "Python 3"
    },
    "language_info": {
      "name": "python"
    }
  },
  "cells": [
    {
      "cell_type": "markdown",
      "metadata": {
        "id": "view-in-github",
        "colab_type": "text"
      },
      "source": [
        "<a href=\"https://colab.research.google.com/github/emilebosman39154/emilebosman39154/blob/main/P4E_Lesson%206.ipynb\" target=\"_parent\"><img src=\"https://colab.research.google.com/assets/colab-badge.svg\" alt=\"Open In Colab\"/></a>"
      ]
    },
    {
      "cell_type": "markdown",
      "source": [
        "# **LESSON 6 - FUNCTIONS**\n",
        "\n",
        "Definition: Functions is a name provided to a sequence of statements which will perform or execute a given computation.\n",
        "\n",
        "How: You define a function, by giving it a name (e.g. print() ) and where it is not a defined function from within Python you will also specify the sequence of statements to be executed upon calling the function."
      ],
      "metadata": {
        "id": "MFSU0x_c665m"
      }
    },
    {
      "cell_type": "code",
      "source": [
        "type(\"Hello World\")"
      ],
      "metadata": {
        "id": "ysGg8qbO7v5R"
      },
      "execution_count": null,
      "outputs": []
    },
    {
      "cell_type": "markdown",
      "source": [
        "In the above *type* is the **function** and **str** is the *return value*.\n",
        "\n",
        "The \"Hallo World\" in brackets is called the *argument* of the function.  It is an input to the funtion.  It will quite likely be a **value of a variable**.\n",
        "\n",
        "*A Function **takes an argument** and **returns a result** (or **return value**)*\n",
        "\n",
        "BUILD IN FUNCTIONS IN PYTHON\n",
        "\n",
        "There are 68 build-in functions in Python:\n",
        "\n",
        "Python abs()\n",
        "returns absolute value of a number\n",
        "\n",
        "Python all()\n",
        "returns true when all elements in iterable is true\n",
        "\n",
        "Python any()\n",
        "Checks if any Element of an Iterable is True\n",
        "\n",
        "Python ascii()\n",
        "Returns String Containing Printable Representation\n",
        "\n",
        "Python bin()\n",
        "converts integer to binary string\n",
        "\n",
        "Python bool()\n",
        "Converts a Value to Boolean\n",
        "\n",
        "Python bytearray()\n",
        "returns array of given byte size\n",
        "\n",
        "Python bytes()\n",
        "returns immutable bytes object\n",
        "\n",
        "Python callable()\n",
        "Checks if the Object is Callable\n",
        "\n",
        "Python chr()\n",
        "Returns a Character (a string) from an Integer\n",
        "\n",
        "Python classmethod()\n",
        "returns class method for given function\n",
        "\n",
        "Python compile()\n",
        "Returns a Python code object\n",
        "\n",
        "Python complex()\n",
        "Creates a Complex Number\n",
        "\n",
        "Python delattr()\n",
        "Deletes Attribute From the Object\n",
        "\n",
        "Python dict()\n",
        "Creates a Dictionary\n",
        "\n",
        "Python dir()\n",
        "Tries to Return Attributes of Object\n",
        "\n",
        "Python divmod()\n",
        "Returns a Tuple of Quotient and Remainder\n",
        "\n",
        "Python enumerate()\n",
        "Returns an Enumerate Object\n",
        "\n",
        "Python eval()\n",
        "Runs Python Code Within Program\n",
        "\n",
        "Python exec()\n",
        "Executes Dynamically Created Program\n",
        "\n",
        "Python filter()\n",
        "constructs iterator from elements which are true\n",
        "\n",
        "Python float()\n",
        "returns floating point number from number, string\n",
        "\n",
        "Python format()\n",
        "returns formatted representation of a value\n",
        "\n",
        "Python frozenset()\n",
        "returns immutable frozenset object\n",
        "\n",
        "Python getattr()\n",
        "returns value of named attribute of an object\n",
        "\n",
        "Python globals()\n",
        "returns dictionary of current global symbol table\n",
        "\n",
        "Python hasattr()\n",
        "returns whether object has named attribute\n",
        "\n",
        "Python hash()\n",
        "returns hash value of an object\n",
        "\n",
        "Python help()\n",
        "Invokes the built-in Help System\n",
        "\n",
        "Python hex()\n",
        "Converts to Integer to Hexadecimal\n",
        "\n",
        "Python id()\n",
        "Returns Identify of an Object\n",
        "\n",
        "Python input()\n",
        "reads and returns a line of string\n",
        "\n",
        "Python int()\n",
        "returns integer from a number or string\n",
        "\n",
        "Python isinstance()\n",
        "Checks if a Object is an Instance of Class\n",
        "\n",
        "Python issubclass()\n",
        "Checks if a Class is Subclass of another Class\n",
        "\n",
        "Python iter()\n",
        "returns an iterator\n",
        "\n",
        "Python len()\n",
        "Returns Length of an Object\n",
        "\n",
        "Python list()\n",
        "creates a list in Python\n",
        "\n",
        "Python locals()\n",
        "Returns dictionary of a current local symbol table\n",
        "\n",
        "Python map()\n",
        "Applies Function and Returns a List\n",
        "\n",
        "Python max()\n",
        "returns the largest item\n",
        "\n",
        "Python memoryview()\n",
        "returns memory view of an argument\n",
        "\n",
        "Python min()\n",
        "returns the smallest value\n",
        "\n",
        "Python next()\n",
        "Retrieves next item from the iterator\n",
        "\n",
        "Python object()\n",
        "creates a featureless object\n",
        "\n",
        "Python oct()\n",
        "returns the octal representation of an integer\n",
        "\n",
        "Python open()\n",
        "Returns a file object\n",
        "\n",
        "Python ord()\n",
        "returns an integer of the Unicode character\n",
        "\n",
        "Python pow()\n",
        "returns the power of a number\n",
        "\n",
        "Python print()\n",
        "Prints the Given Object\n",
        "\n",
        "Python property()\n",
        "returns the property attribute\n",
        "\n",
        "Python range()\n",
        "return sequence of integers between start and stop\n",
        "\n",
        "Python repr()\n",
        "returns a printable representation of the object\n",
        "\n",
        "Python reversed()\n",
        "returns the reversed iterator of a sequence\n",
        "\n",
        "Python round()\n",
        "rounds a number to specified decimals\n",
        "\n",
        "Python set()\n",
        "constructs and returns a set\n",
        "\n",
        "Python setattr()\n",
        "sets the value of an attribute of an object\n",
        "\n",
        "Python slice()\n",
        "returns a slice object\n",
        "\n",
        "Python sorted()\n",
        "returns a sorted list from the given iterable\n",
        "\n",
        "Python staticmethod()\n",
        "transforms a method into a static method\n",
        "\n",
        "Python str()\n",
        "returns the string version of the object\n",
        "\n",
        "Python sum()\n",
        "Adds items of an Iterable\n",
        "\n",
        "Python super()\n",
        "Returns a proxy object of the base class\n",
        "\n",
        "Python tuple()\n",
        "Returns a tuple\n",
        "\n",
        "Python type()\n",
        "Returns the type of the object\n",
        "\n",
        "Python vars()\n",
        "Returns the __dict__ attribute\n",
        "\n",
        "Python zip()\n",
        "Returns an iterator of tuples\n",
        "\n",
        "Python __import__()\n",
        "Function called by the import statement\n",
        "\n",
        "More are being added continuoously: https://docs.python.org/3/library/functions.html"
      ],
      "metadata": {
        "id": "_LmKUJxt8JRw"
      }
    },
    {
      "cell_type": "markdown",
      "source": [
        "**15 of the most commonly used Functions are:**\n",
        "\n",
        "print( ) function\n",
        "type( ) function\n",
        "input( ) function\n",
        "abs( ) function\n",
        "pow( ) function\n",
        "dir( ) function\n",
        "sorted( ) function\n",
        "max( ) function\n",
        "round( ) function\n",
        "divmod( ) function\n",
        "id( ) function\n",
        "ord( ) function\n",
        "len( ) function\n",
        "sum( ) function\n",
        "help( ) function"
      ],
      "metadata": {
        "id": "4ObuXJSy-NIW"
      }
    },
    {
      "cell_type": "markdown",
      "source": [
        "1. **print()**\n",
        "\n",
        "The print() function prints the specified message to the screen or another standard output device.\n",
        "\n",
        "The message that wants to print can be a string or any other object. This function converts the object into a string before written to the screen."
      ],
      "metadata": {
        "id": "VDxNJdde_Bit"
      }
    },
    {
      "cell_type": "code",
      "source": [
        "print(\"Analytics Vidhya is the Largest Data Science Community in the world\")"
      ],
      "metadata": {
        "id": "T0_pGzUp-zi2"
      },
      "execution_count": null,
      "outputs": []
    },
    {
      "cell_type": "markdown",
      "source": [
        "2. **type()**\n",
        "\n",
        "The type() function returns the type of the specified object."
      ],
      "metadata": {
        "id": "IePwx4s6_J_U"
      }
    },
    {
      "cell_type": "code",
      "source": [
        "list_of_fruits = ('apple', 'banana', 'cherry', 'mango')\n",
        "print(type(list_of_fruits))"
      ],
      "metadata": {
        "id": "oiB8GFTN_Xpi"
      },
      "execution_count": null,
      "outputs": []
    },
    {
      "cell_type": "markdown",
      "source": [
        "3. **input()**\n",
        "\n",
        "The input() function allows taking the input from the user."
      ],
      "metadata": {
        "id": "3vZYX9-U_aAU"
      }
    },
    {
      "cell_type": "code",
      "source": [
        "a = input('Enter your name:')\n",
        "print('Hello, ' + a + ' of Analytics Vidhya')"
      ],
      "metadata": {
        "id": "1HGQnUBA_wVO"
      },
      "execution_count": null,
      "outputs": []
    },
    {
      "cell_type": "markdown",
      "source": [
        "4. **abs()**\n",
        "\n",
        "The abs() function returns the absolute value of the specified number.  What is an absolute number: Absolute value of a number is the value without considering its sign. Hence absolute of 10 is 10, -10 is also 10. If the number is a complex number, abs() returns its magnitude.\n",
        "\n",
        "![image.png](data:image/png;base64,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)"
      ],
      "metadata": {
        "id": "6zj6K-1LADhH"
      }
    },
    {
      "cell_type": "code",
      "source": [
        "negative_number  = -676\n",
        "print(abs(negative_number))"
      ],
      "metadata": {
        "id": "p_nhP_GlAJsI"
      },
      "execution_count": null,
      "outputs": []
    },
    {
      "cell_type": "markdown",
      "source": [
        "5. **pow()**\n",
        "\n",
        "The pow() function returns the calculated value of x to the power of y i.e, xy.\n",
        "\n",
        "If a third parameter is present in this function, then it returns x to the power of y, modulus z."
      ],
      "metadata": {
        "id": "msT_KBGhAxDq"
      }
    },
    {
      "cell_type": "code",
      "source": [
        "x = pow(3, 4)\n",
        "print(x)"
      ],
      "metadata": {
        "id": "qlOaSYGMDlWo",
        "outputId": "22efe0a6-e378-4a24-bbb5-a05310552979",
        "colab": {
          "base_uri": "https://localhost:8080/"
        }
      },
      "execution_count": null,
      "outputs": [
        {
          "output_type": "stream",
          "name": "stdout",
          "text": [
            "81\n"
          ]
        }
      ]
    },
    {
      "cell_type": "markdown",
      "source": [
        "6. **dir()**\n",
        "\n",
        "The dir() function returns all the properties and methods of the specified object, without the values.\n",
        "\n",
        "This function even returns built-in properties which are the default for all objects (functions , modules, strings, lists, dictionaries etc.)."
      ],
      "metadata": {
        "id": "LmHnkQkAF2nf"
      }
    },
    {
      "cell_type": "code",
      "source": [
        "class Person:\n",
        "  name = \"Chirag Goyal\"\n",
        "  age = 19\n",
        "  country = \"India\"\n",
        "  education = \"IIT Jodhpur\"\n",
        "print(dir(Person))"
      ],
      "metadata": {
        "id": "4ga6pVmpGPhx",
        "outputId": "cf91c50a-80ab-4d53-f225-d2d5bac4e3a7",
        "colab": {
          "base_uri": "https://localhost:8080/"
        }
      },
      "execution_count": null,
      "outputs": [
        {
          "output_type": "stream",
          "name": "stdout",
          "text": [
            "['__class__', '__delattr__', '__dict__', '__dir__', '__doc__', '__eq__', '__format__', '__ge__', '__getattribute__', '__gt__', '__hash__', '__init__', '__init_subclass__', '__le__', '__lt__', '__module__', '__ne__', '__new__', '__reduce__', '__reduce_ex__', '__repr__', '__setattr__', '__sizeof__', '__str__', '__subclasshook__', '__weakref__', 'age', 'country', 'education', 'name']\n"
          ]
        }
      ]
    },
    {
      "cell_type": "markdown",
      "source": [
        "7. **sorted()**\n",
        "\n",
        "The sorted() function returns a sorted list of the specified iterable object.\n",
        "\n",
        "You can specify the order to be either ascending or descending. In this function, Strings are sorted alphabetically, and numbers are sorted numerically.\n",
        "\n",
        "NOTE: If a list contains BOTH string values AND numeric values, then we cannot sort it.\n",
        "\n",
        "***Below: 1st example is sorted in ascending order and the 2nd example in descending order.***"
      ],
      "metadata": {
        "id": "pdQUwV_OGaS1"
      }
    },
    {
      "cell_type": "code",
      "source": [
        "tuple = (\"h\", \"b\", \"a\", \"c\", \"f\", \"d\", \"e\", \"g\")\n",
        "print(sorted(tuple))"
      ],
      "metadata": {
        "id": "a6UzqqskGhCV"
      },
      "execution_count": null,
      "outputs": []
    },
    {
      "cell_type": "code",
      "source": [
        "tuple = (\"h\", \"b\", \"a\", \"c\", \"f\", \"d\", \"e\", \"g\")\n",
        "print(sorted(tuple, reverse=True))"
      ],
      "metadata": {
        "id": "7JDjYaBUGqWK"
      },
      "execution_count": null,
      "outputs": []
    },
    {
      "cell_type": "markdown",
      "source": [
        "8. **max()**\n",
        "\n",
        "The max() function returns the item with the maximum value.\n",
        "\n",
        "If the values this function takes are strings, then it is done using an alphabetical comparison."
      ],
      "metadata": {
        "id": "ndIH6JZHG0vQ"
      }
    },
    {
      "cell_type": "code",
      "source": [
        "names_tuple = ('Chirag', 'Kshitiz', 'Dinesh', 'Kartik')\n",
        "print(max(names_tuple))"
      ],
      "metadata": {
        "id": "KD0Prm61HEsb"
      },
      "execution_count": null,
      "outputs": []
    },
    {
      "cell_type": "code",
      "source": [
        "number_tuple = (2785, 545, -987, 1239, 453)\n",
        "print(max(number_tuple))"
      ],
      "metadata": {
        "id": "mxOKG1CVH63E"
      },
      "execution_count": null,
      "outputs": []
    },
    {
      "cell_type": "markdown",
      "source": [
        "9. **round()**\n",
        "\n",
        "The round() function **returns a floating-point number** that is a rounded version of the specified number, with the specified number of decimals.\n",
        "\n",
        "The default number of decimals is 0, meaning that the **function will return the nearest integer.**"
      ],
      "metadata": {
        "id": "la8wfxtcH9XN"
      }
    },
    {
      "cell_type": "code",
      "source": [
        "nearest_number = round(87.76432)\n",
        "print(nearest_number)"
      ],
      "metadata": {
        "id": "4Z0LK83sIJPY"
      },
      "execution_count": null,
      "outputs": []
    },
    {
      "cell_type": "code",
      "source": [
        "nearest_number = round(87.46432)\n",
        "print(nearest_number)"
      ],
      "metadata": {
        "id": "oWB6ONh5INOV"
      },
      "execution_count": null,
      "outputs": []
    },
    {
      "cell_type": "markdown",
      "source": [
        "10. **divmod()**\n",
        "\n",
        "The divmod() function returns a tuple containing the quotient and the remainder when the first argument i.e, the dividend is divided by the second argument i.e, the divisor.\n",
        "\n",
        "e.g. **Example 1: Display the quotient and the remainder when 7 is divided by 3:**"
      ],
      "metadata": {
        "id": "N8Ufjv9pIRfw"
      }
    },
    {
      "cell_type": "code",
      "source": [
        "x = divmod(7, 3)\n",
        "print(x)"
      ],
      "metadata": {
        "id": "7MLjUifiIgfp"
      },
      "execution_count": null,
      "outputs": []
    },
    {
      "cell_type": "markdown",
      "source": [
        "e.g. **Example 2: Display the quotient and the remainder when 72 is divided by 6:**"
      ],
      "metadata": {
        "id": "bsivo61CIsyW"
      }
    },
    {
      "cell_type": "code",
      "source": [
        "x = divmod(72, 6)\n",
        "print(x)"
      ],
      "metadata": {
        "id": "HMNAcOUyIvq-"
      },
      "execution_count": null,
      "outputs": []
    },
    {
      "cell_type": "markdown",
      "source": [
        "11. **id()**\n",
        "\n",
        "The id() function **returns a unique id for the specified object**. *Note that all the objects in Python have their own unique id.*\n",
        "\n",
        "The id is assigned to the object when it is created.\n",
        "\n",
        "The **id is the object’s memory address** and will be *different for each time you run the program.* (**except** for some object that has a constant unique id, *like integers from -5 to 256*)"
      ],
      "metadata": {
        "id": "xd5jTCXaI6Ac"
      }
    },
    {
      "cell_type": "code",
      "source": [
        "names_tuple = ('Chirag', 'Kshitiz', 'Dinesh', 'Kartik')\n",
        "print(id(names_tuple))"
      ],
      "metadata": {
        "id": "1sASFKViJKAG"
      },
      "execution_count": null,
      "outputs": []
    },
    {
      "cell_type": "code",
      "source": [
        "string = \"Analytics Vidhya is the Largest Data Science Community\"\n",
        "print(id(string))"
      ],
      "metadata": {
        "id": "LKWxM5NRJRv8"
      },
      "execution_count": null,
      "outputs": []
    },
    {
      "cell_type": "markdown",
      "source": [
        "12. **ord()**\n",
        "\n",
        "The ord() function **returns the number representing the Unicode code **of a **specified character**."
      ],
      "metadata": {
        "id": "NWn5ocp5JTVy"
      }
    },
    {
      "cell_type": "code",
      "source": [
        "x = ord(\"h\")\n",
        "print(x)"
      ],
      "metadata": {
        "id": "R_t8fadWJfVe"
      },
      "execution_count": null,
      "outputs": []
    },
    {
      "cell_type": "code",
      "source": [
        "x = ord(\"H\")\n",
        "print(x)"
      ],
      "metadata": {
        "id": "D6U9XM3IJkPj"
      },
      "execution_count": null,
      "outputs": []
    },
    {
      "cell_type": "markdown",
      "source": [
        "**Unicode Explained briefly:**\n",
        "\n",
        "A **character code** that **defines every character in most of the speaking languages in the world**. Although commonly thought to be only a two-byte coding system, Unicode characters can use only one byte, or up to four bytes, to hold a Unicode \"code point\" (see below). The code point is a unique number for a character or some symbol such as an accent mark or ligature. Unicode supports more than a million code points, which are written with a \"U\" followed by a plus sign and the number in hex; for example, the word \"**Hello\"** is written **U+0048 U+0065 U+006C U+006C U+006F**"
      ],
      "metadata": {
        "id": "q0STZTN3KVH8"
      }
    },
    {
      "cell_type": "markdown",
      "source": [
        "13. **len()**\n",
        "\n",
        "The len() function **returns the count of items present in a specified object**.\n",
        "\n",
        "When the object is a **string**, then the len() function **returns the number of characters present in that string**."
      ],
      "metadata": {
        "id": "btraPZZDKlSc"
      }
    },
    {
      "cell_type": "code",
      "source": [
        "fruit_list = [\"apple\", \"banana\", \"cherry\", \"mango\", \"pear\"]\n",
        "print(len(fruit_list))"
      ],
      "metadata": {
        "id": "k0m_iu9kK0ZI"
      },
      "execution_count": null,
      "outputs": []
    },
    {
      "cell_type": "code",
      "source": [
        "string = \"Analytics Vidhya is the Largest Data Science Community\"\n",
        "print(len(string))"
      ],
      "metadata": {
        "id": "SXykQ7oYK4wR"
      },
      "execution_count": null,
      "outputs": []
    },
    {
      "cell_type": "markdown",
      "source": [
        "14. **sum()**\n",
        "\n",
        "The sum() function returns a number, the sum of all items in an iterable.\n",
        "\n",
        "**Difference between iterable and iterator:**\n",
        "\n",
        "Iterable is an object, that one can iterate over. It generates an Iterator when passed to iter() method. An iterator is an object, which is used to iterate over an iterable object using the __next__() method. Iterators have the __next__() method, which returns the next item of the object. Note that every iterator is also an iterable, but not every iterable is an iterator. For example, a list is iterable but a list is not an iterator. An iterator can be created from an iterable by using the function iter(). To make this possible, the class of an object needs either a method __iter__, which returns an iterator, or a __getitem__ method with sequential indexes starting with 0. "
      ],
      "metadata": {
        "id": "6ZNHSrQNK9Tr"
      }
    },
    {
      "cell_type": "code",
      "source": [
        "list = [1, 2, 3, 4, 5]\n",
        "print(sum(list))"
      ],
      "metadata": {
        "id": "GWWSUuyILirE"
      },
      "execution_count": null,
      "outputs": []
    },
    {
      "cell_type": "markdown",
      "source": [
        "15. **help()**\n",
        "\n",
        "The help() function is used to **display the documentation of modules, functions, classes, keywords, etc.**\n",
        "\n",
        "If we don’t give an argument to the help function, then the interactive help utility starts up on the console."
      ],
      "metadata": {
        "id": "DW4t17sOL99T"
      }
    },
    {
      "cell_type": "code",
      "source": [
        "help(sum)"
      ],
      "metadata": {
        "id": "Xe32nb_1MPMA"
      },
      "execution_count": null,
      "outputs": []
    },
    {
      "cell_type": "code",
      "source": [
        "help(print)"
      ],
      "metadata": {
        "id": "mMeGUGWyMHWs"
      },
      "execution_count": null,
      "outputs": []
    },
    {
      "cell_type": "markdown",
      "source": [
        "**TYPE CONVERSION FUNCTIONS**\n",
        "\n",
        "\n",
        "Python defines type conversion functions like int(), float(), str() to directly convert one data type into another. This type of conversion is also called typecasting because the user casts (change) the data type of the objects. This function converts any data type into integer.\n",
        "\n",
        "In Python, the conversion of data type is called an implicit conversion of data type when it takes place during compilation, or during run time. Python manages the conversion of the implicit data type, so we do not directly convert the data type to another data type.\n",
        "\n",
        "Besides the int(str) functions, Python support other type conversion functions. The following shows the most important ones for now:\n",
        "\n",
        "float(str) – convert a string to a floating-point number.\n",
        "bool(val) – convert a value to a boolean value, either True or False.\n",
        "str(val) – return the string representation of a value.\n",
        "\n",
        "**Recap on Data Types:**"
      ],
      "metadata": {
        "id": "Ah_F83OOkt8Z"
      }
    },
    {
      "cell_type": "code",
      "source": [
        "type(100)"
      ],
      "metadata": {
        "id": "9Brwh-lrlXPI"
      },
      "execution_count": null,
      "outputs": []
    },
    {
      "cell_type": "code",
      "source": [
        "type(2.0)"
      ],
      "metadata": {
        "id": "3CijsCPZloBP"
      },
      "execution_count": null,
      "outputs": []
    },
    {
      "cell_type": "code",
      "source": [
        "type('Hello')"
      ],
      "metadata": {
        "id": "FB9nR0PVlqh4"
      },
      "execution_count": null,
      "outputs": []
    },
    {
      "cell_type": "code",
      "source": [
        "type(True)"
      ],
      "metadata": {
        "id": "d7ymM5w0lsqu"
      },
      "execution_count": null,
      "outputs": []
    },
    {
      "cell_type": "markdown",
      "source": [
        "**Type Conversion 1:**\n",
        "\n",
        "**Implicit Type Conversion**\n",
        "\n",
        "In Implicit type conversion, Python automatically converts one data type to another data type. This process doesn't need any user involvement.\n",
        "\n",
        "Let's see an example where Python promotes the conversion of the lower data type (integer) to the higher data type (float) to avoid data loss.\n",
        "\n",
        "**Example 1: Converting integer to float:**"
      ],
      "metadata": {
        "id": "hpO_tDINmQyV"
      }
    },
    {
      "cell_type": "code",
      "source": [
        "num_int = 123\n",
        "num_flo = 1.23\n",
        "\n",
        "num_new = num_int + num_flo\n",
        "\n",
        "print(\"datatype of num_int:\",type(num_int))\n",
        "print(\"datatype of num_flo:\",type(num_flo))\n",
        "\n",
        "print(\"Value of num_new:\",num_new)\n",
        "print(\"datatype of num_new:\",type(num_new))"
      ],
      "metadata": {
        "id": "OAVKsDg1muAR"
      },
      "execution_count": null,
      "outputs": []
    },
    {
      "cell_type": "markdown",
      "source": [
        "**In the above program:**\n",
        "\n",
        "\n",
        "We add two variables **num_int** and **num_flo**, storing the value in **num_new**.\n",
        "\n",
        "We will look at the data type of all three objects respectively.\n",
        "\n",
        "In the output, we can see the data type of **num_int** is an *integer* while the data type of n**um_flo** is a *float*.\n",
        "\n",
        "Also, we can see the **num_new** has a *float data type* because ***Python always converts smaller data types to larger data types to avoid the loss of data.***"
      ],
      "metadata": {
        "id": "HdRcPiGnnOQj"
      }
    },
    {
      "cell_type": "markdown",
      "source": [
        "Now, let's try adding a string and an integer, and see how Python deals with it.\n",
        "\n",
        "**Example 2: Addition of string(higher) data type and integer(lower) datatype:**"
      ],
      "metadata": {
        "id": "n2qTqY8eni2G"
      }
    },
    {
      "cell_type": "code",
      "source": [
        "num_int = 123\n",
        "num_str = \"456\"\n",
        "\n",
        "print(\"Data type of num_int:\",type(num_int))\n",
        "print(\"Data type of num_str:\",type(num_str))\n",
        "\n",
        "print(num_int+num_str)"
      ],
      "metadata": {
        "id": "zTLN5uuAnswo"
      },
      "execution_count": null,
      "outputs": []
    },
    {
      "cell_type": "markdown",
      "source": [
        "**In the above program:**\n",
        "\n",
        "We add two variables **num_int** and **num_str**.\n",
        "\n",
        "As we can see from the output, we got **TypeError**. Python is not able to use Implicit Conversion in such conditions.\n",
        "\n",
        "However, Python has a solution for these types of situations which is known as **Explicit Conversion.**"
      ],
      "metadata": {
        "id": "4Rd_MGzVn2hv"
      }
    },
    {
      "cell_type": "markdown",
      "source": [
        "**Type Conversion 2:**\n",
        "\n",
        "**Exlicit Type Conversion** \n",
        "\n",
        "In Explicit Type Conversion, users convert the data type of an object to required data type. We use the predefined functions like int(), float(), str(), etc. to perform explicit type conversion.\n",
        "\n",
        "This type of conversion **is also called typecasting** because the ***user casts (changes) the data type of the objects.***\n",
        "\n",
        "**Syntax :**"
      ],
      "metadata": {
        "id": "S8XRXZ5hoBef"
      }
    },
    {
      "cell_type": "code",
      "source": [
        "# <required_datatype>(expression) "
      ],
      "metadata": {
        "id": "cEAy_C-8os-d"
      },
      "execution_count": null,
      "outputs": []
    },
    {
      "cell_type": "markdown",
      "source": [
        "**Example 3: Addition of string and integer using explicit conversion**"
      ],
      "metadata": {
        "id": "JGeTj1f3o1y8"
      }
    },
    {
      "cell_type": "code",
      "source": [
        "num_int = 123\n",
        "num_str = \"456\"\n",
        "\n",
        "print(\"Data type of num_int:\",type(num_int))\n",
        "print(\"Data type of num_str before Type Casting:\",type(num_str))\n",
        "\n",
        "num_str = int(num_str)\n",
        "print(\"Data type of num_str after Type Casting:\",type(num_str))\n",
        "\n",
        "num_sum = num_int + num_str\n",
        "\n",
        "print(\"Sum of num_int and num_str:\",num_sum)\n",
        "print(\"Data type of the sum:\",type(num_sum))"
      ],
      "metadata": {
        "id": "YjIjZzWFpAjN",
        "outputId": "26166155-e354-4bfc-aed0-a14802025f56",
        "colab": {
          "base_uri": "https://localhost:8080/"
        }
      },
      "execution_count": 9,
      "outputs": [
        {
          "output_type": "stream",
          "name": "stdout",
          "text": [
            "Data type of num_int: <class 'int'>\n",
            "Data type of num_str before Type Casting: <class 'str'>\n",
            "Data type of num_str after Type Casting: <class 'int'>\n",
            "Sum of num_int and num_str: 579\n",
            "Data type of the sum: <class 'int'>\n"
          ]
        }
      ]
    },
    {
      "cell_type": "markdown",
      "source": [
        "**In the above program:**\n",
        "\n",
        "We add **num_str** and **num_int** variable.\n",
        "\n",
        "We converted **num_str** from string(higher) to integer(lower) type using int() function to perform the addition.\n",
        "\n",
        "After converting **num_str** to an integer value, Python is able to add these two variables.\n",
        "\n",
        "We got the num_sum value and data type to be an integer.\n"
      ],
      "metadata": {
        "id": "OgU_cpQ9pD7T"
      }
    },
    {
      "cell_type": "markdown",
      "source": [
        "**BASIC ORDINARY TYPE CONVERSIONS:**\n",
        "\n",
        "**Converting into integer:** "
      ],
      "metadata": {
        "id": "1yTs5RHSp8WQ"
      }
    },
    {
      "cell_type": "code",
      "source": [
        "int('32')"
      ],
      "metadata": {
        "id": "I6_vGG04qPTG"
      },
      "execution_count": null,
      "outputs": []
    },
    {
      "cell_type": "code",
      "source": [
        "int('Hello')"
      ],
      "metadata": {
        "id": "67dSmxbhqUpv"
      },
      "execution_count": null,
      "outputs": []
    },
    {
      "cell_type": "markdown",
      "source": [
        "**Converting float-point to integer:**\n",
        "\n",
        "Note: is does **NO ROUNDING OFF**."
      ],
      "metadata": {
        "id": "vw_KVk3uqf6N"
      }
    },
    {
      "cell_type": "code",
      "source": [
        "int(4.76986)"
      ],
      "metadata": {
        "id": "u-COETPlqq9D"
      },
      "execution_count": null,
      "outputs": []
    },
    {
      "cell_type": "code",
      "source": [
        "int(-6.35435)"
      ],
      "metadata": {
        "id": "hGNNDuUUqu__"
      },
      "execution_count": null,
      "outputs": []
    },
    {
      "cell_type": "markdown",
      "source": [
        "**Converting integers nd strings to float-point numbers:**"
      ],
      "metadata": {
        "id": "5mz5uWfrq2Tf"
      }
    },
    {
      "cell_type": "code",
      "source": [
        "float(32)"
      ],
      "metadata": {
        "id": "XqypTtE7q92a"
      },
      "execution_count": null,
      "outputs": []
    },
    {
      "cell_type": "code",
      "source": [
        "float('5.3245')"
      ],
      "metadata": {
        "id": "OU6MrZO0q_7E"
      },
      "execution_count": null,
      "outputs": []
    },
    {
      "cell_type": "markdown",
      "source": [
        "**Converting an argument to a string:**"
      ],
      "metadata": {
        "id": "slkOy1C5rFe8"
      }
    },
    {
      "cell_type": "code",
      "source": [
        "str(32)"
      ],
      "metadata": {
        "id": "Q7ry8ZTCrLuM"
      },
      "execution_count": null,
      "outputs": []
    },
    {
      "cell_type": "code",
      "source": [
        "str(5.43754)"
      ],
      "metadata": {
        "id": "QkRLudDBrNxW"
      },
      "execution_count": null,
      "outputs": []
    },
    {
      "cell_type": "markdown",
      "source": [
        "***MATH FUNCTIONS ***\n",
        "\n",
        "Python has a ***math module*** for this.\n",
        "\n",
        "**NOTE:** you have to import this before it can be used:\n",
        "\n",
        ">>> import math\n",
        "\n",
        "A Module object is now created by the above statement and is called *math*.\n",
        "\n",
        "**Mathematical Operators vs. Math Functions**\n",
        "\n",
        "For *straightforward mathematical calculations* in Python, you can use the **built-in mathematical operators**, such as addition (+), subtraction (-), division (/), and multiplication (*). \n",
        "\n",
        "But *more advanced operations*, such as exponential, logarithmic, trigonometric, or power functions, are not built in - then you use the math functions in the **build-in math module**.\n",
        "\n",
        "**Applications or uses of Math Module:**\n",
        "\n",
        "The Python math module offers you the ability to perform common and useful mathematical calculations within your application. Here are a few practical uses for the math module:\n",
        "\n",
        "1. Calculating combinations and permutations using factorials\n",
        "\n",
        "2. Calculating the height of a pole using trigonometric functions\n",
        "\n",
        "3. Calculating radioactive decay using the exponential function\n",
        "\n",
        "4. Calculating the curve of a suspension bridge using hyperbolic functions\n",
        "\n",
        "5. Solving quadratic equations\n",
        "\n",
        "6. Simulating periodic functions, such as sound and light waves, using trigonometric functions"
      ],
      "metadata": {
        "id": "x6d9wFBErUq8"
      }
    },
    {
      "cell_type": "code",
      "source": [
        "import math\n",
        "print(math)"
      ],
      "metadata": {
        "id": "x5bVa2aKrwdu"
      },
      "execution_count": null,
      "outputs": []
    },
    {
      "cell_type": "markdown",
      "source": [
        "This (and other **modules**) contains **functions** and **variables** related to the math module.\n",
        "\n",
        "To use the functions you need to specify the name of the module and the function with a **dot notation** (dot or period)."
      ],
      "metadata": {
        "id": "WW5hbtyYr7hF"
      }
    },
    {
      "cell_type": "markdown",
      "source": [
        "List of Math Functions in Math Module:\n",
        "\n",
        "Function -\tDescription\n",
        "\n",
        "ceil(x)\t- Returns the smallest integer greater than or equal to x\n",
        "\n",
        "copysign(x, y)\t- Returns x with the sign of y\n",
        "\n",
        "fabs(x)\t- Returns the absolute value of x\n",
        "\n",
        "factorial(x)\t- Returns the factorial of x\n",
        "\n",
        "floor(x)\t- Returns the largest integer less than or equal to x\n",
        "\n",
        "fmod(x, y)\t- Returns the remainder when x is divided by y\n",
        "\n",
        "frexp(x)\t- Returns the mantissa and exponent of x as the pair (m, e)\n",
        "\n",
        "fsum(iterable)\t- Returns an accurate floating point sum of values in the iterable\n",
        "\n",
        "isfinite(x)\t- Returns True if x is neither an infinity nor a NaN (Not a Number)\n",
        "\n",
        "isinf(x)\t- Returns True if x is a positive or negative infinity\n",
        "\n",
        "isnan(x)\t- Returns True if x is a NaN\n",
        "\n",
        "ldexp(x, i)\t- Returns x * (2**i)\n",
        "\n",
        "modf(x)\t- Returns the fractional and integer parts of x\n",
        "\n",
        "trunc(x)\t- Returns the truncated integer value of x\n",
        "\n",
        "exp(x)\t- Returns e**x\n",
        "\n",
        "expm1(x)\t- Returns e**x - 1\n",
        "\n",
        "log(x[, b])\t- Returns the logarithm of x to the base b (defaults to e)\n",
        "\n",
        "log1p(x)\t- Returns the natural logarithm of 1+x\n",
        "\n",
        "log2(x)\t- Returns the base-2 logarithm of x\n",
        "\n",
        "log10(x)\t- Returns the base-10 logarithm of x\n",
        "\n",
        "pow(x, y)\t- Returns x raised to the power y\n",
        "\n",
        "sqrt(x)\t- Returns the square root of x\n",
        "\n",
        "acos(x)\t- Returns the arc cosine of x\n",
        "\n",
        "asin(x)\t- Returns the arc sine of x\n",
        "\n",
        "atan(x)\t- Returns the arc tangent of x\n",
        "\n",
        "atan2(y, x)\t- Returns atan(y / x)\n",
        "\n",
        "cos(x)\t- Returns the cosine of x\n",
        "\n",
        "hypot(x, y)\t- Returns the Euclidean norm, sqrt(x*x + y*y)\n",
        "\n",
        "sin(x)\t- Returns the sine of x\n",
        "\n",
        "tan(x)\t- Returns the tangent of x\n",
        "\n",
        "degrees(x)\t- Converts angle x from radians to degrees\n",
        "\n",
        "radians(x)\t- Converts angle x from degrees to radians\n",
        "\n",
        "acosh(x)\t- Returns the inverse hyperbolic cosine of x\n",
        "\n",
        "asinh(x)\t- Returns the inverse hyperbolic sine of x\n",
        "\n",
        "atanh(x)\t- Returns the inverse hyperbolic tangent of x\n",
        "\n",
        "cosh(x)\t- Returns the hyperbolic cosine of x\n",
        "\n",
        "sinh(x)\t- Returns the hyperbolic cosine of x\n",
        "\n",
        "tanh(x)\t- Returns the hyperbolic tangent of x\n",
        "\n",
        "erf(x)\t- Returns the error function at x\n",
        "\n",
        "erfc(x)\t- Returns the complementary error function at x\n",
        "\n",
        "gamma(x)\t- Returns the Gamma function at x\n",
        "\n",
        "lgamma(x)\t- Returns the natural logarithm of the absolute value of the Gamma function at x\n",
        "\n",
        "pi\t- Mathematical constant, the ratio of circumference of a circle to it's diameter (3.14159...)\n",
        "\n",
        "e\t- mathematical constant e (2.71828...)\n"
      ],
      "metadata": {
        "id": "pyXKKPocsmso"
      }
    },
    {
      "cell_type": "markdown",
      "source": [
        "Commonly Used Math functions:"
      ],
      "metadata": {
        "id": "wLM3HBaWtcCe"
      }
    },
    {
      "cell_type": "code",
      "source": [
        "# Square root calculation\n",
        "\n",
        "import math\n",
        "math.sqrt(4)"
      ],
      "metadata": {
        "id": "x0cx0RIUtfNZ"
      },
      "execution_count": null,
      "outputs": []
    },
    {
      "cell_type": "code",
      "source": [
        "# Power Used to raise x value. It raises the first to the second and returns the result. In other words, pow(5,2) is equivalent to 4**4. Example: \n",
        "\n",
        "pow(5,2)"
      ],
      "metadata": {
        "id": "glQzgQwxt7gF"
      },
      "execution_count": null,
      "outputs": []
    },
    {
      "cell_type": "markdown",
      "source": [
        "**CONSTANTS in the Math Module:**\n",
        "\n",
        "one is **pi**\n",
        "\n",
        "What is pi?\n",
        "\n",
        "The number **π **is a mathematical constant that is the **ratio of a circle's circumference to its diameter**, approximately equal to ......\n",
        "\n",
        "funtion: math.pi\n",
        "\n",
        "**Interesting fact:**\n",
        "\n",
        "**PiDay is on 14 March** - why? Calculate pi. below and see if you get the answer."
      ],
      "metadata": {
        "id": "MWpZxwPkwDPY"
      }
    },
    {
      "cell_type": "code",
      "source": [
        "math.pi"
      ],
      "metadata": {
        "id": "S4cZ7Wk1wVot"
      },
      "execution_count": null,
      "outputs": []
    },
    {
      "cell_type": "markdown",
      "source": [
        "**FACTORIALS**\n",
        "\n",
        "You may have seen mathematical expressions like 7! or 4! before. The exclamation marks don’t mean that the numbers are excited. Rather, **“!” **is the **factorial symbol**. Factorials are used in **finding permutations or combinations**. **You can determine the factorial of a number by multiplying all whole numbers from the chosen number down to 1.**\n",
        "\n",
        "The following table shows the factorial values for 4, 6, and 7:\n",
        "\n",
        "Symbol\tIn Words\tExpression\tResult\n",
        "\n",
        "4!\tFour factorial =\t4 x 3 x 2 x 1\t24\n",
        "\n",
        "6!\tSix factorial\t = 6 x 5 x 4 x 3 x 2 x 1\t720\n",
        "\n",
        "7!\tSeven factorial\t= 7 x 6 x 5 x 4 x 3 x 2 x 1\t5040"
      ],
      "metadata": {
        "id": "xnHLRif2xQYu"
      }
    },
    {
      "cell_type": "code",
      "source": [
        "math.factorial(7)"
      ],
      "metadata": {
        "id": "opXhpJkwxlwG"
      },
      "execution_count": null,
      "outputs": []
    },
    {
      "cell_type": "code",
      "source": [
        "math.factorial(-5)"
      ],
      "metadata": {
        "id": "S7jHDDIjx6cf"
      },
      "execution_count": null,
      "outputs": []
    },
    {
      "cell_type": "code",
      "source": [
        "math.factorial(4.3)"
      ],
      "metadata": {
        "id": "W5Mk7xxRyA9U"
      },
      "execution_count": null,
      "outputs": []
    }
  ]
}