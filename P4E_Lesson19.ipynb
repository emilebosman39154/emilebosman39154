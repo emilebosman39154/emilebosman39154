{
  "nbformat": 4,
  "nbformat_minor": 0,
  "metadata": {
    "colab": {
      "provenance": [],
      "include_colab_link": true
    },
    "kernelspec": {
      "name": "python3",
      "display_name": "Python 3"
    },
    "language_info": {
      "name": "python"
    }
  },
  "cells": [
    {
      "cell_type": "markdown",
      "metadata": {
        "id": "view-in-github",
        "colab_type": "text"
      },
      "source": [
        "<a href=\"https://colab.research.google.com/github/emilebosman39154/emilebosman39154/blob/main/P4E_Lesson19.ipynb\" target=\"_parent\"><img src=\"https://colab.research.google.com/assets/colab-badge.svg\" alt=\"Open In Colab\"/></a>"
      ]
    },
    {
      "cell_type": "markdown",
      "source": [
        "# **Lesson 19 : Chapter 9 (Dictionaries)**\n",
        "\n"
      ],
      "metadata": {
        "id": "5kD5T4xArapf"
      }
    },
    {
      "cell_type": "markdown",
      "source": [
        "# **Quick Test**\n",
        "\n",
        "None"
      ],
      "metadata": {
        "id": "nqAkyfMtIrv1"
      }
    },
    {
      "cell_type": "markdown",
      "source": [
        "1. \n",
        "\n",
        "None\n"
      ],
      "metadata": {
        "id": "7RVjhoAWDKn8"
      }
    },
    {
      "cell_type": "markdown",
      "source": [
        "# **Quick Test Answers**\n",
        "\n",
        "**1. Answers:**\n",
        "\n",
        "None"
      ],
      "metadata": {
        "id": "TsTWYEfT9HSX"
      }
    },
    {
      "cell_type": "markdown",
      "source": [
        "## **Dictionaries - General**\n"
      ],
      "metadata": {
        "id": "j1WQsgheaj0N"
      }
    },
    {
      "cell_type": "markdown",
      "source": [
        "## **1. What is a Dictionary?**\n",
        "Dictionaries are used to store data values in key:value pairs. A dictionary is a collection which is ordered, changeable and do not allow duplicates. \n",
        "\n",
        "As of Python version 3.7, dictionaries are ordered - before that it was unordered.\n",
        "\n",
        "Dictionaries are written with curly brackets {}, and have keys and values:"
      ],
      "metadata": {
        "id": "nu_cWZ64hFeP"
      }
    },
    {
      "cell_type": "code",
      "source": [
        "thisdict = {\n",
        "  \"brand\": \"Ford\",\n",
        "  \"model\": \"Mustang\",\n",
        "  \"year\": 1964\n",
        "}\n",
        "print(thisdict)"
      ],
      "metadata": {
        "id": "XAo-Oi5PjwcR"
      },
      "execution_count": null,
      "outputs": []
    },
    {
      "cell_type": "markdown",
      "source": [
        "## **2. Ob**\n",
        "\n",
        "\n",
        "\n",
        "**2.1 St**"
      ],
      "metadata": {
        "id": "3pmre4U39-NU"
      }
    },
    {
      "cell_type": "code",
      "source": [],
      "metadata": {
        "id": "-7EYdHfP-dge"
      },
      "execution_count": null,
      "outputs": []
    },
    {
      "cell_type": "markdown",
      "source": [
        "**Creating an empty dictionary:**"
      ],
      "metadata": {
        "id": "UvN3kvilJ52L"
      }
    },
    {
      "cell_type": "code",
      "source": [
        "eng2sp = dict()\n",
        "print(eng2sp)\n"
      ],
      "metadata": {
        "id": "Iq4N4FH8J8ay"
      },
      "execution_count": null,
      "outputs": []
    },
    {
      "cell_type": "markdown",
      "source": [
        "**Adding an item to your disctionary:**"
      ],
      "metadata": {
        "id": "-fTWwm21KNK6"
      }
    },
    {
      "cell_type": "code",
      "source": [
        " eng2sp['one'] = 'uno'\n",
        " print(eng2sp)"
      ],
      "metadata": {
        "colab": {
          "base_uri": "https://localhost:8080/"
        },
        "id": "muLbz651KRim",
        "outputId": "ef0b30e2-78fb-462e-a53b-74b939444f37"
      },
      "execution_count": 3,
      "outputs": [
        {
          "output_type": "stream",
          "name": "stdout",
          "text": [
            "{'one': 'uno'}\n"
          ]
        }
      ]
    },
    {
      "cell_type": "markdown",
      "source": [
        "**Result Order may vary from Input Order - lookup is via index**\n",
        "\n"
      ],
      "metadata": {
        "id": "fu2fEotLK4cO"
      }
    },
    {
      "cell_type": "code",
      "source": [
        "eng2sp = {'one': 'uno', 'two': 'dos', 'three': 'tres'}\n",
        "print(eng2sp)"
      ],
      "metadata": {
        "colab": {
          "base_uri": "https://localhost:8080/"
        },
        "id": "imNHfe0LLAlV",
        "outputId": "44c85fc6-3902-43e9-e61a-59fab66b1922"
      },
      "execution_count": 4,
      "outputs": [
        {
          "output_type": "stream",
          "name": "stdout",
          "text": [
            "{'one': 'uno', 'two': 'dos', 'three': 'tres'}\n"
          ]
        }
      ]
    },
    {
      "cell_type": "markdown",
      "source": [
        "**Lookup values in Dictionary:**"
      ],
      "metadata": {
        "id": "OdBjchYuMVhF"
      }
    },
    {
      "cell_type": "code",
      "source": [
        "print(eng2sp['two'])"
      ],
      "metadata": {
        "id": "FvXjQfK0Ma-i"
      },
      "execution_count": null,
      "outputs": []
    },
    {
      "cell_type": "markdown",
      "source": [
        "**Question: Why does the following exception (error) occurs:**"
      ],
      "metadata": {
        "id": "NCvBbgs-Mnha"
      }
    },
    {
      "cell_type": "code",
      "source": [
        "print(eng2sp['four'])"
      ],
      "metadata": {
        "id": "UJfNzRo9MsXC"
      },
      "execution_count": null,
      "outputs": []
    },
    {
      "cell_type": "markdown",
      "source": [
        "**What length is returned with this code?:**"
      ],
      "metadata": {
        "id": "KxXhV34pMvVZ"
      }
    },
    {
      "cell_type": "code",
      "source": [
        "len(eng2sp)"
      ],
      "metadata": {
        "id": "QYojzsT9lOBR"
      },
      "execution_count": null,
      "outputs": []
    },
    {
      "cell_type": "markdown",
      "source": [
        "Checking **Key names** (if it exists in your dictionary): use \"in\""
      ],
      "metadata": {
        "id": "VJqyC2RDO6w6"
      }
    },
    {
      "cell_type": "code",
      "source": [
        "'one' in eng2sp"
      ],
      "metadata": {
        "id": "EyZHy-xFO7dM"
      },
      "execution_count": null,
      "outputs": []
    },
    {
      "cell_type": "markdown",
      "source": [
        "**Why is the top one True? **"
      ],
      "metadata": {
        "id": "0kqaFPKvQgh8"
      }
    },
    {
      "cell_type": "code",
      "source": [
        "'uno' in eng2sp"
      ],
      "metadata": {
        "id": "0XQP0i0wQeUO"
      },
      "execution_count": null,
      "outputs": []
    },
    {
      "cell_type": "markdown",
      "source": [
        "**Why is the top one False? **"
      ],
      "metadata": {
        "id": "7wQ7IWYxQoPI"
      }
    },
    {
      "cell_type": "markdown",
      "source": [
        "Checking **Value names** (if it exists in your dictionary): CONVERT Dictionary VALUES to a LIST + module .values. Then \"in\" the variable with List Elements."
      ],
      "metadata": {
        "id": "zI54-cP9RE8p"
      }
    },
    {
      "cell_type": "code",
      "source": [
        "vals = list(eng2sp.values())\n",
        "'uno' in vals"
      ],
      "metadata": {
        "id": "WpGxwi1bRFYz"
      },
      "execution_count": null,
      "outputs": []
    },
    {
      "cell_type": "markdown",
      "source": [
        "## **Program Exercise  / Challenge:**"
      ],
      "metadata": {
        "id": "wC2JR8-l8E_U"
      }
    },
    {
      "cell_type": "markdown",
      "source": [
        "Create a Quiz programme that will ask you random Capital for Country questions.  Include at least 10 Questions.\n",
        "\n",
        "You can think of a dictionary as a mapping between a set of indices (which are\n",
        "called keys) and a set of values. Referred to as: **key-value pair** or sometimes an item."
      ],
      "metadata": {
        "id": "Q90fqWcLlPDF"
      }
    },
    {
      "cell_type": "markdown",
      "source": [
        "**Possible Option: with List**"
      ],
      "metadata": {
        "id": "D2BnkMnvNFyr"
      }
    },
    {
      "cell_type": "code",
      "source": [
        "# Python quiz game\n",
        "\n",
        "questions = (\"How many elements are in the periodic table?: \",\n",
        "                       \"Which animal lays the largest eggs?: \",\n",
        "                       \"What is the most abundant gas in Earth's atmosphere?: \",\n",
        "                       \"How many bones are in the human body?: \",\n",
        "                       \"Which planet in the solar system is the hottest?: \")\n",
        "\n",
        "options = ((\"A. 116\", \"B. 117\", \"C. 118\", \"D. 119\"),\n",
        "                   (\"A. Whale\", \"B. Crocodile\", \"C. Elephant\", \"D. Ostrich\"),\n",
        "                   (\"A. Nitrogen\", \"B. Oxygen\", \"C. Carbon-Dioxide\", \"D. Hydrogen\"),\n",
        "                   (\"A. 206\", \"B. 207\", \"C. 208\", \"D. 209\"),\n",
        "                   (\"A. Mercury\", \"B. Venus\", \"C. Earth\", \"D. Mars\"))\n",
        "\n",
        "answers = (\"C\", \"D\", \"A\", \"A\", \"B\")\n",
        "guesses = []\n",
        "score = 0\n",
        "question_num = 0\n",
        "\n",
        "for question in questions:\n",
        "    print(\"----------------------\")\n",
        "    print(question)\n",
        "    for option in options[question_num]:\n",
        "        print(option)\n",
        "\n",
        "    guess = input(\"Enter (A, B, C, D): \").upper()\n",
        "    guesses.append(guess)\n",
        "    if guess == answers[question_num]:\n",
        "        score += 1\n",
        "        print(\"CORRECT!\")\n",
        "    else:\n",
        "        print(\"INCORRECT!\")\n",
        "        print(f\"{answers[question_num]} is the correct answer\")\n",
        "    question_num += 1\n",
        "\n",
        "print(\"----------------------\")\n",
        "print(\"       RESULTS        \")\n",
        "print(\"----------------------\")\n",
        "\n",
        "print(\"answers: \", end=\"\")\n",
        "for answer in answers:\n",
        "    print(answer, end=\" \")\n",
        "print()\n",
        "\n",
        "print(\"guesses: \", end=\"\")\n",
        "for guess in guesses:\n",
        "    print(guess, end=\" \")\n",
        "print()\n",
        "\n",
        "score = int(score / len(questions) * 100)\n",
        "print(f\"Your score is: {score}%\")"
      ],
      "metadata": {
        "id": "EDEX-kLFXs1d"
      },
      "execution_count": null,
      "outputs": []
    },
    {
      "cell_type": "markdown",
      "source": [
        "**Possible Option with Dictionary:**"
      ],
      "metadata": {
        "id": "yEUEr_72YC7z"
      }
    },
    {
      "cell_type": "code",
      "source": [
        "quiz = {\n",
        "    1 : {\n",
        "        \"question\" : \"What is the first name of Iron Man?\",\n",
        "        \"answer\" : \"Tony\"\n",
        "    },\n",
        "    2 : {\n",
        "        \"question\" : \"Who is called the god of lightning in Avengers?\",\n",
        "        \"answer\" : \"Thor\"\n",
        "    },\n",
        "    3 : {\n",
        "        \"question\" : \"Who carries a shield of American flag theme in Avengers?\",\n",
        "        \"answer\" : \"Captain America\"\n",
        "    },\n",
        "    4 : {\n",
        "        \"question\" : \"Which avenger is green in color?\",\n",
        "        \"answer\" : \"Hulk\"\n",
        "    },\n",
        "    5 : {\n",
        "        \"question\" : \"Which avenger can change it's size?\",\n",
        "        \"answer\" : \"AntMan\"\n",
        "    },\n",
        "    6 : {\n",
        "        \"question\" : \"Which Avenger is red in color and has mind stone?\",\n",
        "        \"answer\" : \"Vision\"\n",
        "    }\n",
        "}\n",
        "\n",
        "\n",
        "from question import quiz\n",
        "\n",
        "\n",
        "def check_ans(question, ans, attempts, score):\n",
        "    \"\"\"\n",
        "    Takes the arguments, and confirms if the answer provided by user is correct.\n",
        "    Converts all answers to lower case to make sure the quiz is not case sensitive.\n",
        "    \"\"\"\n",
        "    if quiz[question]['answer'].lower() == ans.lower():\n",
        "        print(f\"Correct Answer! \\nYour score is {score + 1}!\")\n",
        "        return True\n",
        "    else:\n",
        "        print(f\"Wrong Answer :( \\nYou have {attempts - 1} left! \\nTry again...\")\n",
        "        return False\n",
        "\n",
        "\n",
        "def print_dictionary():\n",
        "    for question_id, ques_answer in quiz.items():\n",
        "        for key in ques_answer:\n",
        "            print(key + ':', ques_answer[key])\n",
        "\n",
        "\n",
        "def intro_message():\n",
        "    \"\"\"\n",
        "    Introduces user to the quiz and rules, and takes an input from customer to start the quiz.\n",
        "    Returns true regardless of any key pressed.\n",
        "    \"\"\"\n",
        "    print(\"Welcome to this fun food quiz! \\nAre you ready to test your knowledge about food?\")\n",
        "    print(\"There are a total of 20 questions, you can skip a question anytime by typing 'skip'\")\n",
        "    input(\"Press any key to start the fun ;) \")\n",
        "    return True\n",
        "\n",
        "\n",
        "# python project.py\n",
        "intro = intro_message()\n",
        "while True:\n",
        "    score = 0\n",
        "    for question in quiz:\n",
        "        attempts = 3\n",
        "        while attempts > 0:\n",
        "            print(quiz[question]['question'])\n",
        "            answer = input(\"Enter Answer (To move to the next question, type 'skip') : \")\n",
        "            if answer == \"skip\":\n",
        "                break\n",
        "            check = check_ans(question, answer, attempts, score)\n",
        "            if check:\n",
        "                score += 1\n",
        "                break\n",
        "            attempts -= 1\n",
        "\n",
        "    break\n",
        "\n",
        "print(f\"Your final score is {score}!\\n\\n\")\n",
        "print(\"Want to know the correct answers? Please see them below! ;)\\n\")\n",
        "print_dictionary()\n",
        "print(\"Thanks for playing! 💜\")\n",
        "\n",
        "\n",
        "\n"
      ],
      "metadata": {
        "id": "SoiebgDOYZ-z"
      },
      "execution_count": null,
      "outputs": []
    },
    {
      "cell_type": "code",
      "source": [
        "# this is a trvia question Quiz Game. The game has a theme which can be chosen by the players from 3 options. \n",
        "# number of players up to 3 is avaialble\n",
        "# some known flaws are that answers require precise spelling and capitalization and in some cases punctionation (like B.B. King for example)\n",
        "# the questions are a fixed set and static\n",
        "\n",
        "\n",
        "#data sets\n",
        "from random import random\n",
        "from random import randint\n",
        "general_knowledge = { \"What is the capital of France?\": \"Paris\", \"What is the currency of Japan?\": \"Yen\", \"What is the highest mountain in the world?\": \"Mount Everest\", \"What is the largest ocean in the world?\": \"Pacific Ocean\", \"What is the smallest country in the world?\": \"Vatican City\", \"What is the largest mammal in the world?\": \"Blue Whale\", \"What is the most populous city in the world?\": \"Tokyo\", \"What is the longest river in the world?\": \"Nile River\", \"What is the tallest mammal in the world?\": \"Giraffe\", \"What is the most populous country in the world?\": \"China\", \"What is the capital of Australia?\": \"Canberra\", \"What is the currency of Canada?\": \"Canadian dollar\", \"What is the highest peak in North America?\": \"Denali\", \"What is the largest desert in the world?\": \"Antarctic Desert\", \"What is the smallest continent in the world?\": \"Australia\", \"What is the largest bird in the world?\": \"Ostrich\", \"What is the most populous continent in the world?\": \"Asia\", \"What is the capital of Germany?\": \"Berlin\", \"What is the currency of Mexico?\": \"Mexican peso\", \"What is the highest point in Africa?\": \"Mount Kilimanjaro\" }\n",
        "\n",
        "british_history = { \"Who was the first Tudor monarch of England?\": \"Henry VII\", \"Who was the first Stuart monarch of England?\": \"James I\", \"Who was the last Tudor monarch of England?\": \"Elizabeth I\", \"Who was the last Stuart monarch of England?\": \"Anne\", \"When did the War of the Roses end?\":\"1485\", \"What was the name of the treaty that established the end of the Hundred Years' War?\": \"Treaty of Troyes\", \"When did the Magna Carta signed?\": \"1215\", \"Who was the leader of the Roundheads during the English Civil War?\":\"Oliver Cromwell\", \"When was the Battle of Waterloo fought?\": \"1815\", \"What was the name of the queen who ruled England before Victoria?\": \"Elizabeth II\", \"When was the Great Fire of London?\": \"1666\", \"What was the name of the queen who ruled England before Elizabeth II?\": \"Elizabeth I\", \"When was the Industrial Revolution in Britain?\":\"1760-1840\", \"Who was the leader of the Jacobites during the Jacobite Rising of 1745?\": \"Charles Edward Stuart\", \"When was the Battle of Britain fought?\":\"1940\", \"What was the name of the queen who ruled England before Elizabeth I?\":\"Mary I\", \"When was the Battle of Trafalgar fought?\":\"1805\", \"Who was the leader of the Jacobites during the Jacobite Rising of 1689?\":\"Viscount Dundee\", \"When was the Battle of Agincourt fought?\":\"1415\", \"What was the name of the queen who ruled England before Mary I?\":\"Jane Grey\" }\n",
        "\n",
        "kings_and_queens_of_rock = { \"Who is known as the 'King of Rock and Roll'?\": \"Elvis Presley\", \"Who is known as the 'Queen of Rock and Roll'?\": \"Tina Turner\", \"Who is known as the 'Godfather of Soul'?\": \"James Brown\", \"Who is known as the 'King of the Blues'?\": \"B.B. King\", \"Who is known as the 'Queen of Soul'?\": \"Aretha Franklin\", \"Who is known as the 'King of Pop'?\": \"Michael Jackson\", \"Who is known as the 'Queen of Pop'?\": \"Madonna\", \"Who is known as the 'King of Punk'?\": \"Iggy Pop\", \"Who is known as the 'Queen of Punk'?\": \"Patti Smith\", \"Who is known as the 'King of Metal'?\": \"Ozzy Osbourne\", \"Who is known as the 'Queen of Metal'?\": \"Lita Ford\", \"Who is known as the 'King of Rockabilly'?\": \"Elvis Presley\", \"Who is known as the 'Queen of Rockabilly'?\": \"Wanda Jackson\", \"Who is known as the 'King of Country'?\": \"George Strait\",}\n",
        "\n",
        "def switch_player(current_player, player_count):\n",
        "    if player_count == 3:\n",
        "        if current_player < 3:\n",
        "            new_player = current_player + 1\n",
        "        else:\n",
        "            new_player = 1\n",
        "    if player_count == 2:\n",
        "        if current_player == 1:\n",
        "            new_player = 2\n",
        "        else:\n",
        "            new_player = 1\n",
        "    if player_count == 1:\n",
        "        new_player = 1\n",
        "    \n",
        "    return new_player\n",
        "\n",
        "\n",
        "\n",
        "\n",
        "\n",
        "game_theme = input(\"Select 1 for General Knowledge, 2 for British History, 3 for Kings and Queens of Rock!  \")\n",
        "print (game_theme)\n",
        "game_data = {}\n",
        "if game_theme == \"1\":\n",
        "    game_data = general_knowledge\n",
        "else:\n",
        "    if game_theme == \"2\":\n",
        "        game_data = british_history\n",
        "    else:\n",
        "        if game_theme == \"3\":\n",
        "            game_data = kings_and_queens_of_rock\n",
        "        else:\n",
        "            print(\"bad selection try again\")\n",
        "\n",
        "game_length = len(game_data)\n",
        "fixed_game_length = game_length\n",
        "counter = 1\n",
        "scores = [0, 0, 0]\n",
        "questions = list(game_data)\n",
        "\n",
        "player_count = input(\"How many players? (1 , 2, or 3)\")\n",
        "\n",
        "if player_count != \"1\" and player_count != \"2\" and player_count !=\"3\":\n",
        "    print (\"Invalid entry - start over\")\n",
        "    player_count = 0\n",
        "    counter = 100\n",
        "\n",
        "player_num = 1\n",
        "while counter <= fixed_game_length:\n",
        "    print (\"Ok \" + \"player \" + str(player_num) + \" it's your turn.  Answer question \" + str(counter) + \" of \" + str(fixed_game_length))\n",
        "    question_num = randint(1, game_length) - 1\n",
        "    question = questions[question_num]\n",
        "    answer_question = input (question)\n",
        "    if answer_question == game_data.get(question):\n",
        "        scores [player_num-1] += 1\n",
        "        print (\"Correct! \" + \"You score 1 point. \" + \"You have \" + str(scores[player_num-1]) + \" points.\")\n",
        "    else: \n",
        "        print (\"Wrong - the correct answer is \" + game_data.get(question))\n",
        "    counter += 1 \n",
        "    questions.pop(question_num)\n",
        "    \n",
        "    game_length = game_length - 1\n",
        "    new_player = switch_player(player_num, int(player_count))\n",
        "    player_num = new_player\n",
        "\n",
        "score_counter = 0\n",
        "while score_counter < int(player_count):\n",
        "    print (\"Player \" + str(score_counter+ 1) + \" score: \" + str(scores[score_counter]))\n",
        "    score_counter += 1"
      ],
      "metadata": {
        "id": "MAgTDrKgadJi"
      },
      "execution_count": null,
      "outputs": []
    }
  ]
}