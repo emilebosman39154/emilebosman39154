{
  "nbformat": 4,
  "nbformat_minor": 0,
  "metadata": {
    "colab": {
      "provenance": [],
      "include_colab_link": true
    },
    "kernelspec": {
      "name": "python3",
      "display_name": "Python 3"
    },
    "language_info": {
      "name": "python"
    }
  },
  "cells": [
    {
      "cell_type": "markdown",
      "metadata": {
        "id": "view-in-github",
        "colab_type": "text"
      },
      "source": [
        "<a href=\"https://colab.research.google.com/github/emilebosman39154/emilebosman39154/blob/main/P4E_Lesson16.ipynb\" target=\"_parent\"><img src=\"https://colab.research.google.com/assets/colab-badge.svg\" alt=\"Open In Colab\"/></a>"
      ]
    },
    {
      "cell_type": "markdown",
      "source": [
        "# **Lesson 16 : Chapter 8 Lists**\n",
        "\n"
      ],
      "metadata": {
        "id": "5kD5T4xArapf"
      }
    },
    {
      "cell_type": "markdown",
      "source": [
        "# **Quick Test**\n",
        "\n",
        "None"
      ],
      "metadata": {
        "id": "nqAkyfMtIrv1"
      }
    },
    {
      "cell_type": "markdown",
      "source": [
        "1. \n",
        "\n",
        "None\n"
      ],
      "metadata": {
        "id": "7RVjhoAWDKn8"
      }
    },
    {
      "cell_type": "markdown",
      "source": [
        "# **Quick Test Answers**\n",
        "\n",
        "**1. Answers:**\n",
        "\n",
        "None"
      ],
      "metadata": {
        "id": "TsTWYEfT9HSX"
      }
    },
    {
      "cell_type": "markdown",
      "source": [
        "# **Lists Continue**"
      ],
      "metadata": {
        "id": "j1WQsgheaj0N"
      }
    },
    {
      "cell_type": "markdown",
      "source": [
        "## **1. Deleting Elements (8.7)**\n",
        "\n",
        "We will focus on .pop; .del and .remove\n",
        "\n",
        ".pop modifies the list and **returns the element that was removed**. If you **don’t provide an index, it deletes and returns the last element**."
      ],
      "metadata": {
        "id": "ouqAiSfWWTRg"
      }
    },
    {
      "cell_type": "markdown",
      "source": [
        "**1. if Index no. is known:** *.pop*"
      ],
      "metadata": {
        "id": "Dc8d-cFWWj4h"
      }
    },
    {
      "cell_type": "code",
      "source": [
        "t = ['a', 'b', 'c']\n",
        "x = t.pop(1)\n",
        "print(t)"
      ],
      "metadata": {
        "id": "teHewV9jWqq4"
      },
      "execution_count": null,
      "outputs": []
    },
    {
      "cell_type": "code",
      "source": [
        "print(x). #i.o.w. it keeps record of the element being removed in case you want to refer to it"
      ],
      "metadata": {
        "id": "VdqL0jvqYMRg"
      },
      "execution_count": null,
      "outputs": []
    },
    {
      "cell_type": "markdown",
      "source": [
        "2. **if Removed Element is not needed:** *del* statement\n"
      ],
      "metadata": {
        "id": "gm1DdQReYXrQ"
      }
    },
    {
      "cell_type": "code",
      "source": [
        "t = ['a', 'b', 'c']\n",
        "del t[1]\n",
        "print(t)\n"
      ],
      "metadata": {
        "id": "vKlvq6_XZCqR"
      },
      "execution_count": null,
      "outputs": []
    },
    {
      "cell_type": "markdown",
      "source": [
        "2.1 **to remove more than 1**: use *del with slice index*"
      ],
      "metadata": {
        "id": "F8ufbLMxZ4qO"
      }
    },
    {
      "cell_type": "code",
      "source": [
        "t = ['a', 'b', 'c', 'd', 'e', 'f']\n",
        "del t[1:5]\n",
        "print(t)"
      ],
      "metadata": {
        "colab": {
          "base_uri": "https://localhost:8080/"
        },
        "id": "QpCCvbLLaEwu",
        "outputId": "fe8a22ee-d305-4620-e52e-0910550e1a7d"
      },
      "execution_count": null,
      "outputs": [
        {
          "output_type": "stream",
          "name": "stdout",
          "text": [
            "['a', 'f']\n"
          ]
        }
      ]
    },
    {
      "cell_type": "markdown",
      "source": [
        "3. **if Index is unknow, BUT Element is known**: *.remove* "
      ],
      "metadata": {
        "id": "PpgtoNlZZRQZ"
      }
    },
    {
      "cell_type": "code",
      "source": [
        "t = ['a', 'b', 'c']\n",
        "t.remove('b')\n",
        "print(t)\n"
      ],
      "metadata": {
        "id": "Nu38Z_ioZgRE"
      },
      "execution_count": null,
      "outputs": []
    },
    {
      "cell_type": "markdown",
      "source": [
        "## **2. Lists and Functions (8.8)**"
      ],
      "metadata": {
        "id": "MrTPsGyHayKL"
      }
    },
    {
      "cell_type": "markdown",
      "source": [
        "Some of the build in functions in Lists"
      ],
      "metadata": {
        "id": "nm0jM22na_Xv"
      }
    },
    {
      "cell_type": "code",
      "source": [
        "nums = [3, 41, 12, 9, 74, 15]\n",
        "print(len(nums))"
      ],
      "metadata": {
        "id": "RMpQb4GKbLn1"
      },
      "execution_count": null,
      "outputs": []
    },
    {
      "cell_type": "code",
      "source": [
        "nums = [3, 41, 12, 9, 74, 15]\n",
        "print(max(nums))"
      ],
      "metadata": {
        "id": "9hEfGFVIbZ50"
      },
      "execution_count": null,
      "outputs": []
    },
    {
      "cell_type": "code",
      "source": [
        "nums = [3, 41, 12, 9, 74, 15]\n",
        "print(min(nums))"
      ],
      "metadata": {
        "id": "iMCLRdBRbhP_"
      },
      "execution_count": null,
      "outputs": []
    },
    {
      "cell_type": "code",
      "source": [
        "nums = [3, 41, 12, 9, 74, 15]\n",
        "print(sum(nums))"
      ],
      "metadata": {
        "id": "enSWEkZnbg_R"
      },
      "execution_count": null,
      "outputs": []
    },
    {
      "cell_type": "code",
      "source": [
        "nums = [3, 41, 12, 9, 74, 15]\n",
        "print(sum(nums)/len(nums))"
      ],
      "metadata": {
        "id": "GhuOT53tbgv2"
      },
      "execution_count": null,
      "outputs": []
    },
    {
      "cell_type": "markdown",
      "source": [
        "**Remember this** - *calculating an average without a list* (done earlier)"
      ],
      "metadata": {
        "id": "c6uDGhlTb6ev"
      }
    },
    {
      "cell_type": "code",
      "source": [
        "total = 0\n",
        "count = 0\n",
        "while (True):\n",
        "  inp = input('Enter a number: ')\n",
        "  if inp == 'done': break\n",
        "  value = float(inp)\n",
        "  total = total + value\n",
        "  count = count + 1\n",
        "average = total / count\n",
        "print('Average:', average)"
      ],
      "metadata": {
        "id": "xr57qzvHb_94"
      },
      "execution_count": null,
      "outputs": []
    },
    {
      "cell_type": "markdown",
      "source": [
        "**Or we could**: remember each number as the user entered it and *use built-in functions* to compute the sum and count at the end."
      ],
      "metadata": {
        "id": "OgwCFjQfcnBF"
      }
    },
    {
      "cell_type": "code",
      "source": [
        "numlist = list()\n",
        "while (True):\n",
        "    inp = input('Enter a number: ')\n",
        "    if inp == 'done': break\n",
        "    value = float(inp)\n",
        "    numlist.append(value)\n",
        "\n",
        "average = sum(numlist) / len(numlist)\n",
        "print('Average:', average)"
      ],
      "metadata": {
        "id": "j8p3pm71cXuL"
      },
      "execution_count": null,
      "outputs": []
    },
    {
      "cell_type": "markdown",
      "source": [
        "Here we **make an empty list before the loop starts**, and then **each time we added a number**, we **append it to the list**. At the end of the program, we simply compute the sum of the numbers in the list and divide it by the count of the numbers in the list to come up with the average."
      ],
      "metadata": {
        "id": "quGx1rKmdHEW"
      }
    },
    {
      "cell_type": "markdown",
      "source": [
        "## **3. Lists and Strings (8.9)**\n",
        "A string is a sequence of characters and a list is a sequence of values, but a list of characters is not the same as a string. "
      ],
      "metadata": {
        "id": "Uwsy3Yt7dat5"
      }
    },
    {
      "cell_type": "markdown",
      "source": [
        "To **convert a string to a list of characters**: use *list*"
      ],
      "metadata": {
        "id": "opRtFYhRdpYa"
      }
    },
    {
      "cell_type": "code",
      "source": [
        "s = 'spam'\n",
        "t = list(s)\n",
        "print(t)\n"
      ],
      "metadata": {
        "id": "9ReKWNUud0ud"
      },
      "execution_count": null,
      "outputs": []
    },
    {
      "cell_type": "markdown",
      "source": [
        "To **convert a sentence string to a list of words**: use *split method*"
      ],
      "metadata": {
        "id": "tJ0xr9OyeUi4"
      }
    },
    {
      "cell_type": "code",
      "source": [
        "s = 'pining for the fjords'\n",
        "t = s.split()\n",
        "print(t)"
      ],
      "metadata": {
        "id": "KtESedkEeI8L"
      },
      "execution_count": null,
      "outputs": []
    },
    {
      "cell_type": "code",
      "source": [
        "print(t[2])  # can use the index operator (square bracket) to look at a particular word in the list."
      ],
      "metadata": {
        "id": "Al9WjyoKef9n"
      },
      "execution_count": null,
      "outputs": []
    },
    {
      "cell_type": "markdown",
      "source": [
        "You can call **split** with an *optional argument* called a ***delimiter*** that specifies which characters to use as word boundaries. The following example uses a hyphen as a delimiter:"
      ],
      "metadata": {
        "id": "dJwf7KbAfss9"
      }
    },
    {
      "cell_type": "code",
      "source": [
        "s = 'spam-spam-spam'\n",
        "delimiter = '-'\n",
        "s.split(delimiter)"
      ],
      "metadata": {
        "id": "IgO7-A3CgB4p"
      },
      "execution_count": null,
      "outputs": []
    },
    {
      "cell_type": "markdown",
      "source": [
        "**join is the inverse of split**. It *takes a list of strings and concatenates the elements*. **join is a string method**, so you have to **invoke it on the delimiter** and **pass the list as a parameter**:"
      ],
      "metadata": {
        "id": "_aljq2udgJgU"
      }
    },
    {
      "cell_type": "code",
      "source": [
        "t = ['pining', 'for', 'the', 'fjords']\n",
        "delimiter = ' '\n",
        "delimiter.join(t)  # \"invoke on the delimeter by using the dot.join; pass list as a parameter means putting the list named variable t in the () brackets\""
      ],
      "metadata": {
        "id": "6mDYj7EKgkpg"
      },
      "execution_count": null,
      "outputs": []
    },
    {
      "cell_type": "markdown",
      "source": [
        "## **4. Parsing Lines**\n",
        "Often, you need to **sort through the output file** and **identify particular pieces of information that are most important to you**. In general, this is **called file parsing**"
      ],
      "metadata": {
        "id": "nu_cWZ64hFeP"
      }
    },
    {
      "cell_type": "code",
      "source": [
        "fhand = open('mbox-short.txt')\n",
        "for line in fhand:\n",
        "    line = line.rstrip()\n",
        "    if not line.startswith('From '): continue\n",
        "    words = line.split()\n",
        "    print(words[2])"
      ],
      "metadata": {
        "id": "813MJQQ7jaFJ",
        "outputId": "a945ef80-d4d9-425f-d92d-8b613b792cf9",
        "colab": {
          "base_uri": "https://localhost:8080/",
          "height": 236
        }
      },
      "execution_count": null,
      "outputs": [
        {
          "output_type": "error",
          "ename": "FileNotFoundError",
          "evalue": "ignored",
          "traceback": [
            "\u001b[0;31m---------------------------------------------------------------------------\u001b[0m",
            "\u001b[0;31mFileNotFoundError\u001b[0m                         Traceback (most recent call last)",
            "\u001b[0;32m<ipython-input-16-8e789cdaa117>\u001b[0m in \u001b[0;36m<module>\u001b[0;34m\u001b[0m\n\u001b[0;32m----> 1\u001b[0;31m \u001b[0mfhand\u001b[0m \u001b[0;34m=\u001b[0m \u001b[0mopen\u001b[0m\u001b[0;34m(\u001b[0m\u001b[0;34m'mbox-short.txt'\u001b[0m\u001b[0;34m)\u001b[0m\u001b[0;34m\u001b[0m\u001b[0;34m\u001b[0m\u001b[0m\n\u001b[0m\u001b[1;32m      2\u001b[0m \u001b[0;32mfor\u001b[0m \u001b[0mline\u001b[0m \u001b[0;32min\u001b[0m \u001b[0mfhand\u001b[0m\u001b[0;34m:\u001b[0m\u001b[0;34m\u001b[0m\u001b[0;34m\u001b[0m\u001b[0m\n\u001b[1;32m      3\u001b[0m     \u001b[0mline\u001b[0m \u001b[0;34m=\u001b[0m \u001b[0mline\u001b[0m\u001b[0;34m.\u001b[0m\u001b[0mrstrip\u001b[0m\u001b[0;34m(\u001b[0m\u001b[0;34m)\u001b[0m\u001b[0;34m\u001b[0m\u001b[0;34m\u001b[0m\u001b[0m\n\u001b[1;32m      4\u001b[0m     \u001b[0;32mif\u001b[0m \u001b[0;32mnot\u001b[0m \u001b[0mline\u001b[0m\u001b[0;34m.\u001b[0m\u001b[0mstartswith\u001b[0m\u001b[0;34m(\u001b[0m\u001b[0;34m'From '\u001b[0m\u001b[0;34m)\u001b[0m\u001b[0;34m:\u001b[0m \u001b[0;32mcontinue\u001b[0m\u001b[0;34m\u001b[0m\u001b[0;34m\u001b[0m\u001b[0m\n\u001b[1;32m      5\u001b[0m     \u001b[0mwords\u001b[0m \u001b[0;34m=\u001b[0m \u001b[0mline\u001b[0m\u001b[0;34m.\u001b[0m\u001b[0msplit\u001b[0m\u001b[0;34m(\u001b[0m\u001b[0;34m)\u001b[0m\u001b[0;34m\u001b[0m\u001b[0;34m\u001b[0m\u001b[0m\n",
            "\u001b[0;31mFileNotFoundError\u001b[0m: [Errno 2] No such file or directory: 'mbox-short.txt'"
          ]
        }
      ]
    },
    {
      "cell_type": "markdown",
      "source": [],
      "metadata": {
        "id": "WF8jQFYMg_Az"
      }
    },
    {
      "cell_type": "markdown",
      "source": [
        "# **1. Password Simulator**"
      ],
      "metadata": {
        "id": "wC2JR8-l8E_U"
      }
    },
    {
      "cell_type": "code",
      "source": [
        "import string\n",
        "import random\n",
        "\n",
        "characters = list(string.ascii_letters + string.digits + \" !@#$%^&*()\")\n",
        "\n",
        "def generate_password():\n",
        "    password_length = int(input(\"How long would you like your password to be? \"))\n",
        "    \n",
        "    random.shuffle(characters)\n",
        "    \n",
        "    password = []\n",
        "    \n",
        "    for x in range(password_length):\n",
        "        password.append(random.choice(characters))\n",
        "    \n",
        "    random.shuffle(password)\n",
        "    \n",
        "    password = \"\" .join(password)\n",
        "    print(password)\n",
        "\n",
        "option = input(\"Do you want to generate a password? (Yes/No): \")\n",
        "\n",
        "if option == \"Yes\":\n",
        "    generate_password()\n",
        "elif option == \"No\":\n",
        "    print(\"Program ended\")\n",
        "    quit()\n",
        "else:\n",
        "    print(\"Invalid input, please input Yes or No\")\n",
        "    quit()\n"
      ],
      "metadata": {
        "id": "-QMgo2Av8Eu0"
      },
      "execution_count": null,
      "outputs": []
    },
    {
      "cell_type": "markdown",
      "source": [
        "# **Class Notes:**\n",
        "\n",
        "1. List Methods"
      ],
      "metadata": {
        "id": "-cYfNYOwL1Rg"
      }
    },
    {
      "cell_type": "markdown",
      "source": [
        "# **2. Chapter 8: Lists Methods**\n",
        "\n",
        "\n",
        "\n"
      ],
      "metadata": {
        "id": "8BOUhsdEH4oN"
      }
    },
    {
      "cell_type": "markdown",
      "source": [
        "**2.1 Build-in methods that operate on lists:**\n",
        "\n",
        "**append** (adds a new element at the end of a list)\n",
        "\n",
        "**extend** (takes a list as an argument and append all its elements to the end of the list\n",
        "\n",
        "**sort** (arrange list elements from low to high\n",
        "\n"
      ],
      "metadata": {
        "id": "2eQ6hzz7Y0CB"
      }
    },
    {
      "cell_type": "code",
      "source": [
        "b = ['a','b','c','d','e','f']"
      ],
      "metadata": {
        "id": "pK7N4P1_ciaw"
      },
      "execution_count": null,
      "outputs": []
    },
    {
      "cell_type": "code",
      "source": [
        "b.append('g')\n",
        "print(b)"
      ],
      "metadata": {
        "id": "PET7RFL8H3qP"
      },
      "execution_count": null,
      "outputs": []
    },
    {
      "cell_type": "code",
      "source": [
        "b2 = ['h','i']"
      ],
      "metadata": {
        "id": "VhC9-ME_IDhM"
      },
      "execution_count": null,
      "outputs": []
    },
    {
      "cell_type": "code",
      "source": [
        "b.extend(b2)\n",
        "print(b)"
      ],
      "metadata": {
        "id": "ZVeCgPXrILmb"
      },
      "execution_count": null,
      "outputs": []
    },
    {
      "cell_type": "code",
      "source": [
        "b.sort(reverse=True)\n",
        "print(b)"
      ],
      "metadata": {
        "colab": {
          "base_uri": "https://localhost:8080/"
        },
        "id": "berZ5gk2Ima-",
        "outputId": "c6dc3fca-5194-42b0-cd01-dc08e5e15ba0"
      },
      "execution_count": null,
      "outputs": [
        {
          "output_type": "stream",
          "name": "stdout",
          "text": [
            "['i', 'i', 'i', 'i', 'h', 'h', 'h', 'h', 'g', 'f', 'e', 'd', 'c', 'b', 'a']\n"
          ]
        }
      ]
    },
    {
      "cell_type": "markdown",
      "source": [
        "**2.2 More build-in methods that operate on lists:**\n",
        "\n",
        "**pop **(deletes an element if you know its index number and keeps reference to the elements that were deleted)\n",
        "\n",
        "**del** (deletes without keeping a reference to the elements deleted)\n",
        "\n",
        "**remove** (to remove an element if the index is not known but the element is known)\n",
        "\n",
        "**remove more than one** (1) element with a slice"
      ],
      "metadata": {
        "id": "hnn8czssJLQ2"
      }
    },
    {
      "cell_type": "code",
      "source": [
        "x = ['a','b','c','d','e','f']\n",
        "print(x)\n",
        "\n",
        "y = x.pop(1)\n",
        "print(y)\n",
        "print(x)"
      ],
      "metadata": {
        "id": "S49zqWIaJ7UD"
      },
      "execution_count": null,
      "outputs": []
    },
    {
      "cell_type": "code",
      "source": [
        "x = ['a','b','c','d','e','f']\n",
        "print(x)\n",
        "\n",
        "del x[1]\n",
        "print(x)\n"
      ],
      "metadata": {
        "id": "R8ZupjIvK3eE"
      },
      "execution_count": null,
      "outputs": []
    },
    {
      "cell_type": "code",
      "source": [
        "x = ['a','b','c','d','e','f']\n",
        "print(x)\n",
        "\n",
        "x.remove('c')\n",
        "print(x)"
      ],
      "metadata": {
        "id": "6Y_ur2rOLI-4"
      },
      "execution_count": null,
      "outputs": []
    },
    {
      "cell_type": "code",
      "source": [
        "x = ['a','b','c','d','e','f']\n",
        "print(x)\n",
        "\n",
        "del x[1:3]\n",
        "print(x)"
      ],
      "metadata": {
        "id": "St_asxejLUgI"
      },
      "execution_count": null,
      "outputs": []
    }
  ]
}