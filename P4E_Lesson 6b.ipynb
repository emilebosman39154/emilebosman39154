{
  "nbformat": 4,
  "nbformat_minor": 0,
  "metadata": {
    "colab": {
      "name": "Copy of Untitled25.ipynb",
      "provenance": [],
      "toc_visible": true,
      "include_colab_link": true
    },
    "kernelspec": {
      "name": "python3",
      "display_name": "Python 3"
    },
    "language_info": {
      "name": "python"
    }
  },
  "cells": [
    {
      "cell_type": "markdown",
      "metadata": {
        "id": "view-in-github",
        "colab_type": "text"
      },
      "source": [
        "<a href=\"https://colab.research.google.com/github/emilebosman39154/emilebosman39154/blob/main/P4E_Lesson%206b.ipynb\" target=\"_parent\"><img src=\"https://colab.research.google.com/assets/colab-badge.svg\" alt=\"Open In Colab\"/></a>"
      ]
    },
    {
      "cell_type": "markdown",
      "source": [
        "# **LESSON 6 - FUNCTIONS**\n",
        "\n",
        "Definition: Functions is a name provided to a sequence of statements which will perform or execute a given computation.\n",
        "\n",
        "How: You define a function, by giving it a name (e.g. print() ) and where it is not a defined function from within Python you will also specify the sequence of statements to be executed upon calling the function."
      ],
      "metadata": {
        "id": "MFSU0x_c665m"
      }
    },
    {
      "cell_type": "code",
      "source": [
        "type(\"Hello World\")"
      ],
      "metadata": {
        "id": "ysGg8qbO7v5R"
      },
      "execution_count": null,
      "outputs": []
    },
    {
      "cell_type": "markdown",
      "source": [
        "In the above *type* is the **function** and **str** is the *return value*.\n",
        "\n",
        "The \"Hallo World\" in brackets is called the *argument* of the function.  It is an input to the funtion.  It will quite likely be a **value of a variable**.\n",
        "\n",
        "*A Function **takes an argument** and **returns a result** (or **return value**)*\n",
        "\n",
        "BUILD IN FUNCTIONS IN PYTHON\n",
        "\n",
        "There are 68 build-in functions in Python:\n",
        "\n",
        "Python abs()\n",
        "returns absolute value of a number\n",
        "\n",
        "Python all()\n",
        "returns true when all elements in iterable is true\n",
        "\n",
        "Python any()\n",
        "Checks if any Element of an Iterable is True\n",
        "\n",
        "Python ascii()\n",
        "Returns String Containing Printable Representation\n",
        "\n",
        "Python bin()\n",
        "converts integer to binary string\n",
        "\n",
        "Python bool()\n",
        "Converts a Value to Boolean\n",
        "\n",
        "Python bytearray()\n",
        "returns array of given byte size\n",
        "\n",
        "Python bytes()\n",
        "returns immutable bytes object\n",
        "\n",
        "Python callable()\n",
        "Checks if the Object is Callable\n",
        "\n",
        "Python chr()\n",
        "Returns a Character (a string) from an Integer\n",
        "\n",
        "Python classmethod()\n",
        "returns class method for given function\n",
        "\n",
        "Python compile()\n",
        "Returns a Python code object\n",
        "\n",
        "Python complex()\n",
        "Creates a Complex Number\n",
        "\n",
        "Python delattr()\n",
        "Deletes Attribute From the Object\n",
        "\n",
        "Python dict()\n",
        "Creates a Dictionary\n",
        "\n",
        "Python dir()\n",
        "Tries to Return Attributes of Object\n",
        "\n",
        "Python divmod()\n",
        "Returns a Tuple of Quotient and Remainder\n",
        "\n",
        "Python enumerate()\n",
        "Returns an Enumerate Object\n",
        "\n",
        "Python eval()\n",
        "Runs Python Code Within Program\n",
        "\n",
        "Python exec()\n",
        "Executes Dynamically Created Program\n",
        "\n",
        "Python filter()\n",
        "constructs iterator from elements which are true\n",
        "\n",
        "Python float()\n",
        "returns floating point number from number, string\n",
        "\n",
        "Python format()\n",
        "returns formatted representation of a value\n",
        "\n",
        "Python frozenset()\n",
        "returns immutable frozenset object\n",
        "\n",
        "Python getattr()\n",
        "returns value of named attribute of an object\n",
        "\n",
        "Python globals()\n",
        "returns dictionary of current global symbol table\n",
        "\n",
        "Python hasattr()\n",
        "returns whether object has named attribute\n",
        "\n",
        "Python hash()\n",
        "returns hash value of an object\n",
        "\n",
        "Python help()\n",
        "Invokes the built-in Help System\n",
        "\n",
        "Python hex()\n",
        "Converts to Integer to Hexadecimal\n",
        "\n",
        "Python id()\n",
        "Returns Identify of an Object\n",
        "\n",
        "Python input()\n",
        "reads and returns a line of string\n",
        "\n",
        "Python int()\n",
        "returns integer from a number or string\n",
        "\n",
        "Python isinstance()\n",
        "Checks if a Object is an Instance of Class\n",
        "\n",
        "Python issubclass()\n",
        "Checks if a Class is Subclass of another Class\n",
        "\n",
        "Python iter()\n",
        "returns an iterator\n",
        "\n",
        "Python len()\n",
        "Returns Length of an Object\n",
        "\n",
        "Python list()\n",
        "creates a list in Python\n",
        "\n",
        "Python locals()\n",
        "Returns dictionary of a current local symbol table\n",
        "\n",
        "Python map()\n",
        "Applies Function and Returns a List\n",
        "\n",
        "Python max()\n",
        "returns the largest item\n",
        "\n",
        "Python memoryview()\n",
        "returns memory view of an argument\n",
        "\n",
        "Python min()\n",
        "returns the smallest value\n",
        "\n",
        "Python next()\n",
        "Retrieves next item from the iterator\n",
        "\n",
        "Python object()\n",
        "creates a featureless object\n",
        "\n",
        "Python oct()\n",
        "returns the octal representation of an integer\n",
        "\n",
        "Python open()\n",
        "Returns a file object\n",
        "\n",
        "Python ord()\n",
        "returns an integer of the Unicode character\n",
        "\n",
        "Python pow()\n",
        "returns the power of a number\n",
        "\n",
        "Python print()\n",
        "Prints the Given Object\n",
        "\n",
        "Python property()\n",
        "returns the property attribute\n",
        "\n",
        "Python range()\n",
        "return sequence of integers between start and stop\n",
        "\n",
        "Python repr()\n",
        "returns a printable representation of the object\n",
        "\n",
        "Python reversed()\n",
        "returns the reversed iterator of a sequence\n",
        "\n",
        "Python round()\n",
        "rounds a number to specified decimals\n",
        "\n",
        "Python set()\n",
        "constructs and returns a set\n",
        "\n",
        "Python setattr()\n",
        "sets the value of an attribute of an object\n",
        "\n",
        "Python slice()\n",
        "returns a slice object\n",
        "\n",
        "Python sorted()\n",
        "returns a sorted list from the given iterable\n",
        "\n",
        "Python staticmethod()\n",
        "transforms a method into a static method\n",
        "\n",
        "Python str()\n",
        "returns the string version of the object\n",
        "\n",
        "Python sum()\n",
        "Adds items of an Iterable\n",
        "\n",
        "Python super()\n",
        "Returns a proxy object of the base class\n",
        "\n",
        "Python tuple()\n",
        "Returns a tuple\n",
        "\n",
        "Python type()\n",
        "Returns the type of the object\n",
        "\n",
        "Python vars()\n",
        "Returns the __dict__ attribute\n",
        "\n",
        "Python zip()\n",
        "Returns an iterator of tuples\n",
        "\n",
        "Python __import__()\n",
        "Function called by the import statement\n",
        "\n",
        "More are being added continuoously: https://docs.python.org/3/library/functions.html"
      ],
      "metadata": {
        "id": "_LmKUJxt8JRw"
      }
    },
    {
      "cell_type": "markdown",
      "source": [
        "**15 of the most commonly used Functions are:**\n",
        "\n",
        "print( ) function\n",
        "type( ) function\n",
        "input( ) function\n",
        "abs( ) function\n",
        "pow( ) function\n",
        "dir( ) function\n",
        "sorted( ) function\n",
        "max( ) function\n",
        "round( ) function\n",
        "divmod( ) function\n",
        "id( ) function\n",
        "ord( ) function\n",
        "len( ) function\n",
        "sum( ) function\n",
        "help( ) function"
      ],
      "metadata": {
        "id": "4ObuXJSy-NIW"
      }
    },
    {
      "cell_type": "markdown",
      "source": [
        "1. **print()**\n",
        "\n",
        "The print() function prints the specified message to the screen or another standard output device.\n",
        "\n",
        "The message that wants to print can be a string or any other object. This function converts the object into a string before written to the screen."
      ],
      "metadata": {
        "id": "VDxNJdde_Bit"
      }
    },
    {
      "cell_type": "code",
      "source": [
        "print(\"Analytics Vidhya is the Largest Data Science Community in the world\")"
      ],
      "metadata": {
        "id": "T0_pGzUp-zi2"
      },
      "execution_count": null,
      "outputs": []
    },
    {
      "cell_type": "markdown",
      "source": [
        "2. **type()**\n",
        "\n",
        "The type() function returns the type of the specified object."
      ],
      "metadata": {
        "id": "IePwx4s6_J_U"
      }
    },
    {
      "cell_type": "code",
      "source": [
        "list_of_fruits = ('apple', 'banana', 'cherry', 'mango')\n",
        "print(type(list_of_fruits))"
      ],
      "metadata": {
        "id": "oiB8GFTN_Xpi"
      },
      "execution_count": null,
      "outputs": []
    },
    {
      "cell_type": "markdown",
      "source": [
        "3. **input()**\n",
        "\n",
        "The input() function allows taking the input from the user."
      ],
      "metadata": {
        "id": "3vZYX9-U_aAU"
      }
    },
    {
      "cell_type": "code",
      "source": [
        "a = input('Enter your name:')\n",
        "print('Hello, ' + a + ' of Analytics Vidhya')"
      ],
      "metadata": {
        "id": "1HGQnUBA_wVO",
        "colab": {
          "base_uri": "https://localhost:8080/"
        },
        "outputId": "69d3a9f6-2d7f-46d3-8216-025deb5435d0"
      },
      "execution_count": 3,
      "outputs": [
        {
          "output_type": "stream",
          "name": "stdout",
          "text": [
            "Enter your name:Emile\n",
            "Hello, Emile of Analytics Vidhya\n"
          ]
        }
      ]
    },
    {
      "cell_type": "markdown",
      "source": [
        "4. **abs()**\n",
        "\n",
        "The abs() function returns the absolute value of the specified number.  What is an absolute number: Absolute value of a number is the value without considering its sign. Hence absolute of 10 is 10, -10 is also 10. If the number is a complex number, abs() returns its magnitude.\n",
        "\n",
        "![image.png](data:image/png;base64,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)"
      ],
      "metadata": {
        "id": "6zj6K-1LADhH"
      }
    },
    {
      "cell_type": "code",
      "source": [
        "negative_number  = -676\n",
        "print(abs(negative_number))"
      ],
      "metadata": {
        "id": "p_nhP_GlAJsI"
      },
      "execution_count": null,
      "outputs": []
    },
    {
      "cell_type": "markdown",
      "source": [
        "5. **pow()**\n",
        "\n",
        "The pow() function returns the calculated value of x to the power of y i.e, xy.\n",
        "\n",
        "If a third parameter is present in this function, then it returns x to the power of y, modulus z."
      ],
      "metadata": {
        "id": "msT_KBGhAxDq"
      }
    },
    {
      "cell_type": "code",
      "source": [
        "x = pow(3, 4)\n",
        "print(x)"
      ],
      "metadata": {
        "id": "qlOaSYGMDlWo",
        "outputId": "22efe0a6-e378-4a24-bbb5-a05310552979",
        "colab": {
          "base_uri": "https://localhost:8080/"
        }
      },
      "execution_count": null,
      "outputs": [
        {
          "output_type": "stream",
          "name": "stdout",
          "text": [
            "81\n"
          ]
        }
      ]
    },
    {
      "cell_type": "markdown",
      "source": [
        "6. **dir()**\n",
        "\n",
        "The dir() function returns all the properties and methods of the specified object, without the values.\n",
        "\n",
        "This function even returns built-in properties which are the default for all objects (functions , modules, strings, lists, dictionaries etc.)."
      ],
      "metadata": {
        "id": "LmHnkQkAF2nf"
      }
    },
    {
      "cell_type": "code",
      "source": [
        "class Person:\n",
        "  name = \"Chirag Goyal\"\n",
        "  age = 19\n",
        "  country = \"India\"\n",
        "  education = \"IIT Jodhpur\"\n",
        "print(dir(Person))"
      ],
      "metadata": {
        "id": "4ga6pVmpGPhx",
        "outputId": "cf91c50a-80ab-4d53-f225-d2d5bac4e3a7",
        "colab": {
          "base_uri": "https://localhost:8080/"
        }
      },
      "execution_count": null,
      "outputs": [
        {
          "output_type": "stream",
          "name": "stdout",
          "text": [
            "['__class__', '__delattr__', '__dict__', '__dir__', '__doc__', '__eq__', '__format__', '__ge__', '__getattribute__', '__gt__', '__hash__', '__init__', '__init_subclass__', '__le__', '__lt__', '__module__', '__ne__', '__new__', '__reduce__', '__reduce_ex__', '__repr__', '__setattr__', '__sizeof__', '__str__', '__subclasshook__', '__weakref__', 'age', 'country', 'education', 'name']\n"
          ]
        }
      ]
    },
    {
      "cell_type": "markdown",
      "source": [
        "7. **sorted()**\n",
        "\n",
        "The sorted() function returns a sorted list of the specified iterable object.\n",
        "\n",
        "You can specify the order to be either ascending or descending. In this function, Strings are sorted alphabetically, and numbers are sorted numerically.\n",
        "\n",
        "NOTE: If a list contains BOTH string values AND numeric values, then we cannot sort it.\n",
        "\n",
        "***Below: 1st example is sorted in ascending order and the 2nd example in descending order.***"
      ],
      "metadata": {
        "id": "pdQUwV_OGaS1"
      }
    },
    {
      "cell_type": "code",
      "source": [
        "tuple = (\"h\", \"b\", \"a\", \"c\", \"f\", \"d\", \"e\", \"g\")\n",
        "print(sorted(tuple))"
      ],
      "metadata": {
        "id": "a6UzqqskGhCV"
      },
      "execution_count": null,
      "outputs": []
    },
    {
      "cell_type": "code",
      "source": [
        "tuple = (\"h\", \"b\", \"a\", \"c\", \"f\", \"d\", \"e\", \"g\")\n",
        "print(sorted(tuple, reverse=True))"
      ],
      "metadata": {
        "id": "7JDjYaBUGqWK"
      },
      "execution_count": null,
      "outputs": []
    },
    {
      "cell_type": "markdown",
      "source": [
        "8. **max()**\n",
        "\n",
        "The max() function returns the item with the maximum value.\n",
        "\n",
        "If the values this function takes are strings, then it is done using an alphabetical comparison."
      ],
      "metadata": {
        "id": "ndIH6JZHG0vQ"
      }
    },
    {
      "cell_type": "code",
      "source": [
        "names_tuple = ('Chirag', 'Kshitiz', 'Dinesh', 'Kartik')\n",
        "print(max(names_tuple))"
      ],
      "metadata": {
        "id": "KD0Prm61HEsb"
      },
      "execution_count": null,
      "outputs": []
    },
    {
      "cell_type": "code",
      "source": [
        "number_tuple = (2785, 545, -987, 1239, 453)\n",
        "print(max(number_tuple))"
      ],
      "metadata": {
        "id": "mxOKG1CVH63E"
      },
      "execution_count": null,
      "outputs": []
    },
    {
      "cell_type": "markdown",
      "source": [
        "9. **round()**\n",
        "\n",
        "The round() function **returns a floating-point number** that is a rounded version of the specified number, with the specified number of decimals.\n",
        "\n",
        "The default number of decimals is 0, meaning that the **function will return the nearest integer.**"
      ],
      "metadata": {
        "id": "la8wfxtcH9XN"
      }
    },
    {
      "cell_type": "code",
      "source": [
        "nearest_number = round(87.76432)\n",
        "print(nearest_number)"
      ],
      "metadata": {
        "id": "4Z0LK83sIJPY"
      },
      "execution_count": null,
      "outputs": []
    },
    {
      "cell_type": "code",
      "source": [
        "nearest_number = round(87.46432)\n",
        "print(nearest_number)"
      ],
      "metadata": {
        "id": "oWB6ONh5INOV"
      },
      "execution_count": null,
      "outputs": []
    },
    {
      "cell_type": "markdown",
      "source": [
        "10. **divmod()**\n",
        "\n",
        "The divmod() function returns a tuple containing the quotient and the remainder when the first argument i.e, the dividend is divided by the second argument i.e, the divisor.\n",
        "\n",
        "e.g. **Example 1: Display the quotient and the remainder when 7 is divided by 3:**"
      ],
      "metadata": {
        "id": "N8Ufjv9pIRfw"
      }
    },
    {
      "cell_type": "code",
      "source": [
        "x = divmod(7, 3)\n",
        "print(x)"
      ],
      "metadata": {
        "id": "7MLjUifiIgfp"
      },
      "execution_count": null,
      "outputs": []
    },
    {
      "cell_type": "markdown",
      "source": [
        "e.g. **Example 2: Display the quotient and the remainder when 72 is divided by 6:**"
      ],
      "metadata": {
        "id": "bsivo61CIsyW"
      }
    },
    {
      "cell_type": "code",
      "source": [
        "x = divmod(72, 6)\n",
        "print(x)"
      ],
      "metadata": {
        "id": "HMNAcOUyIvq-"
      },
      "execution_count": null,
      "outputs": []
    },
    {
      "cell_type": "markdown",
      "source": [
        "11. **id()**\n",
        "\n",
        "The id() function **returns a unique id for the specified object**. *Note that all the objects in Python have their own unique id.*\n",
        "\n",
        "The id is assigned to the object when it is created.\n",
        "\n",
        "The **id is the object’s memory address** and will be *different for each time you run the program.* (**except** for some object that has a constant unique id, *like integers from -5 to 256*)"
      ],
      "metadata": {
        "id": "xd5jTCXaI6Ac"
      }
    },
    {
      "cell_type": "code",
      "source": [
        "names_tuple = ('Chirag', 'Kshitiz', 'Dinesh', 'Kartik')\n",
        "print(id(names_tuple))"
      ],
      "metadata": {
        "id": "1sASFKViJKAG"
      },
      "execution_count": null,
      "outputs": []
    },
    {
      "cell_type": "code",
      "source": [
        "string = \"Analytics Vidhya is the Largest Data Science Community\"\n",
        "print(id(string))"
      ],
      "metadata": {
        "id": "LKWxM5NRJRv8"
      },
      "execution_count": null,
      "outputs": []
    },
    {
      "cell_type": "markdown",
      "source": [
        "12. **ord()**\n",
        "\n",
        "The ord() function **returns the number representing the Unicode code **of a **specified character**."
      ],
      "metadata": {
        "id": "NWn5ocp5JTVy"
      }
    },
    {
      "cell_type": "code",
      "source": [
        "x = ord(\"h\")\n",
        "print(x)"
      ],
      "metadata": {
        "id": "R_t8fadWJfVe"
      },
      "execution_count": null,
      "outputs": []
    },
    {
      "cell_type": "code",
      "source": [
        "x = ord(\"H\")\n",
        "print(x)"
      ],
      "metadata": {
        "id": "D6U9XM3IJkPj"
      },
      "execution_count": null,
      "outputs": []
    },
    {
      "cell_type": "markdown",
      "source": [
        "**Unicode Explained briefly:**\n",
        "\n",
        "A **character code** that **defines every character in most of the speaking languages in the world**. Although commonly thought to be only a two-byte coding system, Unicode characters can use only one byte, or up to four bytes, to hold a Unicode \"code point\" (see below). The code point is a unique number for a character or some symbol such as an accent mark or ligature. Unicode supports more than a million code points, which are written with a \"U\" followed by a plus sign and the number in hex; for example, the word \"**Hello\"** is written **U+0048 U+0065 U+006C U+006C U+006F**"
      ],
      "metadata": {
        "id": "q0STZTN3KVH8"
      }
    },
    {
      "cell_type": "markdown",
      "source": [
        "13. **len()**\n",
        "\n",
        "The len() function **returns the count of items present in a specified object**.\n",
        "\n",
        "When the object is a **string**, then the len() function **returns the number of characters present in that string**."
      ],
      "metadata": {
        "id": "btraPZZDKlSc"
      }
    },
    {
      "cell_type": "code",
      "source": [
        "fruit_list = [\"apple\", \"banana\", \"cherry\", \"mango\", \"pear\"]\n",
        "print(len(fruit_list))"
      ],
      "metadata": {
        "id": "k0m_iu9kK0ZI"
      },
      "execution_count": null,
      "outputs": []
    },
    {
      "cell_type": "code",
      "source": [
        "string = \"Analytics Vidhya is the Largest Data Science Community\"\n",
        "print(len(string))"
      ],
      "metadata": {
        "id": "SXykQ7oYK4wR"
      },
      "execution_count": null,
      "outputs": []
    },
    {
      "cell_type": "markdown",
      "source": [
        "14. **sum()**\n",
        "\n",
        "The sum() function returns a number, the sum of all items in an iterable.\n",
        "\n",
        "**Difference between iterable and iterator:**\n",
        "\n",
        "Iterable is an object, that one can iterate over. It generates an Iterator when passed to iter() method. An iterator is an object, which is used to iterate over an iterable object using the __next__() method. Iterators have the __next__() method, which returns the next item of the object. Note that every iterator is also an iterable, but not every iterable is an iterator. For example, a list is iterable but a list is not an iterator. An iterator can be created from an iterable by using the function iter(). To make this possible, the class of an object needs either a method __iter__, which returns an iterator, or a __getitem__ method with sequential indexes starting with 0. "
      ],
      "metadata": {
        "id": "6ZNHSrQNK9Tr"
      }
    },
    {
      "cell_type": "code",
      "source": [
        "list = [1, 2, 3, 4, 5]\n",
        "print(sum(list))"
      ],
      "metadata": {
        "id": "GWWSUuyILirE"
      },
      "execution_count": null,
      "outputs": []
    },
    {
      "cell_type": "markdown",
      "source": [
        "15. **help()**\n",
        "\n",
        "The help() function is used to **display the documentation of modules, functions, classes, keywords, etc.**\n",
        "\n",
        "If we don’t give an argument to the help function, then the interactive help utility starts up on the console."
      ],
      "metadata": {
        "id": "DW4t17sOL99T"
      }
    },
    {
      "cell_type": "code",
      "source": [
        "help(sum)"
      ],
      "metadata": {
        "id": "Xe32nb_1MPMA"
      },
      "execution_count": null,
      "outputs": []
    },
    {
      "cell_type": "code",
      "source": [
        "help(print)"
      ],
      "metadata": {
        "id": "mMeGUGWyMHWs"
      },
      "execution_count": null,
      "outputs": []
    },
    {
      "cell_type": "markdown",
      "source": [
        "**TYPE CONVERSION FUNCTIONS**\n",
        "\n",
        "\n",
        "Python defines type conversion functions like int(), float(), str() to directly convert one data type into another. This type of conversion is also called typecasting because the user casts (change) the data type of the objects. This function converts any data type into integer.\n",
        "\n",
        "In Python, the conversion of data type is called an implicit conversion of data type when it takes place during compilation, or during run time. Python manages the conversion of the implicit data type, so we do not directly convert the data type to another data type.\n",
        "\n",
        "Besides the int(str) functions, Python support other type conversion functions. The following shows the most important ones for now:\n",
        "\n",
        "float(str) – convert a string to a floating-point number.\n",
        "bool(val) – convert a value to a boolean value, either True or False.\n",
        "str(val) – return the string representation of a value.\n",
        "\n",
        "**Recap on Data Types:**"
      ],
      "metadata": {
        "id": "Ah_F83OOkt8Z"
      }
    },
    {
      "cell_type": "code",
      "source": [
        "type(100)"
      ],
      "metadata": {
        "id": "9Brwh-lrlXPI"
      },
      "execution_count": null,
      "outputs": []
    },
    {
      "cell_type": "code",
      "source": [
        "type(2.0)"
      ],
      "metadata": {
        "id": "3CijsCPZloBP"
      },
      "execution_count": null,
      "outputs": []
    },
    {
      "cell_type": "code",
      "source": [
        "type('Hello')"
      ],
      "metadata": {
        "id": "FB9nR0PVlqh4"
      },
      "execution_count": null,
      "outputs": []
    },
    {
      "cell_type": "code",
      "source": [
        "type(True)"
      ],
      "metadata": {
        "id": "d7ymM5w0lsqu"
      },
      "execution_count": null,
      "outputs": []
    },
    {
      "cell_type": "markdown",
      "source": [
        "**Type Conversion 1:**\n",
        "\n",
        "**Implicit Type Conversion**\n",
        "\n",
        "In Implicit type conversion, Python automatically converts one data type to another data type. This process doesn't need any user involvement.\n",
        "\n",
        "Let's see an example where Python promotes the conversion of the lower data type (integer) to the higher data type (float) to avoid data loss.\n",
        "\n",
        "**Example 1: Converting integer to float:**"
      ],
      "metadata": {
        "id": "hpO_tDINmQyV"
      }
    },
    {
      "cell_type": "code",
      "source": [
        "num_int = 123\n",
        "num_flo = 1.23\n",
        "\n",
        "num_new = num_int + num_flo\n",
        "\n",
        "print(\"datatype of num_int:\",type(num_int))\n",
        "print(\"datatype of num_flo:\",type(num_flo))\n",
        "\n",
        "print(\"Value of num_new:\",num_new)\n",
        "print(\"datatype of num_new:\",type(num_new))"
      ],
      "metadata": {
        "id": "OAVKsDg1muAR"
      },
      "execution_count": null,
      "outputs": []
    },
    {
      "cell_type": "markdown",
      "source": [
        "**In the above program:**\n",
        "\n",
        "\n",
        "We add two variables **num_int** and **num_flo**, storing the value in **num_new**.\n",
        "\n",
        "We will look at the data type of all three objects respectively.\n",
        "\n",
        "In the output, we can see the data type of **num_int** is an *integer* while the data type of n**um_flo** is a *float*.\n",
        "\n",
        "Also, we can see the **num_new** has a *float data type* because ***Python always converts smaller data types to larger data types to avoid the loss of data.***"
      ],
      "metadata": {
        "id": "HdRcPiGnnOQj"
      }
    },
    {
      "cell_type": "markdown",
      "source": [
        "Now, let's try adding a string and an integer, and see how Python deals with it.\n",
        "\n",
        "**Example 2: Addition of string(higher) data type and integer(lower) datatype:**"
      ],
      "metadata": {
        "id": "n2qTqY8eni2G"
      }
    },
    {
      "cell_type": "code",
      "source": [
        "num_int = 123\n",
        "num_str = \"456\"\n",
        "\n",
        "print(\"Data type of num_int:\",type(num_int))\n",
        "print(\"Data type of num_str:\",type(num_str))\n",
        "\n",
        "print(num_int+num_str)"
      ],
      "metadata": {
        "id": "zTLN5uuAnswo"
      },
      "execution_count": null,
      "outputs": []
    },
    {
      "cell_type": "markdown",
      "source": [
        "**In the above program:**\n",
        "\n",
        "We add two variables **num_int** and **num_str**.\n",
        "\n",
        "As we can see from the output, we got **TypeError**. Python is not able to use Implicit Conversion in such conditions.\n",
        "\n",
        "However, Python has a solution for these types of situations which is known as **Explicit Conversion.**"
      ],
      "metadata": {
        "id": "4Rd_MGzVn2hv"
      }
    },
    {
      "cell_type": "markdown",
      "source": [
        "**Type Conversion 2:**\n",
        "\n",
        "**Exlicit Type Conversion** \n",
        "\n",
        "In Explicit Type Conversion, users convert the data type of an object to required data type. We use the predefined functions like int(), float(), str(), etc. to perform explicit type conversion.\n",
        "\n",
        "This type of conversion **is also called typecasting** because the ***user casts (changes) the data type of the objects.***\n",
        "\n",
        "**Syntax :**"
      ],
      "metadata": {
        "id": "S8XRXZ5hoBef"
      }
    },
    {
      "cell_type": "code",
      "source": [
        "# <required_datatype>(expression) "
      ],
      "metadata": {
        "id": "cEAy_C-8os-d"
      },
      "execution_count": null,
      "outputs": []
    },
    {
      "cell_type": "markdown",
      "source": [
        "**Example 3: Addition of string and integer using explicit conversion**"
      ],
      "metadata": {
        "id": "JGeTj1f3o1y8"
      }
    },
    {
      "cell_type": "code",
      "source": [
        "num_int = 123\n",
        "num_str = \"456\"\n",
        "\n",
        "print(\"Data type of num_int:\",type(num_int))\n",
        "print(\"Data type of num_str before Type Casting:\",type(num_str))\n",
        "\n",
        "num_str = int(num_str)\n",
        "print(\"Data type of num_str after Type Casting:\",type(num_str))\n",
        "\n",
        "num_sum = num_int + num_str\n",
        "\n",
        "print(\"Sum of num_int and num_str:\",num_sum)\n",
        "print(\"Data type of the sum:\",type(num_sum))"
      ],
      "metadata": {
        "id": "YjIjZzWFpAjN",
        "outputId": "26166155-e354-4bfc-aed0-a14802025f56",
        "colab": {
          "base_uri": "https://localhost:8080/"
        }
      },
      "execution_count": null,
      "outputs": [
        {
          "output_type": "stream",
          "name": "stdout",
          "text": [
            "Data type of num_int: <class 'int'>\n",
            "Data type of num_str before Type Casting: <class 'str'>\n",
            "Data type of num_str after Type Casting: <class 'int'>\n",
            "Sum of num_int and num_str: 579\n",
            "Data type of the sum: <class 'int'>\n"
          ]
        }
      ]
    },
    {
      "cell_type": "markdown",
      "source": [
        "**In the above program:**\n",
        "\n",
        "We add **num_str** and **num_int** variable.\n",
        "\n",
        "We converted **num_str** from string(higher) to integer(lower) type using int() function to perform the addition.\n",
        "\n",
        "After converting **num_str** to an integer value, Python is able to add these two variables.\n",
        "\n",
        "We got the num_sum value and data type to be an integer.\n"
      ],
      "metadata": {
        "id": "OgU_cpQ9pD7T"
      }
    },
    {
      "cell_type": "markdown",
      "source": [
        "**BASIC ORDINARY TYPE CONVERSIONS:**\n",
        "\n",
        "**Converting into integer:** "
      ],
      "metadata": {
        "id": "1yTs5RHSp8WQ"
      }
    },
    {
      "cell_type": "code",
      "source": [
        "int('32')"
      ],
      "metadata": {
        "id": "I6_vGG04qPTG"
      },
      "execution_count": null,
      "outputs": []
    },
    {
      "cell_type": "code",
      "source": [
        "int('Hello')"
      ],
      "metadata": {
        "id": "67dSmxbhqUpv"
      },
      "execution_count": null,
      "outputs": []
    },
    {
      "cell_type": "markdown",
      "source": [
        "**Converting float-point to integer:**\n",
        "\n",
        "Note: is does **NO ROUNDING OFF**."
      ],
      "metadata": {
        "id": "vw_KVk3uqf6N"
      }
    },
    {
      "cell_type": "code",
      "source": [
        "int(4.76986)"
      ],
      "metadata": {
        "id": "u-COETPlqq9D"
      },
      "execution_count": null,
      "outputs": []
    },
    {
      "cell_type": "code",
      "source": [
        "int(-6.35435)"
      ],
      "metadata": {
        "id": "hGNNDuUUqu__"
      },
      "execution_count": null,
      "outputs": []
    },
    {
      "cell_type": "markdown",
      "source": [
        "**Converting integers nd strings to float-point numbers:**"
      ],
      "metadata": {
        "id": "5mz5uWfrq2Tf"
      }
    },
    {
      "cell_type": "code",
      "source": [
        "float(32)"
      ],
      "metadata": {
        "id": "XqypTtE7q92a"
      },
      "execution_count": null,
      "outputs": []
    },
    {
      "cell_type": "code",
      "source": [
        "float('5.3245')"
      ],
      "metadata": {
        "id": "OU6MrZO0q_7E"
      },
      "execution_count": null,
      "outputs": []
    },
    {
      "cell_type": "markdown",
      "source": [
        "**Converting an argument to a string:**"
      ],
      "metadata": {
        "id": "slkOy1C5rFe8"
      }
    },
    {
      "cell_type": "code",
      "source": [
        "str(32)"
      ],
      "metadata": {
        "id": "Q7ry8ZTCrLuM"
      },
      "execution_count": null,
      "outputs": []
    },
    {
      "cell_type": "code",
      "source": [
        "str(5.43754)"
      ],
      "metadata": {
        "id": "QkRLudDBrNxW"
      },
      "execution_count": null,
      "outputs": []
    },
    {
      "cell_type": "markdown",
      "source": [
        "***MATH FUNCTIONS ***\n",
        "\n",
        "Python has a ***math module*** for this.\n",
        "\n",
        "**NOTE:** you have to import this before it can be used:\n",
        "\n",
        ">>> import math\n",
        "\n",
        "A Module object is now created by the above statement and is called *math*.\n",
        "\n",
        "**Mathematical Operators vs. Math Functions**\n",
        "\n",
        "For *straightforward mathematical calculations* in Python, you can use the **built-in mathematical operators**, such as addition (+), subtraction (-), division (/), and multiplication (*). \n",
        "\n",
        "But *more advanced operations*, such as exponential, logarithmic, trigonometric, or power functions, are not built in - then you use the math functions in the **build-in math module**.\n",
        "\n",
        "**Applications or uses of Math Module:**\n",
        "\n",
        "The Python math module offers you the ability to perform common and useful mathematical calculations within your application. Here are a few practical uses for the math module:\n",
        "\n",
        "1. Calculating combinations and permutations using factorials\n",
        "\n",
        "2. Calculating the height of a pole using trigonometric functions\n",
        "\n",
        "3. Calculating radioactive decay using the exponential function\n",
        "\n",
        "4. Calculating the curve of a suspension bridge using hyperbolic functions\n",
        "\n",
        "5. Solving quadratic equations\n",
        "\n",
        "6. Simulating periodic functions, such as sound and light waves, using trigonometric functions\n",
        "\n",
        "\n",
        "\n",
        "**There are 7 arithmetic operators in Python :**\n",
        "\n",
        "1. Addition (+)\n",
        "2. Subtraction (-)\n",
        "3. Multiplication (*)\n",
        "4. Division (/)\n",
        "\n",
        "5. **Modulus (%)**\n",
        "In Python, % is the modulus operator. It is used to find the **remainder** when first operand is divided by the second.\n",
        "\n",
        "6. Exponentiation (**) **bold text**\n",
        "In Python, ** is the exponentiation operator. It is used to raise the first operand to **power of** second.\n",
        "\n",
        "7. **Floor division (//)**\n",
        "In Python, // is used to conduct the floor division. It is used to find the **floor of the quotient** when first operand is divided by the second.  **In essence - how many times can a given number be divided by another.** \n",
        "\n",
        "\n",
        "![image.png](data:image/png;base64,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)"
      ],
      "metadata": {
        "id": "x6d9wFBErUq8"
      }
    },
    {
      "cell_type": "markdown",
      "source": [
        "5. Modulus (Res)"
      ],
      "metadata": {
        "id": "6C2KmCsuyYAW"
      }
    },
    {
      "cell_type": "code",
      "source": [
        "val1 = 3\n",
        "val2 = 2\n",
        "  \n",
        "# using the modulus operator\n",
        "res = val1 % val2\n",
        "print(res)"
      ],
      "metadata": {
        "id": "FLgbq8_ZyZ6q"
      },
      "execution_count": null,
      "outputs": []
    },
    {
      "cell_type": "markdown",
      "source": [
        "6. Exponentiation (Power of)"
      ],
      "metadata": {
        "id": "IhSqNPGaytnG"
      }
    },
    {
      "cell_type": "code",
      "source": [
        "val1 = 2\n",
        "val2 = 3\n",
        "  \n",
        "# using the exponentiation operator\n",
        "res = val1 ** val2\n",
        "print(res)"
      ],
      "metadata": {
        "id": "6tHzy7Fyysqr"
      },
      "execution_count": null,
      "outputs": []
    },
    {
      "cell_type": "markdown",
      "source": [
        "7. Floor Division (Divided by / into)"
      ],
      "metadata": {
        "id": "fSZ7IF_uyuC5"
      }
    },
    {
      "cell_type": "code",
      "source": [
        "val1 = 11\n",
        "val2 = 2\n",
        "  \n",
        "# using the floor division\n",
        "res = val1 // val2\n",
        "print(res)"
      ],
      "metadata": {
        "id": "mAAeYkMkysIr"
      },
      "execution_count": null,
      "outputs": []
    },
    {
      "cell_type": "code",
      "source": [
        "import math\n",
        "print(math)"
      ],
      "metadata": {
        "id": "x5bVa2aKrwdu"
      },
      "execution_count": null,
      "outputs": []
    },
    {
      "cell_type": "markdown",
      "source": [
        "This (and other **modules**) contains **functions** and **variables** related to the math module.\n",
        "\n",
        "To use the functions you need to specify the name of the module and the function with a **dot notation** (dot or period)."
      ],
      "metadata": {
        "id": "WW5hbtyYr7hF"
      }
    },
    {
      "cell_type": "markdown",
      "source": [
        "# **List of Math Functions in Math Module:**\n",
        "\n",
        "**Function -\tDescription**\n",
        "\n",
        "ceil(x)\t- Returns the smallest integer greater than or equal to x\n",
        "\n",
        "copysign(x, y)\t- Returns x with the sign of y\n",
        "\n",
        "fabs(x)\t- Returns the absolute value of x\n",
        "\n",
        "factorial(x)\t- Returns the factorial of x\n",
        "\n",
        "floor(x)\t- Returns the largest integer less than or equal to x\n",
        "\n",
        "fmod(x, y)\t- Returns the remainder when x is divided by y\n",
        "\n",
        "frexp(x)\t- Returns the mantissa and exponent of x as the pair (m, e)\n",
        "\n",
        "fsum(iterable)\t- Returns an accurate floating point sum of values in the iterable\n",
        "\n",
        "isfinite(x)\t- Returns True if x is neither an infinity nor a NaN (Not a Number)\n",
        "\n",
        "isinf(x)\t- Returns True if x is a positive or negative infinity\n",
        "\n",
        "isnan(x)\t- Returns True if x is a NaN\n",
        "\n",
        "ldexp(x, i)\t- Returns x * (2**i)\n",
        "\n",
        "modf(x)\t- Returns the fractional and integer parts of x\n",
        "\n",
        "trunc(x)\t- Returns the truncated integer value of x\n",
        "\n",
        "exp(x)\t- Returns e**x\n",
        "\n",
        "expm1(x)\t- Returns e**x - 1\n",
        "\n",
        "log(x[, b])\t- Returns the logarithm of x to the base b (defaults to e)\n",
        "\n",
        "log1p(x)\t- Returns the natural logarithm of 1+x\n",
        "\n",
        "log2(x)\t- Returns the base-2 logarithm of x\n",
        "\n",
        "log10(x)\t- Returns the base-10 logarithm of x\n",
        "\n",
        "pow(x, y)\t- Returns x raised to the power y\n",
        "\n",
        "sqrt(x)\t- Returns the square root of x\n",
        "\n",
        "acos(x)\t- Returns the arc cosine of x\n",
        "\n",
        "asin(x)\t- Returns the arc sine of x\n",
        "\n",
        "atan(x)\t- Returns the arc tangent of x\n",
        "\n",
        "atan2(y, x)\t- Returns atan(y / x)\n",
        "\n",
        "cos(x)\t- Returns the cosine of x\n",
        "\n",
        "hypot(x, y)\t- Returns the Euclidean norm, sqrt(x*x + y*y)\n",
        "\n",
        "sin(x)\t- Returns the sine of x\n",
        "\n",
        "tan(x)\t- Returns the tangent of x\n",
        "\n",
        "degrees(x)\t- Converts angle x from radians to degrees\n",
        "\n",
        "radians(x)\t- Converts angle x from degrees to radians\n",
        "\n",
        "acosh(x)\t- Returns the inverse hyperbolic cosine of x\n",
        "\n",
        "asinh(x)\t- Returns the inverse hyperbolic sine of x\n",
        "\n",
        "atanh(x)\t- Returns the inverse hyperbolic tangent of x\n",
        "\n",
        "cosh(x)\t- Returns the hyperbolic cosine of x\n",
        "\n",
        "sinh(x)\t- Returns the hyperbolic cosine of x\n",
        "\n",
        "tanh(x)\t- Returns the hyperbolic tangent of x\n",
        "\n",
        "erf(x)\t- Returns the error function at x\n",
        "\n",
        "erfc(x)\t- Returns the complementary error function at x\n",
        "\n",
        "gamma(x)\t- Returns the Gamma function at x\n",
        "\n",
        "lgamma(x)\t- Returns the natural logarithm of the absolute value of the Gamma function at x\n",
        "\n",
        "pi\t- Mathematical constant, the ratio of circumference of a circle to it's diameter (3.14159...)\n",
        "\n",
        "e\t- mathematical constant e (2.71828...)\n"
      ],
      "metadata": {
        "id": "pyXKKPocsmso"
      }
    },
    {
      "cell_type": "markdown",
      "source": [
        "Commonly Used Math functions:"
      ],
      "metadata": {
        "id": "wLM3HBaWtcCe"
      }
    },
    {
      "cell_type": "code",
      "source": [
        "# Square root calculation\n",
        "\n",
        "import math\n",
        "math.sqrt(4)"
      ],
      "metadata": {
        "id": "x0cx0RIUtfNZ"
      },
      "execution_count": null,
      "outputs": []
    },
    {
      "cell_type": "code",
      "source": [
        "# Power Used to raise x value. It raises the first to the second and returns the result. In other words, pow(5,2) is equivalent to 4**4. Example: \n",
        "\n",
        "pow(5,2)"
      ],
      "metadata": {
        "id": "glQzgQwxt7gF"
      },
      "execution_count": null,
      "outputs": []
    },
    {
      "cell_type": "markdown",
      "source": [
        "**CONSTANTS in the Math Module:**\n",
        "\n",
        "one is **pi**\n",
        "\n",
        "What is pi?\n",
        "\n",
        "The number **π **is a mathematical constant that is the **ratio of a circle's circumference to its diameter**, approximately equal to ......\n",
        "\n",
        "funtion: math.pi\n",
        "\n",
        "**Interesting fact:**\n",
        "\n",
        "**PiDay is on 14 March** - why? Calculate pi. below and see if you get the answer."
      ],
      "metadata": {
        "id": "MWpZxwPkwDPY"
      }
    },
    {
      "cell_type": "code",
      "source": [
        "math.pi"
      ],
      "metadata": {
        "id": "S4cZ7Wk1wVot"
      },
      "execution_count": null,
      "outputs": []
    },
    {
      "cell_type": "markdown",
      "source": [
        "**FACTORIALS**\n",
        "\n",
        "You may have seen mathematical expressions like 7! or 4! before. The exclamation marks don’t mean that the numbers are excited. Rather, **“!” **is the **factorial symbol**. Factorials are used in **finding permutations or combinations**. **You can determine the factorial of a number by multiplying all whole numbers from the chosen number down to 1.**\n",
        "\n",
        "The following table shows the factorial values for 4, 6, and 7:\n",
        "\n",
        "Symbol\tIn Words\tExpression\tResult\n",
        "\n",
        "4!\tFour factorial =\t4 x 3 x 2 x 1\t= 24\n",
        "\n",
        "6!\tSix factorial\t = 6 x 5 x 4 x 3 x 2 x 1 =\t720\n",
        "\n",
        "7!\tSeven factorial\t= 7 x 6 x 5 x 4 x 3 x 2 x 1 = 5040"
      ],
      "metadata": {
        "id": "xnHLRif2xQYu"
      }
    },
    {
      "cell_type": "code",
      "source": [
        "math.factorial(7)"
      ],
      "metadata": {
        "id": "opXhpJkwxlwG"
      },
      "execution_count": null,
      "outputs": []
    },
    {
      "cell_type": "code",
      "source": [
        "math.factorial(-5)"
      ],
      "metadata": {
        "id": "S7jHDDIjx6cf"
      },
      "execution_count": null,
      "outputs": []
    },
    {
      "cell_type": "code",
      "source": [
        "math.factorial(4.3)"
      ],
      "metadata": {
        "id": "W5Mk7xxRyA9U"
      },
      "execution_count": null,
      "outputs": []
    },
    {
      "cell_type": "markdown",
      "source": [
        "Get the details of the Math Module"
      ],
      "metadata": {
        "id": "9cye9r8gCYAi"
      }
    },
    {
      "cell_type": "code",
      "source": [
        "import math\n",
        "print(\"Details of math module:\\n\")\n",
        "help(math)"
      ],
      "metadata": {
        "id": "Ai8BZaJpCW5F"
      },
      "execution_count": null,
      "outputs": []
    },
    {
      "cell_type": "markdown",
      "source": [
        "# Fun Python Codes:\n",
        "\n",
        "# 1. Calculate Days between Dates"
      ],
      "metadata": {
        "id": "NaHkyFdV-ghn"
      }
    },
    {
      "cell_type": "code",
      "source": [
        "from datetime import date\n",
        "f_date = date(2014, 7, 2)\n",
        "l_date = date(2014, 7, 11)\n",
        "delta = l_date - f_date\n",
        "print(delta.days)"
      ],
      "metadata": {
        "id": "ZZnHc-Eb-ogL"
      },
      "execution_count": null,
      "outputs": []
    },
    {
      "cell_type": "markdown",
      "source": [
        "# 2. Print the calendar for a specific year and month"
      ],
      "metadata": {
        "id": "OyByIRWb-4GL"
      }
    },
    {
      "cell_type": "code",
      "source": [
        "import calendar\n",
        "y = int(input(\"Input the year : \"))\n",
        "m = int(input(\"Input the month in numbers : \"))\n",
        "print(calendar.month(y, m))"
      ],
      "metadata": {
        "id": "EUEwcuUC_Eje"
      },
      "execution_count": null,
      "outputs": []
    },
    {
      "cell_type": "markdown",
      "source": [
        "# 3. Print all Even Numbers and stop when number 237 is reach in the list"
      ],
      "metadata": {
        "id": "jc8F9nSh_Z1V"
      }
    },
    {
      "cell_type": "code",
      "source": [
        "numbers = [    \n",
        "    386, 462, 47, 418, 907, 344, 236, 375, 823, 566, 597, 978, 328, 615, 953, 345, \n",
        "    399, 162, 758, 219, 918, 237, 412, 566, 826, 248, 866, 950, 626, 949, 687, 217, \n",
        "    815, 67, 104, 58, 512, 24, 892, 894, 767, 553, 81, 379, 843, 831, 445, 742, 717, \n",
        "    958,743, 527\n",
        "    ]\n",
        "\n",
        "for x in numbers:\n",
        "    if x == 237:\n",
        "        print(x)\n",
        "        break;\n",
        "    elif x % 2 == 0:\n",
        "        print(x)"
      ],
      "metadata": {
        "id": "XMCJi-Yu_aSh"
      },
      "execution_count": null,
      "outputs": []
    },
    {
      "cell_type": "markdown",
      "source": [
        "# 4. Python program that will accept the base and height of a triangle and compute the area\n",
        "\n",
        "\n",
        "![image.png](data:image/png;base64,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)"
      ],
      "metadata": {
        "id": "L6_EPG__Ae7H"
      }
    },
    {
      "cell_type": "code",
      "source": [
        "b = int(input(\"Input the base : \"))\n",
        "h = int(input(\"Input the height : \"))\n",
        "\n",
        "area = b*h/2\n",
        "\n",
        "print(\"area = \", area)"
      ],
      "metadata": {
        "id": "NT97XnmPAfMN"
      },
      "execution_count": null,
      "outputs": []
    },
    {
      "cell_type": "markdown",
      "source": [
        "# 5. Python program to convert seconds to day, hour, minutes and seconds"
      ],
      "metadata": {
        "id": "_OnzOpyxBzfn"
      }
    },
    {
      "cell_type": "code",
      "source": [
        "#@title\n",
        "time = float(input(\"Input time in seconds: \"))\n",
        "day = time // (24 * 3600)\n",
        "time = time % (24 * 3600)\n",
        "hour = time // 3600\n",
        "time = time % 3600\n",
        "minutes = time // 60\n",
        "time = time % 60\n",
        "seconds = time\n",
        "print(\"d:h:m:s-> %d:%d:%d:%d\" % (day, hour, minutes, seconds))"
      ],
      "metadata": {
        "id": "ISpowg-uBz1D",
        "cellView": "form"
      },
      "execution_count": null,
      "outputs": []
    },
    {
      "cell_type": "code",
      "source": [
        "#@title\n",
        "time = float(input(\"Input time in seconds: \"))\n",
        "day = time // (24 * 3600)\n",
        "time %= (24 * 3600)\n",
        "hour = time // 3600\n",
        "time %= 3600\n",
        "minutes = time // 60\n",
        "time %= 60\n",
        "seconds = time\n",
        "print(\"d:h:m:s-> %d:%d:%d:%d\" % (day, hour, minutes, seconds))"
      ],
      "metadata": {
        "cellView": "form",
        "id": "IK7Vyaaa1scJ"
      },
      "execution_count": null,
      "outputs": []
    },
    {
      "cell_type": "code",
      "source": [
        "#@title\n",
        "time = float(input(\"Input time in seconds: \"))\n",
        "day = time // (24 * 3600)\n",
        "time = time % (24 * 3600)\n",
        "hour = time // 3600\n",
        "time %= 3600\n",
        "minutes = time // 60\n",
        "time %= 60\n",
        "seconds = time\n",
        "print(\"d:h:m:s-> %d:%d:%d:%d\" % (day, hour, minutes, seconds))"
      ],
      "metadata": {
        "cellView": "form",
        "id": "V60Nk4_U2pM6"
      },
      "execution_count": null,
      "outputs": []
    },
    {
      "cell_type": "markdown",
      "source": [
        "# 6. Checking Validity of IP Addrress\n",
        "\n",
        "An **Internet Protocol address (IP address) is a numerical label assigned to each device connected to a computer network that uses the Internet Protocol for communication**. An IP address serves two main functions: host or network interface identification and location addressing.\n",
        "\n",
        "Internet Protocol version 4 (IPv4) defines an IP address as a 32-bit number. However, because of the growth of the Internet and the depletion of available IPv4 addresses, a new version of IP (IPv6), using 128 bits for the IP address, was standardized in 1998. IPv6 deployment has been ongoing since the mid-2000s.\n",
        "IP addresses are written and displayed in human-readable notations, such as 172.16.254.1 in IPv4, and 2001:db8:0:1234:0:567:8:1 in IPv6. \n",
        "\n",
        "The size of the routing prefix of the address is designated in CIDR (Classless Inter-Domain Routing) notation by suffixing the address with the number of significant bits, e.g., 192.168.1.15/24, which is equivalent to the historically used subnet mask 255.255.255.0.\n",
        "\n",
        "![image.png](data:image/png;base64,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)\n"
      ],
      "metadata": {
        "id": "RfvstqXIDFuk"
      }
    },
    {
      "cell_type": "code",
      "source": [
        "import socket\n",
        "addr = '127.0.0.2561'\n",
        "try:\n",
        "    socket.inet_aton(addr)\n",
        "    print(\"Valid IP\")\n",
        "except socket.error:\n",
        "    print(\"Invalid IP\")"
      ],
      "metadata": {
        "colab": {
          "base_uri": "https://localhost:8080/"
        },
        "id": "N8ZlQjo7DGJC",
        "outputId": "eeb42d47-8d50-4cfd-c567-bac55f242b7e"
      },
      "execution_count": null,
      "outputs": [
        {
          "output_type": "stream",
          "name": "stdout",
          "text": [
            "Invalid IP\n"
          ]
        }
      ]
    },
    {
      "cell_type": "markdown",
      "source": [
        "# Exercise 1:\n",
        "\n",
        "Create a program that asks the user to enter their name and their age. Print out a message addressed to them that tells them the year that they will turn 100 years old."
      ],
      "metadata": {
        "id": "KuLmHd_uIgqM"
      }
    },
    {
      "cell_type": "code",
      "source": [
        "name = input(\"What is your name: \")\n",
        "age = int(input(\"How old are you: \"))\n",
        "year = 2014 - age + 100\n",
        "print(name + \", you will be 100 years old in the year \" + str(year))"
      ],
      "metadata": {
        "id": "okzYqmgHIpYS"
      },
      "execution_count": null,
      "outputs": []
    },
    {
      "cell_type": "markdown",
      "source": [
        "# Exercise 2:\n",
        "\n",
        "I want to make a piece of code that converts from a numerical grade (1-100) to a letter grade (A, B, C, D, F).  You have to ask the user for his/her grade. If 90-100 must display an \"A\"; if 80-89 must display an \"B\"; if 70-79 must display \"C\"; if 65-69 must display \"D\" and if less than 65 must display an \"F\"."
      ],
      "metadata": {
        "id": "OYrlVVDUtkay"
      }
    },
    {
      "cell_type": "code",
      "source": [
        "grade = input(\"Enter your grade: \")\n",
        "if grade >= 90:\n",
        "  print(\"A\")\n",
        "elif grade >= 80:\n",
        "  print(\"B\")\n",
        "elif grade >= 70:\n",
        "  print(\"C\")\n",
        "elif grade >= 65:\n",
        "  print(\"D\")\n",
        "else:\n",
        "  print(\"F\")"
      ],
      "metadata": {
        "id": "DFx_s78Xtk0U"
      },
      "execution_count": null,
      "outputs": []
    }
  ]
}