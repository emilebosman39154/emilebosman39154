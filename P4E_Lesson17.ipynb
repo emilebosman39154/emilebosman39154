{
  "nbformat": 4,
  "nbformat_minor": 0,
  "metadata": {
    "colab": {
      "provenance": [],
      "include_colab_link": true
    },
    "kernelspec": {
      "name": "python3",
      "display_name": "Python 3"
    },
    "language_info": {
      "name": "python"
    }
  },
  "cells": [
    {
      "cell_type": "markdown",
      "metadata": {
        "id": "view-in-github",
        "colab_type": "text"
      },
      "source": [
        "<a href=\"https://colab.research.google.com/github/emilebosman39154/emilebosman39154/blob/main/P4E_Lesson17.ipynb\" target=\"_parent\"><img src=\"https://colab.research.google.com/assets/colab-badge.svg\" alt=\"Open In Colab\"/></a>"
      ]
    },
    {
      "cell_type": "markdown",
      "source": [
        "# **Lesson 17 : Chapter 7 & 8 Lists**\n",
        "\n"
      ],
      "metadata": {
        "id": "5kD5T4xArapf"
      }
    },
    {
      "cell_type": "markdown",
      "source": [
        "# **Quick Test**\n",
        "\n",
        "None"
      ],
      "metadata": {
        "id": "nqAkyfMtIrv1"
      }
    },
    {
      "cell_type": "markdown",
      "source": [
        "1. \n",
        "\n",
        "None\n"
      ],
      "metadata": {
        "id": "7RVjhoAWDKn8"
      }
    },
    {
      "cell_type": "markdown",
      "source": [
        "# **Quick Test Answers**\n",
        "\n",
        "**1. Answers:**\n",
        "\n",
        "None"
      ],
      "metadata": {
        "id": "TsTWYEfT9HSX"
      }
    },
    {
      "cell_type": "markdown",
      "source": [
        "## **Opening Files (then continue with Lists)**\n"
      ],
      "metadata": {
        "id": "j1WQsgheaj0N"
      }
    },
    {
      "cell_type": "markdown",
      "source": [
        "## **1. Reading Files**\n",
        "**Do this in Pycharm**"
      ],
      "metadata": {
        "id": "sLKs4aJrbL-s"
      }
    },
    {
      "cell_type": "code",
      "source": [
        "fhand = open(\"/Users/emilebosman/Downloads/Python Text Import.txt\")\n",
        "count = 0\n",
        "for line in fhand:\n",
        "    count = count + 1\n",
        "print('Line Count:', count)"
      ],
      "metadata": {
        "id": "CLqevYRibOA5"
      },
      "execution_count": null,
      "outputs": []
    },
    {
      "cell_type": "markdown",
      "source": [
        "**What will the following do?**"
      ],
      "metadata": {
        "id": "4Yj3PokScZa4"
      }
    },
    {
      "cell_type": "code",
      "source": [
        "fhand = open(\"/Users/emilebosman/Downloads/Python Text Import.txt\")\n",
        "inp = fhand.read()\n",
        "print(len(inp))\n",
        "print(inp[:20])"
      ],
      "metadata": {
        "id": "P-GvQxKacoUZ"
      },
      "execution_count": null,
      "outputs": []
    },
    {
      "cell_type": "markdown",
      "source": [
        "**Use the .startwith**"
      ],
      "metadata": {
        "id": "EIdeulrUdLDU"
      }
    },
    {
      "cell_type": "code",
      "source": [
        "fhand = open(\"/Users/emilebosman/Downloads/mbox.txt\")\n",
        "for line in fhand:\n",
        "    if line.startswith('From:'):\n",
        "        print(line)"
      ],
      "metadata": {
        "id": "-YMn56ZgdW-9"
      },
      "execution_count": null,
      "outputs": []
    },
    {
      "cell_type": "markdown",
      "source": [
        "**Choosing own file name**"
      ],
      "metadata": {
        "id": "pS7jLcg8dWsk"
      }
    },
    {
      "cell_type": "code",
      "source": [
        "fname = input('Enter the file name: ')\n",
        "fhand = open(fname)\n",
        "count = 0\n",
        "for line in fhand:\n",
        "    if line.startswith('Subject:'):\n",
        "        count = count + 1\n",
        "print('There were', count, 'subject lines in', fname)"
      ],
      "metadata": {
        "id": "bIrHK677fWuD"
      },
      "execution_count": null,
      "outputs": []
    },
    {
      "cell_type": "markdown",
      "source": [
        "**Important - you need to specify the file's path:**\n",
        "\n",
        "E.g.:\n",
        "Enter the file name: /Users/emilebosman/Downloads/mbox.txt"
      ],
      "metadata": {
        "id": "XshJwRMhgAc8"
      }
    },
    {
      "cell_type": "markdown",
      "source": [
        "## **2. Writing a Files**\n",
        "\n"
      ],
      "metadata": {
        "id": "YvMmk0F6goYm"
      }
    },
    {
      "cell_type": "code",
      "source": [
        "fout = open('output.txt', 'w')\n",
        "print(fout)"
      ],
      "metadata": {
        "id": "l_LLGr4_gwcS"
      },
      "execution_count": null,
      "outputs": []
    },
    {
      "cell_type": "markdown",
      "source": [
        "/usr/local/bin/python3.11 /Users/emilebosman/PycharmProjects/mbox/main.py \n",
        "<_io.TextIOWrapper name='output.txt' mode='w' encoding='UTF-8'>"
      ],
      "metadata": {
        "id": "cavSLJQ8hHBh"
      }
    },
    {
      "cell_type": "markdown",
      "source": [
        "**Adding a line to this new file**"
      ],
      "metadata": {
        "id": "V_fjUvLphqt7"
      }
    },
    {
      "cell_type": "code",
      "source": [
        "line1 = \"This here's the wattle,\\n\"\n",
        "fout.write(line1)"
      ],
      "metadata": {
        "id": "WEIKLGpJhqTw"
      },
      "execution_count": null,
      "outputs": []
    },
    {
      "cell_type": "markdown",
      "source": [
        "**Next line / paragraph or section**"
      ],
      "metadata": {
        "id": "TQkFfGbChwNq"
      }
    },
    {
      "cell_type": "code",
      "source": [
        "line2 = 'the emblem of our land.\\n'\n",
        "fout.write(line2)"
      ],
      "metadata": {
        "id": "ykK3UZkBhz1i"
      },
      "execution_count": null,
      "outputs": []
    },
    {
      "cell_type": "markdown",
      "source": [
        "**close when done**"
      ],
      "metadata": {
        "id": "aLvGfMWfh-7y"
      }
    },
    {
      "cell_type": "code",
      "source": [
        "fout.close()"
      ],
      "metadata": {
        "id": "jFiAW-QliBjj"
      },
      "execution_count": null,
      "outputs": []
    },
    {
      "cell_type": "markdown",
      "source": [
        "## **3. Parsing Lines**\n",
        "Often, you need to **sort through the output file** and **identify particular pieces of information that are most important to you**. In general, this is **called file parsing**"
      ],
      "metadata": {
        "id": "nu_cWZ64hFeP"
      }
    },
    {
      "cell_type": "markdown",
      "source": [
        "Start with opeing text documents first:  **NB - Run the following code in Pycharm** - easier since the file is on your compouter and no further configurations required from Pycharm (different to Colab as online IDE)"
      ],
      "metadata": {
        "id": "C8S6-XWxaAD3"
      }
    },
    {
      "cell_type": "code",
      "source": [
        "a = open(\"/Users/emilebosman/Downloads/Python Text Import.txt\", 'r')   # 'r' is for read mode\n",
        "# print(a.read())\n",
        "print(a.readline())  # comment the precious statement out"
      ],
      "metadata": {
        "id": "sLr-XdEeaDqH"
      },
      "execution_count": null,
      "outputs": []
    },
    {
      "cell_type": "code",
      "source": [
        "fhand = open(\"/Users/emilebosman/Downloads/mbox.txt\", 'r')\n",
        "for line in fhand:\n",
        "    line = line.rstrip()\n",
        "    if not line.startswith('From '): continue\n",
        "    words = line.split()\n",
        "    print(words[2])"
      ],
      "metadata": {
        "id": "813MJQQ7jaFJ"
      },
      "execution_count": null,
      "outputs": []
    },
    {
      "cell_type": "markdown",
      "source": [
        "# **4. Rock Paper Scissor Game**"
      ],
      "metadata": {
        "id": "wC2JR8-l8E_U"
      }
    },
    {
      "cell_type": "code",
      "source": [
        "import random\n",
        "\n",
        "exit = False\n",
        "user_points = 0\n",
        "computer_points = 0\n",
        "\n",
        "while exit == False:\n",
        "    options = [\"rock\", \"paper\" , \"scissors\"]\n",
        "    user_input = input(\"Choose rock, paper, scissors or exit: \")\n",
        "    computer_input = random.choice(options)\n",
        "    \n",
        "    if user_input == \"exit\" :\n",
        "        print(\"Game ended\")\n",
        "        print(\"You won a total score of \"+str(user_points)+\" and the computer total score is \" +str(computer_points))\n",
        "        exit = True\n",
        "\n",
        "    if user_input == \"rock\":\n",
        "        if computer_input == \"rock\":\n",
        "            print(\"Your input is rock\")\n",
        "            print(\"computer input is rock\")\n",
        "            print(\"It is a tie!\")\n",
        "        elif computer_input == \"paper\":\n",
        "            print(\"Your input is rock\")\n",
        "            print(\"computer input is paper\")\n",
        "            print(\" computer wins\")\n",
        "            computer_points += 1\n",
        "        elif computer_input == \"scissors\":\n",
        "            print(\"Your input is rock\")\n",
        "            print(\"computer input is scissors\")\n",
        "            print(\"you win\")\n",
        "            user_points += 1\n",
        "\n",
        "    elif user_input == \"paper\":\n",
        "        if computer_input == \"rock\":\n",
        "            print(\"Your input is paper\")\n",
        "            print(\"computer input is rock\")\n",
        "            print(\"you win!\")\n",
        "            user_points += 1\n",
        "        elif computer_input == \"paper\":\n",
        "            print(\"Your input is paper\")\n",
        "            print(\"computer input is paper\")\n",
        "            print(\"it's a tie!\")\n",
        "        elif computer_input == \"scissors\":\n",
        "            print(\"Your input is paper\")\n",
        "            print(\"computer input is scissors\")\n",
        "            print(\"computer wins\")\n",
        "            computer_points += 1\n",
        "\n",
        "    elif user_input == \"scissors\":\n",
        "        if computer_input == \"rock\":\n",
        "            print(\"Your input is scissors\")\n",
        "            print(\"computer input is rock\")\n",
        "            print(\"computer win!\")\n",
        "            computer_points += 1\n",
        "        elif computer_input == \"paper\":\n",
        "            print(\"Your input is scissors\")\n",
        "            print(\"computer input is paper\")\n",
        "            print(\"you win\")\n",
        "            user_points += 1\n",
        "        elif computer_input == \"scissors\":\n",
        "            print(\"Your input is scissors\")\n",
        "            print(\"computer input is scissors\")\n",
        "            print(\"its a tie\")\n",
        "\n",
        "    elif user_input != \" rock\" or user_input != \"paper\" or user_input != \"scissors\":\n",
        "        print(\"Invalid Input\")"
      ],
      "metadata": {
        "id": "-QMgo2Av8Eu0"
      },
      "execution_count": null,
      "outputs": []
    }
  ]
}