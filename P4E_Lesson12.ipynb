{
  "nbformat": 4,
  "nbformat_minor": 0,
  "metadata": {
    "colab": {
      "provenance": [],
      "collapsed_sections": [],
      "authorship_tag": "ABX9TyPatTZC96sgAgIHvI8G2sgG",
      "include_colab_link": true
    },
    "kernelspec": {
      "name": "python3",
      "display_name": "Python 3"
    },
    "language_info": {
      "name": "python"
    }
  },
  "cells": [
    {
      "cell_type": "markdown",
      "metadata": {
        "id": "view-in-github",
        "colab_type": "text"
      },
      "source": [
        "<a href=\"https://colab.research.google.com/github/emilebosman39154/emilebosman39154/blob/main/P4E_Lesson12.ipynb\" target=\"_parent\"><img src=\"https://colab.research.google.com/assets/colab-badge.svg\" alt=\"Open In Colab\"/></a>"
      ]
    },
    {
      "cell_type": "markdown",
      "source": [
        "# **Lesson 12 : Strings (continue)**\n",
        "\n"
      ],
      "metadata": {
        "id": "5kD5T4xArapf"
      }
    },
    {
      "cell_type": "markdown",
      "source": [
        "# **Quick Test**\n",
        "\n",
        "**1. Without testing the code below what will happen when you run this:**\n",
        "\n",
        "\n",
        "\n",
        "\n",
        "\n"
      ],
      "metadata": {
        "id": "nqAkyfMtIrv1"
      }
    },
    {
      "cell_type": "code",
      "source": [
        "while True:\n",
        "    line = input('> ')\n",
        "    if line[0] == '#':\n",
        "        continue\n",
        "    if line == 'done':\n",
        "        break\n",
        "    print(line)\n",
        "print('Done!')"
      ],
      "metadata": {
        "id": "mgnlcFgdnybp",
        "colab": {
          "base_uri": "https://localhost:8080/"
        },
        "outputId": "1b47d186-71ef-4b34-a558-7f1968574381"
      },
      "execution_count": 2,
      "outputs": [
        {
          "output_type": "stream",
          "name": "stdout",
          "text": [
            "> Jaco is asking questions\n",
            "Jaco is asking questions\n",
            "> # Jaco is asking questions\n",
            "> done\n",
            "Done!\n"
          ]
        }
      ]
    },
    {
      "cell_type": "markdown",
      "source": [
        "**2. When I try to change a string character based on index value I get an error in the following code.**\n",
        "\n",
        "2.1  Why?\n",
        "\n",
        "2.2 Re-write the code to fix this problem\n",
        "\n"
      ],
      "metadata": {
        "id": "BWJKmoUOnzzZ"
      }
    },
    {
      "cell_type": "code",
      "source": [
        "greeting = 'Hello, world!'\n",
        "greeting[0] = 'J'"
      ],
      "metadata": {
        "id": "AqTBnRqxo5pt",
        "colab": {
          "base_uri": "https://localhost:8080/",
          "height": 183
        },
        "outputId": "d2c6e01d-bcae-45e1-cf13-4e2ec0eb85fa"
      },
      "execution_count": 4,
      "outputs": [
        {
          "ename": "TypeError",
          "evalue": "ignored",
          "output_type": "error",
          "traceback": [
            "\u001b[0;31m---------------------------------------------------------------------------\u001b[0m",
            "\u001b[0;31mTypeError\u001b[0m                                 Traceback (most recent call last)",
            "\u001b[0;32m<ipython-input-4-217c78420f62>\u001b[0m in \u001b[0;36m<module>\u001b[0;34m\u001b[0m\n\u001b[1;32m      1\u001b[0m \u001b[0mgreeting\u001b[0m \u001b[0;34m=\u001b[0m \u001b[0;34m'Hello, world!'\u001b[0m\u001b[0;34m\u001b[0m\u001b[0;34m\u001b[0m\u001b[0m\n\u001b[0;32m----> 2\u001b[0;31m \u001b[0mgreeting\u001b[0m\u001b[0;34m[\u001b[0m\u001b[0;36m0\u001b[0m\u001b[0;34m]\u001b[0m \u001b[0;34m=\u001b[0m \u001b[0;34m'J'\u001b[0m\u001b[0;34m\u001b[0m\u001b[0;34m\u001b[0m\u001b[0m\n\u001b[0m",
            "\u001b[0;31mTypeError\u001b[0m: 'str' object does not support item assignment"
          ]
        }
      ]
    },
    {
      "cell_type": "markdown",
      "source": [
        "**3. Challenge Code:**\n",
        "\n",
        "**Write a code to count the number of times the word \"camel' appears in the following sentence:**\n",
        "\n",
        "\"While riding in the Sahara as part of a camel safari my camel contracted a very rare camel desease.  So much so that the whole camel safari had to be postponed due to the contageous nature therof to the other camels.\""
      ],
      "metadata": {
        "id": "SSxc0XUdpibI"
      }
    },
    {
      "cell_type": "markdown",
      "source": [
        "**Hint:** ***startswith method***\n",
        "\n",
        "The startsWith() method determines whether a string begins with the characters of a specified string, returning true or false as appropriate.\n",
        "\n"
      ],
      "metadata": {
        "id": "zmPRBSVutwD9"
      }
    },
    {
      "cell_type": "code",
      "source": [
        "sentence = \"While riding in the Sahara as part of a camel safari my camel contracted a very rare camel desease.  So much so that the whole camel safari had to be postponed due to the contageous nature therof to the other camels.\"\n",
        "count = 0\n",
        "for word in sentence:\n",
        "  if word == 'camel':\n",
        "      count = count + 1\n",
        "print(count)"
      ],
      "metadata": {
        "colab": {
          "base_uri": "https://localhost:8080/"
        },
        "id": "rjjZIES8qQMI",
        "outputId": "2fd5b62b-18e5-47a5-eca2-b181a117260b"
      },
      "execution_count": null,
      "outputs": [
        {
          "output_type": "stream",
          "name": "stdout",
          "text": [
            "0\n"
          ]
        }
      ]
    },
    {
      "cell_type": "code",
      "source": [
        "s= \"While riding in the Sahara as part of a camel safari my camel contracted a very rare camel desease.  So much so that the whole camel safari had to be postponed due to the contageous nature therof to the other camels.\"\n",
        "w='camel'\n",
        "def count_words(s,w):                   # create a custom funtion (def)\n",
        "    count = 0\n",
        "    for words in range(len(s)):         # find word in the range: length of total string\n",
        "        if s[words:].startswith(w):     # pass the argument of w (variable of word value being searched for)\n",
        "            count += 1\n",
        "    print(count)\n",
        "\n",
        "count_words(s,w)                        #  return the value with the custom function created"
      ],
      "metadata": {
        "colab": {
          "base_uri": "https://localhost:8080/"
        },
        "id": "tY4gPudXsqQB",
        "outputId": "71cfaabf-1fc6-4746-cde0-44b588db24d2"
      },
      "execution_count": 5,
      "outputs": [
        {
          "output_type": "stream",
          "name": "stdout",
          "text": [
            "5\n"
          ]
        }
      ]
    },
    {
      "cell_type": "markdown",
      "source": [
        "# **Code Answers**"
      ],
      "metadata": {
        "id": "_FbbdrjHNss1"
      }
    },
    {
      "cell_type": "markdown",
      "source": [
        "1. When you enter an empty line of input you will get an IndexError"
      ],
      "metadata": {
        "id": "lcGSX3wwo_Af"
      }
    },
    {
      "cell_type": "markdown",
      "source": [
        "2. String objects are immutable and thus cannot be changed.  It can be changed with a new string as a variation to the first."
      ],
      "metadata": {
        "id": "BwuP0glCokAD"
      }
    },
    {
      "cell_type": "code",
      "source": [
        "greeting = 'Hello, world!'\n",
        "new_greeting = 'J' + greeting[1:]\n",
        "print(new_greeting)\n",
        "Jello, world!"
      ],
      "metadata": {
        "id": "9u9h568WozhI"
      },
      "execution_count": null,
      "outputs": []
    },
    {
      "cell_type": "markdown",
      "source": [
        "# **Class Notes:**\n",
        "\n",
        "## **in operator**\n",
        "\n",
        "This is a boolean operator and verifies that a certain **character / character string** are present in the one being compared to.  Return value is either True or False."
      ],
      "metadata": {
        "id": "-cYfNYOwL1Rg"
      }
    },
    {
      "cell_type": "code",
      "execution_count": 6,
      "metadata": {
        "id": "43LV6FpQrXkV",
        "colab": {
          "base_uri": "https://localhost:8080/"
        },
        "outputId": "54c5b223-0328-4a7a-84a2-530d47d6a52f"
      },
      "outputs": [
        {
          "output_type": "execute_result",
          "data": {
            "text/plain": [
              "True"
            ]
          },
          "metadata": {},
          "execution_count": 6
        }
      ],
      "source": [
        "\"a\" in \"apple\""
      ]
    },
    {
      "cell_type": "code",
      "source": [
        "\"apple\" in \"the apple tree\""
      ],
      "metadata": {
        "id": "iO1zVPR37YLQ",
        "colab": {
          "base_uri": "https://localhost:8080/"
        },
        "outputId": "effbd3f4-d249-48e4-ab6f-73cb08042873"
      },
      "execution_count": 7,
      "outputs": [
        {
          "output_type": "execute_result",
          "data": {
            "text/plain": [
              "True"
            ]
          },
          "metadata": {},
          "execution_count": 7
        }
      ]
    },
    {
      "cell_type": "code",
      "source": [
        "\"lemon\" in \"apple juice\" "
      ],
      "metadata": {
        "id": "GYwHRMf57gUm",
        "colab": {
          "base_uri": "https://localhost:8080/"
        },
        "outputId": "7b10f0ab-2ea5-4812-fe6f-ee4945aaf473"
      },
      "execution_count": 8,
      "outputs": [
        {
          "output_type": "execute_result",
          "data": {
            "text/plain": [
              "False"
            ]
          },
          "metadata": {},
          "execution_count": 8
        }
      ]
    },
    {
      "cell_type": "markdown",
      "source": [
        "## **Other string comparisons**\n"
      ],
      "metadata": {
        "id": "OOlCr-t2u51w"
      }
    },
    {
      "cell_type": "markdown",
      "source": [
        "Use the following words to test in the code below:\n",
        "\n",
        "1.   apples\n",
        "2.   bananas\n",
        "3.   Apples"
      ],
      "metadata": {
        "id": "GMacKThl9n_z"
      }
    },
    {
      "cell_type": "code",
      "source": [
        "word = 'bananas'"
      ],
      "metadata": {
        "id": "ZlJqpaPj9D6_"
      },
      "execution_count": 12,
      "outputs": []
    },
    {
      "cell_type": "code",
      "source": [
        "if word == 'apples':\n",
        "  print('Yeah, I love apple.')"
      ],
      "metadata": {
        "id": "Acty3iaIu_OA"
      },
      "execution_count": null,
      "outputs": []
    },
    {
      "cell_type": "code",
      "source": [
        "if word < 'apples':\n",
        "  print('Your word, ' +word+ ', comes before apples.')\n",
        "elif word > 'apples':\n",
        "  print('Your word, ' +word+ ', comes after apples.')\n",
        "else:\n",
        "  print('Ok, I love apples.')"
      ],
      "metadata": {
        "colab": {
          "base_uri": "https://localhost:8080/"
        },
        "id": "d6oDCpEF89z2",
        "outputId": "d19e09d8-9786-4ddc-d900-a9f59dc304e6"
      },
      "execution_count": 13,
      "outputs": [
        {
          "output_type": "stream",
          "name": "stdout",
          "text": [
            "Your word, bananas, comes after apples.\n"
          ]
        }
      ]
    },
    {
      "cell_type": "markdown",
      "source": [
        "## **String Methods**\n",
        "\n",
        "Remember everything in Python are objects.\n",
        "\n",
        "Thus, strings are also objects. \n",
        "\n",
        "Every objects contains:\n",
        "\n",
        "data (the string value, e.g. 'apple')\n",
        "methods (functions that are build into every object of a specific type, e.g. strings have different methods to integers.\n",
        "\n",
        "**Remember:**\n",
        "\n",
        "**type** (function) shows the **object type**\n",
        "\n",
        "**dir** (function) shows the **objects available METHODS**. **dir is a build Python function which provides a list of object METHODS (not functions).**"
      ],
      "metadata": {
        "id": "CmlzxlyevQ27"
      }
    },
    {
      "cell_type": "code",
      "source": [
        "first_code = \"Hello World\"\n",
        "type(first_code)"
      ],
      "metadata": {
        "colab": {
          "base_uri": "https://localhost:8080/"
        },
        "id": "Dzs_5Xyd_K-I",
        "outputId": "784d5b00-1231-45b9-ec38-ca46b12004bb"
      },
      "execution_count": null,
      "outputs": [
        {
          "output_type": "execute_result",
          "data": {
            "text/plain": [
              "str"
            ]
          },
          "metadata": {},
          "execution_count": 19
        }
      ]
    },
    {
      "cell_type": "code",
      "source": [
        "dir(first_code)"
      ],
      "metadata": {
        "colab": {
          "base_uri": "https://localhost:8080/"
        },
        "id": "vQvzAgU-_mAi",
        "outputId": "63a7ce36-9e31-48b7-f011-deba349f9012"
      },
      "execution_count": null,
      "outputs": [
        {
          "output_type": "execute_result",
          "data": {
            "text/plain": [
              "['__add__',\n",
              " '__class__',\n",
              " '__contains__',\n",
              " '__delattr__',\n",
              " '__dir__',\n",
              " '__doc__',\n",
              " '__eq__',\n",
              " '__format__',\n",
              " '__ge__',\n",
              " '__getattribute__',\n",
              " '__getitem__',\n",
              " '__getnewargs__',\n",
              " '__gt__',\n",
              " '__hash__',\n",
              " '__init__',\n",
              " '__init_subclass__',\n",
              " '__iter__',\n",
              " '__le__',\n",
              " '__len__',\n",
              " '__lt__',\n",
              " '__mod__',\n",
              " '__mul__',\n",
              " '__ne__',\n",
              " '__new__',\n",
              " '__reduce__',\n",
              " '__reduce_ex__',\n",
              " '__repr__',\n",
              " '__rmod__',\n",
              " '__rmul__',\n",
              " '__setattr__',\n",
              " '__sizeof__',\n",
              " '__str__',\n",
              " '__subclasshook__',\n",
              " 'capitalize',\n",
              " 'casefold',\n",
              " 'center',\n",
              " 'count',\n",
              " 'encode',\n",
              " 'endswith',\n",
              " 'expandtabs',\n",
              " 'find',\n",
              " 'format',\n",
              " 'format_map',\n",
              " 'index',\n",
              " 'isalnum',\n",
              " 'isalpha',\n",
              " 'isascii',\n",
              " 'isdecimal',\n",
              " 'isdigit',\n",
              " 'isidentifier',\n",
              " 'islower',\n",
              " 'isnumeric',\n",
              " 'isprintable',\n",
              " 'isspace',\n",
              " 'istitle',\n",
              " 'isupper',\n",
              " 'join',\n",
              " 'ljust',\n",
              " 'lower',\n",
              " 'lstrip',\n",
              " 'maketrans',\n",
              " 'partition',\n",
              " 'replace',\n",
              " 'rfind',\n",
              " 'rindex',\n",
              " 'rjust',\n",
              " 'rpartition',\n",
              " 'rsplit',\n",
              " 'rstrip',\n",
              " 'split',\n",
              " 'splitlines',\n",
              " 'startswith',\n",
              " 'strip',\n",
              " 'swapcase',\n",
              " 'title',\n",
              " 'translate',\n",
              " 'upper',\n",
              " 'zfill']"
            ]
          },
          "metadata": {},
          "execution_count": 20
        }
      ]
    },
    {
      "cell_type": "code",
      "source": [
        "help(str.split)   # e.g. help is a build-in function, while split (after the dot-notation is a method) "
      ],
      "metadata": {
        "colab": {
          "base_uri": "https://localhost:8080/"
        },
        "id": "XUVZLUlC_zIY",
        "outputId": "3ba24aa7-ec47-46fc-884f-e25836bdd64a"
      },
      "execution_count": null,
      "outputs": [
        {
          "output_type": "stream",
          "name": "stdout",
          "text": [
            "Help on method_descriptor:\n",
            "\n",
            "split(self, /, sep=None, maxsplit=-1)\n",
            "    Return a list of the words in the string, using sep as the delimiter string.\n",
            "    \n",
            "    sep\n",
            "      The delimiter according which to split the string.\n",
            "      None (the default value) means split according to any whitespace,\n",
            "      and discard empty strings from the result.\n",
            "    maxsplit\n",
            "      Maximum number of splits to do.\n",
            "      -1 (the default value) means no limit.\n",
            "\n"
          ]
        }
      ]
    },
    {
      "cell_type": "code",
      "source": [
        "help(str.upper)"
      ],
      "metadata": {
        "colab": {
          "base_uri": "https://localhost:8080/"
        },
        "id": "LxmVrxESIGJ-",
        "outputId": "1339f9ab-372e-4bf9-b1ae-3ba6042b79e7"
      },
      "execution_count": null,
      "outputs": [
        {
          "output_type": "stream",
          "name": "stdout",
          "text": [
            "Help on method_descriptor:\n",
            "\n",
            "upper(self, /)\n",
            "    Return a copy of the string converted to uppercase.\n",
            "\n"
          ]
        }
      ]
    },
    {
      "cell_type": "markdown",
      "source": [
        "A more updated version of Methods (in this case: String Methods) is found in: https://docs.python.org/3/library/stdtypes.html#string-methods"
      ],
      "metadata": {
        "id": "QqC1x4jEAYAv"
      }
    },
    {
      "cell_type": "markdown",
      "source": [
        "## **Methods & Functions**\n",
        "\n",
        "Calling methods and functions are similar but the syntax differs.  Both takes arguments and can return a value.\n",
        "\n",
        "**Function:**\n",
        "\n",
        "upper(word)    *# Here the variable is called as a argument in the ()*\n",
        "\n",
        "*vs*\n",
        "\n",
        "**Method:**\n",
        "\n",
        "word.**upper()**     *# Here the method is appended after the variable and dot.notation*\n",
        "\n",
        "word.**lower()**     *# Does the opposite by converting all string characters to lowercase*\n",
        "\n",
        "**NB: upper() in Python is a build-in string method** and **not a build-in function**."
      ],
      "metadata": {
        "id": "33h7qnbAxXUY"
      }
    },
    {
      "cell_type": "markdown",
      "source": [
        "\n",
        "\n",
        "---\n",
        "\n"
      ],
      "metadata": {
        "id": "xVPAZuhYMwB1"
      }
    },
    {
      "cell_type": "markdown",
      "source": [
        "**What is wrong with the following and why?:**\n",
        "\n",
        "upper(word)"
      ],
      "metadata": {
        "id": "P9Pcefc7LVEP"
      }
    },
    {
      "cell_type": "markdown",
      "source": [
        "**It should however be rather:**"
      ],
      "metadata": {
        "id": "12jv1waNM3bQ"
      }
    },
    {
      "cell_type": "code",
      "source": [
        "x = word.upper()\n",
        "print (x)"
      ],
      "metadata": {
        "id": "w7sI5GM6G8aL",
        "colab": {
          "base_uri": "https://localhost:8080/"
        },
        "outputId": "6e703c05-6eb8-47d5-bf84-3f211ab25e90"
      },
      "execution_count": 14,
      "outputs": [
        {
          "output_type": "stream",
          "name": "stdout",
          "text": [
            "BANANAS\n"
          ]
        }
      ]
    },
    {
      "cell_type": "markdown",
      "source": [
        "1. The **empty parenthesis** in the methods indicates that it takes.\n",
        "\n",
        "**A method** is also called an **invocation**...*in other words we are invoking upper on the variable: word*."
      ],
      "metadata": {
        "id": "ZXjgo6eCL4DT"
      }
    },
    {
      "cell_type": "markdown",
      "source": [
        "2. A **parameter can be passed in the parenthesis** of the method: e.g."
      ],
      "metadata": {
        "id": "MUUmZo18MkWc"
      }
    },
    {
      "cell_type": "code",
      "source": [
        "word = 'apples'\n",
        "index = word.find('s')\n",
        "print(index)"
      ],
      "metadata": {
        "id": "IPBzyLABNf1I",
        "colab": {
          "base_uri": "https://localhost:8080/"
        },
        "outputId": "3757e53a-2535-42dc-e64e-356adf72bd91"
      },
      "execution_count": 17,
      "outputs": [
        {
          "output_type": "stream",
          "name": "stdout",
          "text": [
            "5\n"
          ]
        }
      ]
    },
    {
      "cell_type": "markdown",
      "source": [
        "**or just as:**"
      ],
      "metadata": {
        "id": "Yy5LS-kxOJX7"
      }
    },
    {
      "cell_type": "code",
      "source": [
        "word.find('a')"
      ],
      "metadata": {
        "id": "DpKmE5QMNwSx",
        "colab": {
          "base_uri": "https://localhost:8080/"
        },
        "outputId": "c6de2378-3529-475b-c796-04a3c279a7f3"
      },
      "execution_count": 18,
      "outputs": [
        {
          "output_type": "execute_result",
          "data": {
            "text/plain": [
              "0"
            ]
          },
          "metadata": {},
          "execution_count": 18
        }
      ]
    },
    {
      "cell_type": "markdown",
      "source": [
        "**Another Commonly Used Method:**\n",
        "\n",
        "**strip**\n",
        "\n",
        "This is used to remove blank spaces, tabs or newlines at the start and end of a string."
      ],
      "metadata": {
        "id": "b4iAlgnlOjHF"
      }
    },
    {
      "cell_type": "code",
      "source": [
        "string = '    He is at it again.   '\n",
        "string.strip()"
      ],
      "metadata": {
        "id": "JhDPg-_xNb87",
        "colab": {
          "base_uri": "https://localhost:8080/",
          "height": 35
        },
        "outputId": "303b8dfe-dd9c-4e69-fc4c-bf8bce8cc7ea"
      },
      "execution_count": 19,
      "outputs": [
        {
          "output_type": "execute_result",
          "data": {
            "text/plain": [
              "'He is at it again.'"
            ],
            "application/vnd.google.colaboratory.intrinsic+json": {
              "type": "string"
            }
          },
          "metadata": {},
          "execution_count": 19
        }
      ]
    },
    {
      "cell_type": "markdown",
      "source": [
        "**Exercise:**\n",
        "\n",
        "There is a string method called count that is similar to\n",
        "the function in the previous exercise. Read the documentation of this\n",
        "method at:\n",
        "https://docs.python.org/library/stdtypes.html#string-methods.\n",
        "\n",
        "Write an invocation that **counts the number of times the word 'apples' occurs\n",
        "in “I love apples very much”.** "
      ],
      "metadata": {
        "id": "PVzB7tKPPzAS"
      }
    },
    {
      "cell_type": "code",
      "source": [
        "char = \"I love apples very much - apples are the greatest!\"\n",
        "x = char.count('apples')\n",
        "print(x)"
      ],
      "metadata": {
        "id": "7jwthwYLWa67",
        "colab": {
          "base_uri": "https://localhost:8080/"
        },
        "outputId": "1e523798-6a2a-4a3c-bbff-1fd648cc3dee"
      },
      "execution_count": 20,
      "outputs": [
        {
          "output_type": "stream",
          "name": "stdout",
          "text": [
            "2\n"
          ]
        }
      ]
    },
    {
      "cell_type": "markdown",
      "source": [
        "**WHAT DOES THIS CODE DO?** Why is the answer different?"
      ],
      "metadata": {
        "id": "X43O6bOCYKzE"
      }
    },
    {
      "cell_type": "code",
      "source": [
        "char = \"I love apples very much - apples are the greatest!\"\n",
        "x = char.count('apples', 13, 40)\n",
        "print(x)"
      ],
      "metadata": {
        "id": "x7ZWGU1EX3-n"
      },
      "execution_count": null,
      "outputs": []
    },
    {
      "cell_type": "markdown",
      "source": [
        "### **Parsing Strings**\n",
        "\n",
        "When you want to find and extract sections of a string - e.g. finding the domains of numerous data strings containing email addresses.\n",
        "\n"
      ],
      "metadata": {
        "id": "rmfHgxyYyDDa"
      }
    },
    {
      "cell_type": "code",
      "source": [
        "data = 'From stephen.marquard@uct.ac.za Sat Jan 5 09:14:16 2008'\n",
        "atpos = data.find('@')       # this specifies the index one position after the \n",
        "print(atpos)                 # given parameter ('@')\n",
        "\n",
        "\n",
        "endpos = data.find(' ',atpos) # provides the index just before the next space, thus\n",
        "print(endpos)                 # at the end of the extraction required\n",
        "\n",
        "\n",
        "host = data[atpos+1:endpos]\n",
        "print(host)\n"
      ],
      "metadata": {
        "id": "WW64grZxZ0lY"
      },
      "execution_count": null,
      "outputs": []
    },
    {
      "cell_type": "markdown",
      "source": [
        "### **Format Operator** (%)\n",
        "\n",
        "**NB:**\n",
        "\n",
        "1. In **integers** the % = *modulus operator*\n",
        "\n",
        "2. In **strings** the % = the ***format operator*** (also called an ***interpolation operator***)\n",
        "\n",
        "\n",
        "\n"
      ],
      "metadata": {
        "id": "2eQ6hzz7Y0CB"
      }
    },
    {
      "cell_type": "code",
      "source": [
        "camels = 42\n",
        "horses = 2\n",
        "print(camels)\n",
        "'%d' % camels                               # 'd' stands for decimal AND removes the decimal\n",
        "'I have spotted %d camels.' % camels        # adding the the second operand \"% camels\" takes the value of the variable camels and add it to the text"
      ],
      "metadata": {
        "id": "pK7N4P1_ciaw"
      },
      "execution_count": null,
      "outputs": []
    },
    {
      "cell_type": "markdown",
      "source": [
        "**Question:**\n",
        "\n",
        "1. What will happen if  my ***camels variable = 42.5?***\n",
        "\n",
        "2. What will happen in the following:\n",
        "\n",
        "***'I have spotted %d camels.' % horses ***"
      ],
      "metadata": {
        "id": "HDnZQuGSeRbw"
      }
    },
    {
      "cell_type": "markdown",
      "source": [
        "**Important:**\n",
        "\n",
        "If you need to format MORE than one sequence in the string then the second argumet has to be a tuple.\n",
        "\n",
        "Note:\n",
        "\n",
        "**%d** = formatting an ***integer***\n",
        "\n",
        "**%g** = formatting a ***float-point***\n",
        "\n",
        "**%s** = formatting a ***string***"
      ],
      "metadata": {
        "id": "V-iU7ZOGe_9n"
      }
    },
    {
      "cell_type": "code",
      "source": [
        "'In %d years I have spotted %g %s.' % (3,0.1,'camels')      # (3,0.1,'camels') = a tuple    "
      ],
      "metadata": {
        "colab": {
          "base_uri": "https://localhost:8080/",
          "height": 35
        },
        "id": "1TDl_Saefpby",
        "outputId": "5ccb24b9-c9a6-4739-d891-f0808e11a67b"
      },
      "execution_count": null,
      "outputs": [
        {
          "output_type": "execute_result",
          "data": {
            "text/plain": [
              "'In 3 years I have spotted 0.1 camels.'"
            ],
            "application/vnd.google.colaboratory.intrinsic+json": {
              "type": "string"
            }
          },
          "metadata": {},
          "execution_count": 14
        }
      ]
    },
    {
      "cell_type": "markdown",
      "source": [
        "Allways ensure the number of elements in the tuple corresponds to the number (and the correct type) of format sequences in the string."
      ],
      "metadata": {
        "id": "S34uo3_yf-5u"
      }
    },
    {
      "cell_type": "markdown",
      "source": [
        "Using a Dictionary as an argument:\n",
        "\n",
        "The formats in the string must include a **parenthesised mapping key** into that **dictionary** inserted ***immediately after the '%' character***. The mapping key selects the value to be formatted from the mapping."
      ],
      "metadata": {
        "id": "77DGgx37i0vK"
      }
    },
    {
      "cell_type": "code",
      "source": [
        "print('%(language)s has %(number)03d quote types.' %      # 03 before the d spesifies there to be 3 characters (numbers)\n",
        "      {'language': \"Python\", \"number\": 2})"
      ],
      "metadata": {
        "colab": {
          "base_uri": "https://localhost:8080/"
        },
        "id": "yUMvtxk1iKA_",
        "outputId": "06559fb6-1f97-4823-ddab-cb03e70cef74"
      },
      "execution_count": null,
      "outputs": [
        {
          "output_type": "stream",
          "name": "stdout",
          "text": [
            "Python has 002 quote types.\n"
          ]
        }
      ]
    },
    {
      "cell_type": "markdown",
      "source": [
        "**Question:**\n",
        "\n",
        "What wil happen in each of the following when changing the ***%(number)03d*** to\n",
        "\n",
        "%(number)**05d**\n",
        "\n",
        "%(number)**d**"
      ],
      "metadata": {
        "id": "FUawmTdHjH5u"
      }
    },
    {
      "cell_type": "markdown",
      "source": [
        "**Question:**\n",
        "\n",
        "Explain the following errors that you get when running the code:"
      ],
      "metadata": {
        "id": "ZfxCiGq5gx9h"
      }
    },
    {
      "cell_type": "code",
      "source": [
        "'%d %d %d' % (1, 2)"
      ],
      "metadata": {
        "id": "stJaCPIoghoP"
      },
      "execution_count": null,
      "outputs": []
    },
    {
      "cell_type": "code",
      "source": [
        "'%d' % 'dollars'"
      ],
      "metadata": {
        "id": "ycmiBUL8gteD"
      },
      "execution_count": null,
      "outputs": []
    },
    {
      "cell_type": "markdown",
      "source": [
        "**More Information on this:**\n",
        "\n",
        "https://docs.python.org/library/stdtypes.html#printf-style-string-formatting."
      ],
      "metadata": {
        "id": "kI6ovCBShAcI"
      }
    }
  ]
}