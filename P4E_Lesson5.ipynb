{
  "nbformat": 4,
  "nbformat_minor": 0,
  "metadata": {
    "colab": {
      "name": "P4E_Lesson5.ipynb",
      "provenance": [],
      "collapsed_sections": [],
      "authorship_tag": "ABX9TyMJeZFZgIa6lHrYHJpIih7y",
      "include_colab_link": true
    },
    "kernelspec": {
      "name": "python3",
      "display_name": "Python 3"
    },
    "language_info": {
      "name": "python"
    }
  },
  "cells": [
    {
      "cell_type": "markdown",
      "metadata": {
        "id": "view-in-github",
        "colab_type": "text"
      },
      "source": [
        "<a href=\"https://colab.research.google.com/github/emilebosman39154/emilebosman39154/blob/main/P4E_Lesson5.ipynb\" target=\"_parent\"><img src=\"https://colab.research.google.com/assets/colab-badge.svg\" alt=\"Open In Colab\"/></a>"
      ]
    },
    {
      "cell_type": "markdown",
      "source": [
        "**Using TRY and EXCEPT in handling Exceptions**\n",
        "\n",
        "E.g. when incorrect input values are received"
      ],
      "metadata": {
        "id": "kuL6ctDUPhBN"
      }
    },
    {
      "cell_type": "code",
      "execution_count": null,
      "metadata": {
        "colab": {
          "base_uri": "https://localhost:8080/"
        },
        "id": "u3drL5K6MlZj",
        "outputId": "911ff393-c17a-4954-c60a-dc58cccc8e47"
      },
      "outputs": [
        {
          "output_type": "stream",
          "name": "stdout",
          "text": [
            "Enter Fahrenheit Temperature: 85\n",
            "29.444444444444443\n"
          ]
        }
      ],
      "source": [
        "inp = input('Enter Fahrenheit Temperature: ')\n",
        "fahr = float(inp)\n",
        "cel = (fahr - 32.0) * 5.0 / 9.0\n",
        "print(cel)"
      ]
    },
    {
      "cell_type": "markdown",
      "source": [
        "As long as the correct data type is received the results is fine.\n",
        "However, as soon as an invalid input is received the following exception occurs:\n",
        "\n",
        "e.g. **ValueError:**\n",
        "\n",
        "*ValueError: could not convert string to float: 'LTL'*"
      ],
      "metadata": {
        "id": "IWDaHCf9Peab"
      }
    },
    {
      "cell_type": "code",
      "source": [
        "inp = input('Enter Fahrenheit Temperature: ')\n",
        "fahr = float(inp)\n",
        "cel = (fahr - 32.0) * 5.0 / 9.0\n",
        "print(cel)\n",
        "\n"
      ],
      "metadata": {
        "colab": {
          "base_uri": "https://localhost:8080/",
          "height": 290
        },
        "id": "3HcTMqeJQiZJ",
        "outputId": "6008626a-ef02-4916-fe59-f0d57dc8ef22"
      },
      "execution_count": null,
      "outputs": [
        {
          "name": "stdout",
          "output_type": "stream",
          "text": [
            "Enter Fahrenheit Temperature: LTL\n"
          ]
        },
        {
          "output_type": "error",
          "ename": "ValueError",
          "evalue": "ignored",
          "traceback": [
            "\u001b[0;31m---------------------------------------------------------------------------\u001b[0m",
            "\u001b[0;31mValueError\u001b[0m                                Traceback (most recent call last)",
            "\u001b[0;32m<ipython-input-2-5346058daa8e>\u001b[0m in \u001b[0;36m<module>\u001b[0;34m()\u001b[0m\n\u001b[1;32m      1\u001b[0m \u001b[0minp\u001b[0m \u001b[0;34m=\u001b[0m \u001b[0minput\u001b[0m\u001b[0;34m(\u001b[0m\u001b[0;34m'Enter Fahrenheit Temperature: '\u001b[0m\u001b[0;34m)\u001b[0m\u001b[0;34m\u001b[0m\u001b[0;34m\u001b[0m\u001b[0m\n\u001b[0;32m----> 2\u001b[0;31m \u001b[0mfahr\u001b[0m \u001b[0;34m=\u001b[0m \u001b[0mfloat\u001b[0m\u001b[0;34m(\u001b[0m\u001b[0minp\u001b[0m\u001b[0;34m)\u001b[0m\u001b[0;34m\u001b[0m\u001b[0;34m\u001b[0m\u001b[0m\n\u001b[0m\u001b[1;32m      3\u001b[0m \u001b[0mcel\u001b[0m \u001b[0;34m=\u001b[0m \u001b[0;34m(\u001b[0m\u001b[0mfahr\u001b[0m \u001b[0;34m-\u001b[0m \u001b[0;36m32.0\u001b[0m\u001b[0;34m)\u001b[0m \u001b[0;34m*\u001b[0m \u001b[0;36m5.0\u001b[0m \u001b[0;34m/\u001b[0m \u001b[0;36m9.0\u001b[0m\u001b[0;34m\u001b[0m\u001b[0;34m\u001b[0m\u001b[0m\n\u001b[1;32m      4\u001b[0m \u001b[0mprint\u001b[0m\u001b[0;34m(\u001b[0m\u001b[0mcel\u001b[0m\u001b[0;34m)\u001b[0m\u001b[0;34m\u001b[0m\u001b[0;34m\u001b[0m\u001b[0m\n\u001b[1;32m      5\u001b[0m \u001b[0;34m\u001b[0m\u001b[0m\n",
            "\u001b[0;31mValueError\u001b[0m: could not convert string to float: 'LTL'"
          ]
        }
      ]
    },
    {
      "cell_type": "markdown",
      "source": [
        "TRY and EXCEPT\n",
        "\n",
        "If statements are expected to potentially get problematic input values then a range / single statement(s) (called the **Except Block**) can be added to address this.  Intercepting and error with the Try and Except statement is called \"catching an exception\". It will only execute when an error occurs:\n",
        "\n",
        "**Add to your code:**\n",
        "\n",
        "**Add:**\n",
        "  [code - remember indentation]\n",
        "**Except:**\n",
        "  [code - remember indentation]\n",
        "\n"
      ],
      "metadata": {
        "id": "qV_DYCE9RW3w"
      }
    },
    {
      "cell_type": "code",
      "source": [
        "inp = input('Enter Fahrenheit Temperature:')\n",
        "try:\n",
        "  fahr = float(inp)\n",
        "  cel = (fahr - 32.0) * 5.0 / 9.0\n",
        "  print(cel)\n",
        "except:\n",
        "  print('Please enter a number')  "
      ],
      "metadata": {
        "id": "fQ91GDkFYWuY"
      },
      "execution_count": null,
      "outputs": []
    },
    {
      "cell_type": "markdown",
      "source": [
        "**Short-circuit Evaluation of Logical Expressions**\n",
        "\n",
        "When the evaluation of a logical expression stops because the overall value is already known, it is called short-circuiting the\n",
        "evaluation.\n"
      ],
      "metadata": {
        "id": "f4hOlfOEf15M"
      }
    },
    {
      "cell_type": "code",
      "source": [
        ">>> x = 6\n",
        ">>> y = 2\n",
        ">>> x >= 2 and (x/y) > 2"
      ],
      "metadata": {
        "id": "QVUYKGrrkagO"
      },
      "execution_count": null,
      "outputs": []
    },
    {
      "cell_type": "code",
      "source": [
        ">>> x = 1\n",
        ">>> y = 0\n",
        ">>> x >= 2 and (x/y) > 2"
      ],
      "metadata": {
        "id": "2oZIhG4ukeFW"
      },
      "execution_count": null,
      "outputs": []
    },
    {
      "cell_type": "code",
      "source": [
        ">>> x = 6\n",
        ">>> y = 0\n",
        ">>> x >= 2 and (x/y) > 2"
      ],
      "metadata": {
        "id": "yYVN3nQukhNF"
      },
      "execution_count": null,
      "outputs": []
    },
    {
      "cell_type": "markdown",
      "source": [
        "To circumvent the possible errors beinng created by the division by 0, a **Guard Evalution** is introduced before the evaluation likely to cause the error (x/y):"
      ],
      "metadata": {
        "id": "TJDGmV3ukl2Y"
      }
    },
    {
      "cell_type": "code",
      "source": [
        ">>> x = 1\n",
        ">>> y = 0\n",
        ">>> x >= 2 and y != 0 and (x/y) > 2"
      ],
      "metadata": {
        "id": "Klx18nfglL_Q"
      },
      "execution_count": null,
      "outputs": []
    },
    {
      "cell_type": "code",
      "source": [
        ">>> x = 6\n",
        ">>> y = 0\n",
        ">>> x >= 2 and y != 0 and (x/y) > 2"
      ],
      "metadata": {
        "id": "P4-oeMK6lNxv"
      },
      "execution_count": null,
      "outputs": []
    },
    {
      "cell_type": "code",
      "source": [
        ">>> x = 6\n",
        ">>> y = 0\n",
        ">>> x >= 2 and (x/y) > 2 and y != 0"
      ],
      "metadata": {
        "id": "UtS5Q-SOlLpt"
      },
      "execution_count": null,
      "outputs": []
    }
  ]
}