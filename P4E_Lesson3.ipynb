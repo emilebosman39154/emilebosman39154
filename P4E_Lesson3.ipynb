{
  "nbformat": 4,
  "nbformat_minor": 0,
  "metadata": {
    "colab": {
      "name": "Copy of Untitled7.ipynb",
      "provenance": [],
      "collapsed_sections": [],
      "authorship_tag": "ABX9TyM3hG2R/Jucs9+2Qp8ABkG2",
      "include_colab_link": true
    },
    "kernelspec": {
      "name": "python3",
      "display_name": "Python 3"
    },
    "language_info": {
      "name": "python"
    }
  },
  "cells": [
    {
      "cell_type": "markdown",
      "metadata": {
        "id": "view-in-github",
        "colab_type": "text"
      },
      "source": [
        "<a href=\"https://colab.research.google.com/github/emilebosman39154/emilebosman39154/blob/main/P4E_Lesson3.ipynb\" target=\"_parent\"><img src=\"https://colab.research.google.com/assets/colab-badge.svg\" alt=\"Open In Colab\"/></a>"
      ]
    },
    {
      "cell_type": "code",
      "source": [
        ""
      ],
      "metadata": {
        "id": "rbTdvqD8lEKp"
      },
      "execution_count": null,
      "outputs": []
    },
    {
      "cell_type": "markdown",
      "source": [
        "# **Open Book Test 1**"
      ],
      "metadata": {
        "id": "ERhDeVs5lDUs"
      }
    },
    {
      "cell_type": "markdown",
      "source": [
        "1.1 How many reserved words are there?\n",
        "\n",
        "1.2 Name 10 reserved words:\n",
        "\n",
        "\n",
        "\n",
        "1.3 What is a reserved word?\n"
      ],
      "metadata": {
        "id": "RK8KxUernqGp"
      }
    },
    {
      "cell_type": "markdown",
      "source": [
        "2.1 What is the difference between a high-level programming language and a low-level programming language?\n",
        "\n",
        "2.2 Give two examples of each language?"
      ],
      "metadata": {
        "id": "Wsb1ZlC-LQzl"
      }
    },
    {
      "cell_type": "markdown",
      "source": [
        "3.1 What do we call the Python file that contains all the instructions (code)?\n",
        "\n",
        "3.2 Give two examples of the file extension (e.g. *.docx) of these file types?\n",
        "\n",
        "\n",
        "\n"
      ],
      "metadata": {
        "id": "0PyCpO6yL4-f"
      }
    },
    {
      "cell_type": "markdown",
      "source": [
        "4.1 Name four (4) programming patterns that you learned so far? Describe what they do?\n",
        "\n"
      ],
      "metadata": {
        "id": "lnrJMstMOASm"
      }
    },
    {
      "cell_type": "markdown",
      "source": [
        "5.1 What the three (3) type of errors that you learned about thus far?\n",
        "\n",
        "5.2 Describe what they do in your own words."
      ],
      "metadata": {
        "id": "jEyu2y7KODRk"
      }
    },
    {
      "cell_type": "markdown",
      "source": [
        "# **Lesson 3 (Chapter 2)**"
      ],
      "metadata": {
        "id": "xTpQhIufONqD"
      }
    },
    {
      "cell_type": "markdown",
      "source": [
        "1. **Statements**\n",
        "\n",
        "This is a unit of code.\n",
        "\n",
        "Two types of statements:\n",
        "\n",
        "1.1 Assigned Statement\n",
        "\n",
        "x = 5\n",
        "\n",
        "Note: an assigned statement produces no output\n",
        "\n",
        "1.2 Expression Statement\n",
        "\n",
        "x = x + 1\n",
        "\n",
        "Note: an expression state produces an output\n",
        "\n"
      ],
      "metadata": {
        "id": "qXd9mh0VOazC"
      }
    },
    {
      "cell_type": "code",
      "source": [
        "x = 5\n",
        "x = x+2\n"
      ],
      "metadata": {
        "id": "cnLvyGurP8Je"
      },
      "execution_count": 7,
      "outputs": []
    },
    {
      "cell_type": "code",
      "source": [
        "x = x + 2"
      ],
      "metadata": {
        "id": "bRE4WNU1P972"
      },
      "execution_count": 6,
      "outputs": []
    },
    {
      "cell_type": "markdown",
      "source": [
        "2. **Expressions**\n",
        "\n",
        "It includes and combines: values, variables and operators.\n",
        "\n",
        "What are the following:\n",
        "\n",
        "n - 25\n",
        "\n",
        "b\n",
        "\n",
        "2312\n",
        "\n",
        "q % 2\n",
        "\n",
        "qw_z\n"
      ],
      "metadata": {
        "id": "d9dIDs6bQBwz"
      }
    },
    {
      "cell_type": "markdown",
      "source": [
        "3. **Operations**\n",
        "\n",
        "What is an Operator and and Operand\n",
        "\n",
        "Operator: Operators in Python are used for operations between two **values** or **variables**\n",
        "\n"
      ],
      "metadata": {
        "id": "f9oQWSRdRDLe"
      }
    },
    {
      "cell_type": "markdown",
      "source": [
        "**Type Operators:**\n",
        "\n",
        "7 Types (we only work now with Arithmetic Operators):\n",
        "\n",
        "1. Arithmetic operators\n",
        "2. Assignment operators \n",
        "3. Comparison operators\n",
        "4. Logical operators\n",
        "5. Membership operators\n",
        "6. Identity operators\n",
        "7. Bitwise operators\n"
      ],
      "metadata": {
        "id": "TrnUbXRDWu8S"
      }
    },
    {
      "cell_type": "markdown",
      "source": [
        "**Arithmetic Operators:**"
      ],
      "metadata": {
        "id": "hB_zOHCmVWCP"
      }
    },
    {
      "cell_type": "code",
      "source": [
        "x = 10\n",
        "y = 15\n",
        "#addition\n",
        "a = x + y\n",
        "print (a)\n",
        "#subtraction\n",
        "b = x - y\n",
        "print (b)\n",
        "#multiplication\n",
        "c = x * y\n",
        "print (c)\n",
        "#division\n",
        "d = x / y\n",
        "print (d)\n",
        "#floor division\n",
        "e = x // y\n",
        "print (e)\n",
        "#modulus\n",
        "f = x % y\n",
        "print (f)\n",
        "#exponentiation\n",
        "g = x ** y\n",
        "print (g)\n"
      ],
      "metadata": {
        "id": "51DFJjI5VYj_",
        "colab": {
          "base_uri": "https://localhost:8080/"
        },
        "outputId": "103db818-b6a6-4aa8-d4a0-2865b32e75b9"
      },
      "execution_count": 8,
      "outputs": [
        {
          "output_type": "stream",
          "name": "stdout",
          "text": [
            "25\n",
            "-5\n",
            "150\n",
            "0.6666666666666666\n",
            "0\n",
            "10\n",
            "1000000000000000\n"
          ]
        }
      ]
    },
    {
      "cell_type": "markdown",
      "source": [
        "**Order of Operations**\n",
        "\n",
        "P (parentheses)\n",
        "\n",
        "E (Exponentiation) \n",
        "\n",
        "M (Multiplication)\n",
        "\n",
        "D (Division)\n",
        "\n",
        "A (Add)\n",
        "\n",
        "S (Subtract)"
      ],
      "metadata": {
        "id": "MIsc3HYDWlVa"
      }
    },
    {
      "cell_type": "markdown",
      "source": [
        "Exponentiation:"
      ],
      "metadata": {
        "id": "rUyTtACSSHp8"
      }
    },
    {
      "cell_type": "code",
      "source": [
        "10**2-50"
      ],
      "metadata": {
        "id": "AK9bFBJBR6ez",
        "colab": {
          "base_uri": "https://localhost:8080/"
        },
        "outputId": "8df7e5da-f4be-4bc8-90f7-4a6e9da65bec"
      },
      "execution_count": 14,
      "outputs": [
        {
          "output_type": "execute_result",
          "data": {
            "text/plain": [
              "50"
            ]
          },
          "metadata": {},
          "execution_count": 14
        }
      ]
    },
    {
      "cell_type": "code",
      "source": [
        "5*2**3"
      ],
      "metadata": {
        "id": "NyZW4wfDSAw-",
        "colab": {
          "base_uri": "https://localhost:8080/"
        },
        "outputId": "2c9850a3-2276-4318-84f2-75e1deb73015"
      },
      "execution_count": 16,
      "outputs": [
        {
          "output_type": "execute_result",
          "data": {
            "text/plain": [
              "40"
            ]
          },
          "metadata": {},
          "execution_count": 16
        }
      ]
    },
    {
      "cell_type": "markdown",
      "source": [
        "Combined:"
      ],
      "metadata": {
        "id": "onUSqXGPSaNZ"
      }
    },
    {
      "cell_type": "code",
      "source": [
        "x=(12**3-5+6)*(15/3)\n",
        "print (x)"
      ],
      "metadata": {
        "id": "-Fbf5AW9SZWT",
        "colab": {
          "base_uri": "https://localhost:8080/"
        },
        "outputId": "b4409e48-505b-4b98-9d62-4645e9bce132"
      },
      "execution_count": 17,
      "outputs": [
        {
          "output_type": "stream",
          "name": "stdout",
          "text": [
            "8645.0\n"
          ]
        }
      ]
    },
    {
      "cell_type": "markdown",
      "source": [
        "**Modulus Operator** (%) - provides the remainder\n",
        "\n",
        "**Division** (/) - (output: float) \n",
        "\n",
        "**Floor Division** (//) - (output: floor)\n"
      ],
      "metadata": {
        "id": "N-dPEDt1TapI"
      }
    },
    {
      "cell_type": "code",
      "source": [
        "7%2"
      ],
      "metadata": {
        "id": "A-iBn-s1XoyJ",
        "colab": {
          "base_uri": "https://localhost:8080/"
        },
        "outputId": "65b290f2-15f3-487f-dca9-e5bb3ef81bae"
      },
      "execution_count": 18,
      "outputs": [
        {
          "output_type": "execute_result",
          "data": {
            "text/plain": [
              "1"
            ]
          },
          "metadata": {},
          "execution_count": 18
        }
      ]
    },
    {
      "cell_type": "code",
      "source": [
        "7/2"
      ],
      "metadata": {
        "id": "OtHGcQfSXgMb",
        "colab": {
          "base_uri": "https://localhost:8080/"
        },
        "outputId": "f713bc0e-03e4-4b53-89d3-83a33ecebec7"
      },
      "execution_count": 19,
      "outputs": [
        {
          "output_type": "execute_result",
          "data": {
            "text/plain": [
              "3.5"
            ]
          },
          "metadata": {},
          "execution_count": 19
        }
      ]
    },
    {
      "cell_type": "code",
      "source": [
        "7//2"
      ],
      "metadata": {
        "id": "oSsNjficXiRx",
        "colab": {
          "base_uri": "https://localhost:8080/"
        },
        "outputId": "356a986f-4de0-47e2-fbfc-fc3d63ce0570"
      },
      "execution_count": 20,
      "outputs": [
        {
          "output_type": "execute_result",
          "data": {
            "text/plain": [
              "3"
            ]
          },
          "metadata": {},
          "execution_count": 20
        }
      ]
    },
    {
      "cell_type": "markdown",
      "source": [
        "**String** **Operations**"
      ],
      "metadata": {
        "id": "4zY4F_kWgX87"
      }
    },
    {
      "cell_type": "code",
      "source": [
        "first = 10\n",
        "second = 15\n",
        "print (first+second)"
      ],
      "metadata": {
        "colab": {
          "base_uri": "https://localhost:8080/"
        },
        "id": "cR7gHRsxgeRn",
        "outputId": "5f47fdf8-f3d3-4fc7-ee42-b887dc557302"
      },
      "execution_count": 21,
      "outputs": [
        {
          "output_type": "stream",
          "name": "stdout",
          "text": [
            "25\n"
          ]
        }
      ]
    },
    {
      "cell_type": "code",
      "source": [
        "first = '100'\n",
        "second = '150'\n",
        "print(first + second)\n"
      ],
      "metadata": {
        "colab": {
          "base_uri": "https://localhost:8080/"
        },
        "id": "VE2nhSGQgqwO",
        "outputId": "bc943a77-2db4-4eaf-d2bc-119d367d6e8c"
      },
      "execution_count": 22,
      "outputs": [
        {
          "output_type": "stream",
          "name": "stdout",
          "text": [
            "100150\n"
          ]
        }
      ]
    },
    {
      "cell_type": "code",
      "source": [
        "first = \"Test\"\n",
        "second = 3\n",
        "print(first * second)"
      ],
      "metadata": {
        "colab": {
          "base_uri": "https://localhost:8080/"
        },
        "id": "1RAFiuSyg2Ri",
        "outputId": "71ade67f-ebe6-4159-af51-53392e7ad417"
      },
      "execution_count": 23,
      "outputs": [
        {
          "output_type": "stream",
          "name": "stdout",
          "text": [
            "TestTestTest\n"
          ]
        }
      ]
    },
    {
      "cell_type": "markdown",
      "source": [
        "## **4. Input**"
      ],
      "metadata": {
        "id": "aOy6qxJUg_p1"
      }
    },
    {
      "cell_type": "code",
      "source": [
        "inp = input()\n",
        "print(inp)"
      ],
      "metadata": {
        "colab": {
          "base_uri": "https://localhost:8080/"
        },
        "id": "QEyhhwx1hGtV",
        "outputId": "030939c3-d81b-47df-fd8d-ca68005b0204"
      },
      "execution_count": 24,
      "outputs": [
        {
          "output_type": "stream",
          "name": "stdout",
          "text": [
            "Python Class 16:00\n",
            "Python Class 16:00\n"
          ]
        }
      ]
    },
    {
      "cell_type": "code",
      "source": [
        "name = input('What is your name?\\n') #\\n = new line\n",
        "print(name)\n"
      ],
      "metadata": {
        "colab": {
          "base_uri": "https://localhost:8080/"
        },
        "id": "wUoLoGPHhZmE",
        "outputId": "d2558b9a-3481-4b9b-a23e-e2a5f53e40ca"
      },
      "execution_count": 25,
      "outputs": [
        {
          "output_type": "stream",
          "name": "stdout",
          "text": [
            "What is your name?\n",
            "Emile Bosman\n",
            "Emile Bosman\n"
          ]
        }
      ]
    },
    {
      "cell_type": "code",
      "source": [
        "prompt = 'What ... is the airspeed velocity of an unladen swallow?\\n'\n",
        "speed = input(prompt)\n",
        "\n",
        "int(speed)\n",
        "int(speed) + 10"
      ],
      "metadata": {
        "colab": {
          "base_uri": "https://localhost:8080/"
        },
        "id": "poyCGsrrhrn5",
        "outputId": "c3bc57f5-e2ce-4e86-9303-0808efec7d2d"
      },
      "execution_count": 26,
      "outputs": [
        {
          "name": "stdout",
          "output_type": "stream",
          "text": [
            "What ... is the airspeed velocity of an unladen swallow?\n",
            "15\n"
          ]
        },
        {
          "output_type": "execute_result",
          "data": {
            "text/plain": [
              "25"
            ]
          },
          "metadata": {},
          "execution_count": 26
        }
      ]
    },
    {
      "cell_type": "markdown",
      "source": [
        "**Exercise:**\n",
        "\n",
        "Write a program to prompt the user for hours and rate per hour to compute gross income.\n",
        "\n",
        "E.g.\n",
        "Must show the following:\n",
        "Enter Hours:\n",
        "Enter Rate:\n",
        "Pay: "
      ],
      "metadata": {
        "id": "YB27u6phiXlh"
      }
    },
    {
      "cell_type": "code",
      "source": [
        ""
      ],
      "metadata": {
        "id": "WaXK1_WPitZr"
      },
      "execution_count": null,
      "outputs": []
    }
  ]
}