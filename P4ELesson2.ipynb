{
  "nbformat": 4,
  "nbformat_minor": 0,
  "metadata": {
    "colab": {
      "name": "Untitled7.ipynb",
      "provenance": [],
      "authorship_tag": "ABX9TyNWSlBCRDvjrh/5vmTrgeGR",
      "include_colab_link": true
    },
    "kernelspec": {
      "name": "python3",
      "display_name": "Python 3"
    },
    "language_info": {
      "name": "python"
    }
  },
  "cells": [
    {
      "cell_type": "markdown",
      "metadata": {
        "id": "view-in-github",
        "colab_type": "text"
      },
      "source": [
        "<a href=\"https://colab.research.google.com/github/emilebosman39154/emilebosman39154/blob/main/P4ELesson2.ipynb\" target=\"_parent\"><img src=\"https://colab.research.google.com/assets/colab-badge.svg\" alt=\"Open In Colab\"/></a>"
      ]
    },
    {
      "cell_type": "code",
      "source": [
        ""
      ],
      "metadata": {
        "id": "rbTdvqD8lEKp"
      },
      "execution_count": null,
      "outputs": []
    },
    {
      "cell_type": "markdown",
      "source": [
        "# **Data Types in Python**"
      ],
      "metadata": {
        "id": "ERhDeVs5lDUs"
      }
    },
    {
      "cell_type": "markdown",
      "source": [
        "**Text Type:**\tstr\n",
        "\n",
        "**Numeric Types:**\tint, float, complex\n",
        "\n",
        "Sequence Types:\tlist, tuple, range\n",
        "\n",
        "Mapping Type:\tdict\n",
        "\n",
        "Set Types:\tset, frozenset\n",
        "\n",
        "Boolean Type:\tbool\n",
        "\n",
        "Binary Types:\tbytes, bytearray, memoryview"
      ],
      "metadata": {
        "id": "RK8KxUernqGp"
      }
    },
    {
      "cell_type": "markdown",
      "source": [
        "**1. String**"
      ],
      "metadata": {
        "id": "4j3rgckdk3Iy"
      }
    },
    {
      "cell_type": "markdown",
      "source": [
        "A string is a sequence of characters.\n",
        "\n",
        "A character is simply a symbol. For example, the English language has 26 characters.\n",
        "\n",
        "Computers do not deal with characters, they deal with numbers (binary). Even though you may see characters on your screen, internally it is stored and manipulated as a combination of 0s and 1s.\n",
        "\n",
        "This conversion of character to a number is called encoding, and the reverse process is decoding. ASCII and Unicode are some of the popular encodings used.\n",
        "\n",
        "In Python, a string is a sequence of Unicode characters. Unicode was introduced to include every character in all languages and bring uniformity in encoding. "
      ],
      "metadata": {
        "id": "dMi08zlhmG0B"
      }
    },
    {
      "cell_type": "markdown",
      "source": [
        "**Looping through text**"
      ],
      "metadata": {
        "id": "OTrm0SZxmeEs"
      }
    },
    {
      "cell_type": "code",
      "source": [
        "for x in \"banana\":\n",
        "  print(x)"
      ],
      "metadata": {
        "id": "ekGMGi5kl0RX"
      },
      "execution_count": null,
      "outputs": []
    },
    {
      "cell_type": "markdown",
      "source": [
        "**Getting string length**"
      ],
      "metadata": {
        "id": "iFUCajzhmtyI"
      }
    },
    {
      "cell_type": "code",
      "source": [
        "a = \"Hello, World!\"\n",
        "print(len(a))"
      ],
      "metadata": {
        "id": "dksW5eKDmye5"
      },
      "execution_count": null,
      "outputs": []
    },
    {
      "cell_type": "markdown",
      "source": [
        "**Check values in string**"
      ],
      "metadata": {
        "id": "Q0QWosO-m9nH"
      }
    },
    {
      "cell_type": "code",
      "source": [
        "txt = \"The best things in life are free!\"\n",
        "print(\"free\" in txt)"
      ],
      "metadata": {
        "id": "pp7HsPMmnCyE"
      },
      "execution_count": null,
      "outputs": []
    },
    {
      "cell_type": "code",
      "source": [
        "txt = \"The best things in life are free!\"\n",
        "if \"free\" in txt:\n",
        "  print(\"Yes, 'free' is present.\")"
      ],
      "metadata": {
        "id": "hfAMZX-XnLTG"
      },
      "execution_count": null,
      "outputs": []
    },
    {
      "cell_type": "code",
      "source": [
        "txt = \"The best things in life are free!\"\n",
        "print(\"expensive\" not in txt)"
      ],
      "metadata": {
        "id": "zLDWzzO3nT66"
      },
      "execution_count": null,
      "outputs": []
    },
    {
      "cell_type": "code",
      "source": [
        "txt = \"The best things in life are free!\"\n",
        "if \"expensive\" not in txt:\n",
        "  print(\"No, 'expensive' is NOT present.\")"
      ],
      "metadata": {
        "id": "VwSB6vpznYTF"
      },
      "execution_count": null,
      "outputs": []
    },
    {
      "cell_type": "markdown",
      "source": [
        "**2. Integers**"
      ],
      "metadata": {
        "id": "vodz9AcolPXe"
      }
    },
    {
      "cell_type": "markdown",
      "source": [
        ""
      ],
      "metadata": {
        "id": "B0Fq9KiDn1Gh"
      }
    },
    {
      "cell_type": "code",
      "source": [
        "x = 5\n",
        "print(type(x))"
      ],
      "metadata": {
        "id": "lBG0rT1RoO0y"
      },
      "execution_count": null,
      "outputs": []
    },
    {
      "cell_type": "markdown",
      "source": [
        "**3. Floating Point**"
      ],
      "metadata": {
        "id": "PmRka3Gulb6l"
      }
    },
    {
      "cell_type": "markdown",
      "source": [
        "**4. Complex** **Numbers** "
      ],
      "metadata": {
        "id": "SAMk4-oyk5lA"
      }
    },
    {
      "cell_type": "code",
      "source": [
        "a = 1 + 2j\n",
        "print(a)\n",
        "\n",
        "b = 3 - 4j\n",
        "print(b)\n",
        "\n",
        "a+b\n"
      ],
      "metadata": {
        "id": "tt3gVk1QjPoj"
      },
      "execution_count": null,
      "outputs": []
    },
    {
      "cell_type": "markdown",
      "source": [
        "# **Variables**"
      ],
      "metadata": {
        "id": "je6BE3i-oi6K"
      }
    },
    {
      "cell_type": "markdown",
      "source": [
        ""
      ],
      "metadata": {
        "id": "Z3hYzvanonnt"
      }
    },
    {
      "cell_type": "markdown",
      "source": [
        "**Exercise:**\n",
        "Create a variable named carname and assign the value Volvo to it"
      ],
      "metadata": {
        "id": "Bt1CrdWLopSf"
      }
    },
    {
      "cell_type": "code",
      "source": [
        "\n",
        "carname = \"Volvo\""
      ],
      "metadata": {
        "id": "hp1j-b5Aomqh"
      },
      "execution_count": 11,
      "outputs": []
    },
    {
      "cell_type": "markdown",
      "source": [
        "**Exercise:** Create a variable named x and assign the value 50 to it."
      ],
      "metadata": {
        "id": "bVcAhLoVo35F"
      }
    },
    {
      "cell_type": "code",
      "source": [
        "\n",
        "x  = 50\n"
      ],
      "metadata": {
        "id": "DowoVbXmo7ZB"
      },
      "execution_count": 12,
      "outputs": []
    },
    {
      "cell_type": "markdown",
      "source": [
        "**Exercise:** Display the sum of 5 + 10, using two variables: x and y."
      ],
      "metadata": {
        "id": "pGup6zKppPIg"
      }
    },
    {
      "cell_type": "code",
      "source": [
        "\n",
        "x  = 5\n",
        "\n",
        "y = 10\n",
        "print(x+y)"
      ],
      "metadata": {
        "id": "eqQ9FZbmpVyS"
      },
      "execution_count": null,
      "outputs": []
    },
    {
      "cell_type": "markdown",
      "source": [
        "**Exercise:** Create a variable called z, assign x + y to it, and display the result."
      ],
      "metadata": {
        "id": "yqxpGlrppdMf"
      }
    },
    {
      "cell_type": "code",
      "source": [
        "x = 5\n",
        "y = 10\n",
        "z = x + y\n",
        "print(z)"
      ],
      "metadata": {
        "id": "_Km_nZvIpj-z"
      },
      "execution_count": null,
      "outputs": []
    },
    {
      "cell_type": "markdown",
      "source": [
        "**Exercise:** Remove the illegal characters in the variable name: ***2my-first_name = \"John\"***"
      ],
      "metadata": {
        "id": "2sNNpdvbprJ7"
      }
    },
    {
      "cell_type": "code",
      "source": [
        "myfirst_name = \"John\""
      ],
      "metadata": {
        "id": "3hxV_-mcp5B6"
      },
      "execution_count": null,
      "outputs": []
    },
    {
      "cell_type": "markdown",
      "source": [
        "**Exercise:** Insert the correct syntax to assign the same value to all three variables in one code line."
      ],
      "metadata": {
        "id": "6OTZUv_PqBZy"
      }
    },
    {
      "cell_type": "code",
      "source": [
        "x = y = z = \"Orange\""
      ],
      "metadata": {
        "id": "qmTfBqJ2p0Gk"
      },
      "execution_count": 15,
      "outputs": []
    },
    {
      "cell_type": "markdown",
      "source": [
        "**Exercise:** Insert the correct syntax to assign the same value to all three variables in one code line."
      ],
      "metadata": {
        "id": "zsQfuDqHqU7y"
      }
    },
    {
      "cell_type": "code",
      "source": [
        ""
      ],
      "metadata": {
        "id": "aYLMxOV7qZXs"
      },
      "execution_count": null,
      "outputs": []
    },
    {
      "cell_type": "markdown",
      "source": [
        ""
      ],
      "metadata": {
        "id": "NtCdMmUOqYln"
      }
    }
  ]
}