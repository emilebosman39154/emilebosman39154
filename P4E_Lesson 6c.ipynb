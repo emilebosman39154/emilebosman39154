{
  "nbformat": 4,
  "nbformat_minor": 0,
  "metadata": {
    "colab": {
      "name": "Untitled0.ipynb",
      "provenance": [],
      "authorship_tag": "ABX9TyMCfPGXy81OIbxj7ID+/L2l",
      "include_colab_link": true
    },
    "kernelspec": {
      "name": "python3",
      "display_name": "Python 3"
    },
    "language_info": {
      "name": "python"
    }
  },
  "cells": [
    {
      "cell_type": "markdown",
      "metadata": {
        "id": "view-in-github",
        "colab_type": "text"
      },
      "source": [
        "<a href=\"https://colab.research.google.com/github/emilebosman39154/emilebosman39154/blob/main/P4E_Lesson%206c.ipynb\" target=\"_parent\"><img src=\"https://colab.research.google.com/assets/colab-badge.svg\" alt=\"Open In Colab\"/></a>"
      ]
    },
    {
      "cell_type": "markdown",
      "source": [
        "# **LESSON 6c - FUNCTIONS**\n",
        "\n",
        "Content of this Lesson\n",
        "\n",
        "1. Random Numbers\n",
        "\n",
        "2. Adding New Functions\n",
        "\n",
        "3. Definitions  Uses\n",
        "\n",
        "4. Flow of Execution\n",
        "\n",
        "5. Parameters & Arguments\n",
        "\n",
        "6. Fruitful Functions & Void Functions\n",
        "\n",
        "\n",
        "\n",
        "Exercise 4:\n",
        "\n",
        "Exercise 5:\n",
        "\n",
        "Exercise 6:\n"
      ],
      "metadata": {
        "id": "LgptSJmr5ozs"
      }
    },
    {
      "cell_type": "markdown",
      "source": [
        "## Why Functions?\n",
        "\n"
      ],
      "metadata": {
        "id": "1_UufExI6-0z"
      }
    },
    {
      "cell_type": "code",
      "execution_count": null,
      "metadata": {
        "id": "OdNKNfkQ5nmA"
      },
      "outputs": [],
      "source": [
        ""
      ]
    }
  ]
}