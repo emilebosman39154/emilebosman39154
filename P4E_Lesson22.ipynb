{
  "nbformat": 4,
  "nbformat_minor": 0,
  "metadata": {
    "colab": {
      "provenance": [],
      "include_colab_link": true
    },
    "kernelspec": {
      "name": "python3",
      "display_name": "Python 3"
    },
    "language_info": {
      "name": "python"
    }
  },
  "cells": [
    {
      "cell_type": "markdown",
      "metadata": {
        "id": "view-in-github",
        "colab_type": "text"
      },
      "source": [
        "<a href=\"https://colab.research.google.com/github/emilebosman39154/emilebosman39154/blob/main/P4E_Lesson22.ipynb\" target=\"_parent\"><img src=\"https://colab.research.google.com/assets/colab-badge.svg\" alt=\"Open In Colab\"/></a>"
      ]
    },
    {
      "cell_type": "markdown",
      "source": [
        "# **Lesson 22 : Chapter 10 (Tuples)**\n",
        "\n"
      ],
      "metadata": {
        "id": "5kD5T4xArapf"
      }
    },
    {
      "cell_type": "markdown",
      "source": [
        "# **Quick Test**"
      ],
      "metadata": {
        "id": "nqAkyfMtIrv1"
      }
    },
    {
      "cell_type": "markdown",
      "source": [
        "1. What is the biggest difference between a list vs a tuple?"
      ],
      "metadata": {
        "id": "7RVjhoAWDKn8"
      }
    },
    {
      "cell_type": "markdown",
      "source": [
        "2. Syntax Differences\n",
        "\n",
        "\n",
        "2.1 Write a syntax for a list and for a tuple and allocate it to a variable of your choice.  Hereby illustrated the syntax difference between a list and a tuple.\n",
        "\n",
        "2.2 Show with a piece of code why/how a tuple is immutable."
      ],
      "metadata": {
        "id": "kOjpTrtsx2QY"
      }
    },
    {
      "cell_type": "markdown",
      "source": [
        "3. In the following methods that can be used in lists, only 2 can be used in tuples:\n",
        "\n",
        "append, count, extend, insert, index, pop, remove, reverse, sort \n",
        "\n",
        "3.1 Which are the two?\n",
        "\n",
        "3.2 Why can they be used in tuples but not the other?"
      ],
      "metadata": {
        "id": "VnqCZ5Jk87KF"
      }
    },
    {
      "cell_type": "markdown",
      "source": [
        "# **Quick Test Answers**"
      ],
      "metadata": {
        "id": "TsTWYEfT9HSX"
      }
    },
    {
      "cell_type": "markdown",
      "source": [
        "1. List is mutable while a tuple is immutable (cannot be changed)"
      ],
      "metadata": {
        "id": "Ui5fzFfSxqnm"
      }
    },
    {
      "cell_type": "markdown",
      "source": [
        "2. List use [ ] and tuple use ( )\n",
        "\n",
        "e.g. **A List can be changed**"
      ],
      "metadata": {
        "id": "jcp4175r4E3U"
      }
    },
    {
      "cell_type": "code",
      "source": [
        "x = [1,2,3,4]\n",
        "x[3] = \"?\"\n",
        "print(x)"
      ],
      "metadata": {
        "id": "e1MY9MU34LFO",
        "colab": {
          "base_uri": "https://localhost:8080/"
        },
        "outputId": "17dd614b-daf2-44e4-a7a9-5e692cee6812"
      },
      "execution_count": null,
      "outputs": [
        {
          "output_type": "stream",
          "name": "stdout",
          "text": [
            "[1, 2, 3, '?']\n"
          ]
        }
      ]
    },
    {
      "cell_type": "markdown",
      "source": [
        "**2.2 A String & Tuple cannot**"
      ],
      "metadata": {
        "id": "P2P2rBEw7uZ6"
      }
    },
    {
      "cell_type": "code",
      "source": [
        "# String Immutability\n",
        "y = 'ABC'\n",
        "y[2] = 'D'"
      ],
      "metadata": {
        "id": "9GKUPztR71UE",
        "colab": {
          "base_uri": "https://localhost:8080/",
          "height": 200
        },
        "outputId": "c9bc85b2-b036-470d-de0b-03d882cfc4a8"
      },
      "execution_count": null,
      "outputs": [
        {
          "output_type": "error",
          "ename": "TypeError",
          "evalue": "ignored",
          "traceback": [
            "\u001b[0;31m---------------------------------------------------------------------------\u001b[0m",
            "\u001b[0;31mTypeError\u001b[0m                                 Traceback (most recent call last)",
            "\u001b[0;32m<ipython-input-3-f03aa5f40a11>\u001b[0m in \u001b[0;36m<module>\u001b[0;34m\u001b[0m\n\u001b[1;32m      1\u001b[0m \u001b[0;31m# String Immutability\u001b[0m\u001b[0;34m\u001b[0m\u001b[0;34m\u001b[0m\u001b[0;34m\u001b[0m\u001b[0m\n\u001b[1;32m      2\u001b[0m \u001b[0my\u001b[0m \u001b[0;34m=\u001b[0m \u001b[0;34m'ABC'\u001b[0m\u001b[0;34m\u001b[0m\u001b[0;34m\u001b[0m\u001b[0m\n\u001b[0;32m----> 3\u001b[0;31m \u001b[0my\u001b[0m\u001b[0;34m[\u001b[0m\u001b[0;36m2\u001b[0m\u001b[0;34m]\u001b[0m \u001b[0;34m=\u001b[0m \u001b[0;34m'D'\u001b[0m\u001b[0;34m\u001b[0m\u001b[0;34m\u001b[0m\u001b[0m\n\u001b[0m",
            "\u001b[0;31mTypeError\u001b[0m: 'str' object does not support item assignment"
          ]
        }
      ]
    },
    {
      "cell_type": "code",
      "source": [
        "# Tuple Immutability\n",
        "z = (1,2,3,4,5,6)\n",
        "z[5] = \"7\""
      ],
      "metadata": {
        "id": "L4wzU6vZ7_PO",
        "colab": {
          "base_uri": "https://localhost:8080/",
          "height": 200
        },
        "outputId": "dc456ccc-0731-465b-82b2-e3c960e88029"
      },
      "execution_count": null,
      "outputs": [
        {
          "output_type": "error",
          "ename": "TypeError",
          "evalue": "ignored",
          "traceback": [
            "\u001b[0;31m---------------------------------------------------------------------------\u001b[0m",
            "\u001b[0;31mTypeError\u001b[0m                                 Traceback (most recent call last)",
            "\u001b[0;32m<ipython-input-2-d35e4cc3b792>\u001b[0m in \u001b[0;36m<module>\u001b[0;34m\u001b[0m\n\u001b[1;32m      1\u001b[0m \u001b[0;31m# Tuple Immutability\u001b[0m\u001b[0;34m\u001b[0m\u001b[0;34m\u001b[0m\u001b[0;34m\u001b[0m\u001b[0m\n\u001b[1;32m      2\u001b[0m \u001b[0mz\u001b[0m \u001b[0;34m=\u001b[0m \u001b[0;34m(\u001b[0m\u001b[0;36m1\u001b[0m\u001b[0;34m,\u001b[0m\u001b[0;36m2\u001b[0m\u001b[0;34m,\u001b[0m\u001b[0;36m3\u001b[0m\u001b[0;34m,\u001b[0m\u001b[0;36m4\u001b[0m\u001b[0;34m,\u001b[0m\u001b[0;36m5\u001b[0m\u001b[0;34m,\u001b[0m\u001b[0;36m6\u001b[0m\u001b[0;34m)\u001b[0m\u001b[0;34m\u001b[0m\u001b[0;34m\u001b[0m\u001b[0m\n\u001b[0;32m----> 3\u001b[0;31m \u001b[0mz\u001b[0m\u001b[0;34m[\u001b[0m\u001b[0;36m5\u001b[0m\u001b[0;34m]\u001b[0m \u001b[0;34m=\u001b[0m \u001b[0;34m\"7\"\u001b[0m\u001b[0;34m\u001b[0m\u001b[0;34m\u001b[0m\u001b[0m\n\u001b[0m",
            "\u001b[0;31mTypeError\u001b[0m: 'tuple' object does not support item assignment"
          ]
        }
      ]
    },
    {
      "cell_type": "markdown",
      "source": [
        "**3. Allowed methods (from List in Tuples)**\n",
        "\n",
        "3.1 count & index\n",
        "\n",
        "3.2 All the other methods are modifying the list (which is not allowed in tuples)"
      ],
      "metadata": {
        "id": "mPrLcM_X9PDw"
      }
    },
    {
      "cell_type": "markdown",
      "source": [
        "**1. More on Tuples**\n",
        "\n",
        "**1. NOT TO BE CONFUSED**\n",
        "\n",
        "We write variables on the left = followed by values / elements on the right (most of the time; and a good practice)\n",
        "\n",
        "However, with Tuples you can switch this around.  Why? well have a look:"
      ],
      "metadata": {
        "id": "35iR5iPexHDC"
      }
    },
    {
      "cell_type": "code",
      "source": [
        "(x, y) = (5, \"Peter\")\n",
        "print(y)"
      ],
      "metadata": {
        "id": "VyOYylvQABF1",
        "colab": {
          "base_uri": "https://localhost:8080/"
        },
        "outputId": "39a95652-629b-4661-d211-ba25d597c692"
      },
      "execution_count": null,
      "outputs": [
        {
          "output_type": "stream",
          "name": "stdout",
          "text": [
            "Peter\n"
          ]
        }
      ]
    },
    {
      "cell_type": "code",
      "source": [
        "(x, y, z) = (5, \"Peter\")\n",
        "print(y)"
      ],
      "metadata": {
        "id": "GkwL2qnhAOY3",
        "colab": {
          "base_uri": "https://localhost:8080/",
          "height": 183
        },
        "outputId": "b4855577-7a1b-47a8-bad0-3b413c6e60e3"
      },
      "execution_count": null,
      "outputs": [
        {
          "output_type": "error",
          "ename": "ValueError",
          "evalue": "ignored",
          "traceback": [
            "\u001b[0;31m---------------------------------------------------------------------------\u001b[0m",
            "\u001b[0;31mValueError\u001b[0m                                Traceback (most recent call last)",
            "\u001b[0;32m<ipython-input-5-0e1a85f1ad7e>\u001b[0m in \u001b[0;36m<module>\u001b[0;34m\u001b[0m\n\u001b[0;32m----> 1\u001b[0;31m \u001b[0;34m(\u001b[0m\u001b[0mx\u001b[0m\u001b[0;34m,\u001b[0m \u001b[0my\u001b[0m\u001b[0;34m,\u001b[0m \u001b[0mz\u001b[0m\u001b[0;34m)\u001b[0m \u001b[0;34m=\u001b[0m \u001b[0;34m(\u001b[0m\u001b[0;36m5\u001b[0m\u001b[0;34m,\u001b[0m \u001b[0;34m\"Peter\"\u001b[0m\u001b[0;34m)\u001b[0m\u001b[0;34m\u001b[0m\u001b[0;34m\u001b[0m\u001b[0m\n\u001b[0m\u001b[1;32m      2\u001b[0m \u001b[0mprint\u001b[0m\u001b[0;34m(\u001b[0m\u001b[0my\u001b[0m\u001b[0;34m)\u001b[0m\u001b[0;34m\u001b[0m\u001b[0;34m\u001b[0m\u001b[0m\n",
            "\u001b[0;31mValueError\u001b[0m: not enough values to unpack (expected 3, got 2)"
          ]
        }
      ]
    },
    {
      "cell_type": "markdown",
      "source": [
        "**In above: **even though y is still link to Peter, as the second element, the comparison between the two (2) Tuples are unevenly paired which renders the error:\n",
        "\n",
        "ValueError: not enough values to unpack (expected 3, got 2)\n",
        "\n",
        "\n",
        "\n"
      ],
      "metadata": {
        "id": "QIMQfSAUAU5z"
      }
    },
    {
      "cell_type": "markdown",
      "source": [
        "**NOTE: **the functions (e.g. print still works from the left to the right, not the other way around)"
      ],
      "metadata": {
        "id": "dtdMLUStBGWW"
      }
    },
    {
      "cell_type": "code",
      "source": [
        "(x, y) = (5, \"Peter\")\n",
        "print(5)"
      ],
      "metadata": {
        "id": "-jWtZ5IaA_bJ",
        "colab": {
          "base_uri": "https://localhost:8080/"
        },
        "outputId": "b46ddba9-2530-4098-d00f-33e4c89f5efa"
      },
      "execution_count": null,
      "outputs": [
        {
          "output_type": "stream",
          "name": "stdout",
          "text": [
            "5\n"
          ]
        }
      ]
    },
    {
      "cell_type": "markdown",
      "source": [
        "**2. Tuples and Dictionaries**\n",
        "\n"
      ],
      "metadata": {
        "id": "9HSHjGMYCHTX"
      }
    },
    {
      "cell_type": "code",
      "source": [
        "# Create and empyty dictionary\n",
        "d = dict()\n",
        "\n",
        "# Add elements (key:value pairs) to this dictionary\n",
        "d['ABC'] = 1\n",
        "d['DEF'] = 2\n",
        "d['GHI'] = 3\n",
        "\n",
        "# Loop through the dictionary and print the key:value pairs\n",
        "for (k,v) in d.items():\n",
        "  print(k,v)\n",
        "\n",
        "# Creating now a list of Tuples: Output: dict_items([('ABC', 1), ('DEF', 2), ('GHI', 3)])\n",
        "tuples = d.items()\n",
        "print(tuples)\n",
        "\n",
        "# The datatype is referred to as dict_items\n",
        "type(tuples)\n"
      ],
      "metadata": {
        "id": "X2V6R1nnCM4I",
        "colab": {
          "base_uri": "https://localhost:8080/"
        },
        "outputId": "38faf353-1b39-4cc5-bdce-213c88b3bbb7"
      },
      "execution_count": null,
      "outputs": [
        {
          "output_type": "stream",
          "name": "stdout",
          "text": [
            "ABC 1\n",
            "DEF 2\n",
            "GHI 3\n",
            "dict_items([('ABC', 1), ('DEF', 2), ('GHI', 3)])\n"
          ]
        },
        {
          "output_type": "execute_result",
          "data": {
            "text/plain": [
              "dict_items"
            ]
          },
          "metadata": {},
          "execution_count": 7
        }
      ]
    },
    {
      "cell_type": "markdown",
      "source": [
        "**3. Tuples can be compared with one another**\n",
        "\n",
        "How and Why?\n",
        "\n",
        "**3.1 How?**"
      ],
      "metadata": {
        "id": "-MgWLpXtFAnn"
      }
    },
    {
      "cell_type": "code",
      "source": [
        "(6,1,1) < (5,1,2)"
      ],
      "metadata": {
        "colab": {
          "base_uri": "https://localhost:8080/"
        },
        "id": "Mdn1RjnpFLmu",
        "outputId": "1ef9b479-3dc1-43f9-aaf2-cdb62e258872"
      },
      "execution_count": null,
      "outputs": [
        {
          "output_type": "execute_result",
          "data": {
            "text/plain": [
              "False"
            ]
          },
          "metadata": {},
          "execution_count": 9
        }
      ]
    },
    {
      "cell_type": "markdown",
      "source": [
        "**Above:** It compares the value from the left to right and if it finds one that meets the comparison condition will respond with respective bolean response\n",
        "\n"
      ],
      "metadata": {
        "id": "lncZCxlrFYvh"
      }
    },
    {
      "cell_type": "code",
      "source": [
        "(6,1,2) < (5,1,2)"
      ],
      "metadata": {
        "colab": {
          "base_uri": "https://localhost:8080/"
        },
        "id": "QIKrtk3pFqV4",
        "outputId": "ec7f7a90-8bbd-4d1b-c80d-8eb7cdbf4e3d"
      },
      "execution_count": null,
      "outputs": [
        {
          "output_type": "execute_result",
          "data": {
            "text/plain": [
              "False"
            ]
          },
          "metadata": {},
          "execution_count": 13
        }
      ]
    },
    {
      "cell_type": "code",
      "source": [
        "('Jones','Sally') < ('Jones', 'Anderson')"
      ],
      "metadata": {
        "colab": {
          "base_uri": "https://localhost:8080/"
        },
        "id": "QH82uUS-F9gs",
        "outputId": "1b88c4bf-f34c-4395-a7ff-140a653ca816"
      },
      "execution_count": null,
      "outputs": [
        {
          "output_type": "execute_result",
          "data": {
            "text/plain": [
              "False"
            ]
          },
          "metadata": {},
          "execution_count": 15
        }
      ]
    },
    {
      "cell_type": "markdown",
      "source": [
        "Note: It is not concerned about upper and lower cases when comparing"
      ],
      "metadata": {
        "id": "8N0CGJltG-t0"
      }
    },
    {
      "cell_type": "markdown",
      "source": [
        "**Why?**\n",
        "\n",
        "Used in sorting of list of Tuples."
      ],
      "metadata": {
        "id": "Z9c0EoMaHH6H"
      }
    },
    {
      "cell_type": "markdown",
      "source": [
        "We will use two (2) methods: .item() and .sorted()"
      ],
      "metadata": {
        "id": "dHpbJQodInY-"
      }
    },
    {
      "cell_type": "markdown",
      "source": [
        "**.items() Method**\n",
        "\n",
        "In Python Dictionary, items() method is used to **return the list with all dictionary keys with values**. **Syntax:** *dictionary.items()*. **Parameters:** *This method takes no parameters.* **Returns:** A view object that displays a list of a given dictionary's (key, value) tuple pair."
      ],
      "metadata": {
        "id": "i8rxeGYnIuOi"
      }
    },
    {
      "cell_type": "markdown",
      "source": [
        "**.sorted() Method**\n",
        "\n",
        "The sorted() method **sorts iterable data such as lists, tuples, and dictionaries**. But it sorts **by key only.** The sorted() method **puts the sorted items in a list.** That's another problem we have to solve, because we want the sorted dictionary to remain a dictionary - thus it needs to be converted."
      ],
      "metadata": {
        "id": "1sRWDLp1JPdo"
      }
    },
    {
      "cell_type": "code",
      "source": [
        "d = {'a':10, 'c': 1, 'b':22}\n",
        "d.items()\n",
        "\n",
        "# This shows the dictionary as is\n",
        "print(d)\n",
        "\n",
        "# This shows the puts the items in a list and creates a dict_item type\n",
        "print(d.items())\n",
        "\n",
        "# Now sorting these lists based on their KEY - without having to run a print function\n",
        "sorted(d.items())"
      ],
      "metadata": {
        "colab": {
          "base_uri": "https://localhost:8080/"
        },
        "id": "ugU6bmY2JNyE",
        "outputId": "c23ca369-435e-43e2-e9b1-beab8b905a5b"
      },
      "execution_count": null,
      "outputs": [
        {
          "output_type": "stream",
          "name": "stdout",
          "text": [
            "{'a': 10, 'c': 1, 'b': 22}\n",
            "dict_items([('a', 10), ('c', 1), ('b', 22)])\n"
          ]
        },
        {
          "output_type": "execute_result",
          "data": {
            "text/plain": [
              "[('a', 10), ('b', 22), ('c', 1)]"
            ]
          },
          "metadata": {},
          "execution_count": 16
        }
      ]
    },
    {
      "cell_type": "code",
      "source": [
        "d = {'a':10, 'c': 1, 'b':22}\n",
        "s = sorted(d.items())\n",
        "print(s) \n"
      ],
      "metadata": {
        "id": "lScEwvJ0gQwR",
        "colab": {
          "base_uri": "https://localhost:8080/"
        },
        "outputId": "c2531c4f-0081-4b37-944e-b2ccbb1d4996"
      },
      "execution_count": null,
      "outputs": [
        {
          "output_type": "stream",
          "name": "stdout",
          "text": [
            "[('a', 10), ('b', 22), ('c', 1)]\n"
          ]
        }
      ]
    },
    {
      "cell_type": "code",
      "source": [
        "for (k,v) in sorted(d.items()):  # (k,v) is still a tuple, going through the items but sort them before the time and then list them underneath each other\n",
        "  print(k,v)\n",
        "\n",
        "# Even though the dictionary items were not sorted (a, c, b).  The code above will sort\n",
        "# them and then print them in its sorted order below"
      ],
      "metadata": {
        "id": "OrHNjYnOhBis",
        "colab": {
          "base_uri": "https://localhost:8080/"
        },
        "outputId": "5f956834-beeb-4d5d-ab9b-7acfefa72e81"
      },
      "execution_count": null,
      "outputs": [
        {
          "output_type": "stream",
          "name": "stdout",
          "text": [
            "a 10\n",
            "b 22\n",
            "c 1\n"
          ]
        }
      ]
    },
    {
      "cell_type": "markdown",
      "source": [
        "**4. Sorting by Values and not Key**\n",
        "\n",
        "Using well construct data structure (list of tuples) where values is first and key second."
      ],
      "metadata": {
        "id": "LcX20wf6hyi6"
      }
    },
    {
      "cell_type": "code",
      "source": [
        "# Dictionary in key:value pair order of a-c\n",
        "c = {'a':10, 'b':1, 'c':22} \n",
        "\n",
        "# Create a tempory list in order to sort them\n",
        "tmp = list() # which creates an empty list\n",
        "\n",
        "# Now loop through the dictionary and append my list with the dictionary values\n",
        "# however, do this is such a way as placing the values first and then the key as a list op tuples [( , )]\n",
        "for (k,v) in c.items():\n",
        "  tmp.append((v,k))   # tuple is change in the argument in the append method (values first, then key)\n",
        "\n",
        "print(tmp) # Now you have a list of tuples with values as the first item\n"
      ],
      "metadata": {
        "id": "rTY3AIrwis4x",
        "colab": {
          "base_uri": "https://localhost:8080/"
        },
        "outputId": "aa664cca-fc26-4181-f4b3-0b4351a1726f"
      },
      "execution_count": null,
      "outputs": [
        {
          "output_type": "stream",
          "name": "stdout",
          "text": [
            "[(10, 'a'), (1, 'b'), (22, 'c')]\n"
          ]
        }
      ]
    },
    {
      "cell_type": "code",
      "source": [
        "# Now sort this list in reverse order from large to small based on the value\n",
        "tmp = sorted(tmp, reverse=True)\n",
        "print(tmp)"
      ],
      "metadata": {
        "id": "qMHfeo3-kQkh",
        "colab": {
          "base_uri": "https://localhost:8080/"
        },
        "outputId": "a59fe5e7-5d95-4bcd-b9c4-d8f2e2bb55f5"
      },
      "execution_count": null,
      "outputs": [
        {
          "output_type": "stream",
          "name": "stdout",
          "text": [
            "[(22, 'c'), (10, 'a'), (1, 'b')]\n"
          ]
        }
      ]
    },
    {
      "cell_type": "markdown",
      "source": [
        "**Pactical Application:** ***Identify Top 10 Words in a text***\n",
        "\n",
        "https://filesamples.com/formats/txt"
      ],
      "metadata": {
        "id": "SAbfqXLFlbb5"
      }
    },
    {
      "cell_type": "code",
      "source": [
        "fhand = open('text_of_choice.txt')  # open the file\n",
        "counts = dict()  # create an empty dictionary and assign to variable counts\n",
        "\n",
        "# run through the words in the document, split them, count each word and allocate frequency of word occurence\n",
        "for line in fhand:  # nested for loop: first loop goes through each line\n",
        "  words = line.split()\n",
        "  for word in words:  # next loop goes through each word\n",
        "    counts[word] = counts.get(word, 0) + 1  # this makes a histogram of frequency of words (previous lesson)\n",
        "\n",
        "# counts above is only a historgram and NOT sorted.  To sort it we need to create a list\n",
        "\n",
        "lst = list()  # create empty list\n",
        "for (key, val) in counts.items():  # loop through key:value and then make a tuple\n",
        "  new_tuple = (val, key) # flip the value:key order to be able to sort on value and thus getting the top 10 key words\n",
        "  lst.append(new_tuple)  # now we append the tuple to the list\n",
        "\n",
        "lst = sorted(lst, reverse=True) # sort this in order from large to small\n",
        "\n",
        "for (val, key) in lst[:10]: # iterate through based on the value to get the top 10\n",
        "  print(key, val)  # we now need to print it in key:value to get the word first so flip this back to key:value\n"
      ],
      "metadata": {
        "id": "-soPensIlkZk"
      },
      "execution_count": null,
      "outputs": []
    },
    {
      "cell_type": "markdown",
      "source": [
        "**Shorter version of the above:**\n",
        "\n",
        "This is called a closed form since it is in one statement, whereas the previous is a procedural statement"
      ],
      "metadata": {
        "id": "V0rWtpK2pcQ6"
      }
    },
    {
      "cell_type": "code",
      "source": [
        "c = {'a':10, 'b':1, 'c':22} \n",
        "\n",
        "print(sorted([(v,k) for (k,v) in c.items()])) \n",
        "# after sorted a list is created()\n",
        "# [(v,k)....] is called a list comprehension as an expression.  It is a for loop that gets\n",
        "# by key in the section k,v in c.items()"
      ],
      "metadata": {
        "id": "lrMNb_q5php-"
      },
      "execution_count": null,
      "outputs": []
    },
    {
      "cell_type": "markdown",
      "source": [
        "**END OF TUPLES**\n",
        "\n",
        "**Syntax:**\n",
        "\n",
        "**Lists:** [ ]\n",
        "\n",
        "\n",
        "The correct syntax to create a Python List is using the square brackets.\n",
        "\n",
        "**Dictionaries:** { }\n",
        "\n",
        "Dictionary is listed in curly brackets, inside these curly brackets, keys and values are declared. Each key is separated from its value by a colon (:), while commas separate each element.\n",
        "\n",
        "**Tuples:** ( )\n",
        "\n",
        "A tuple is created by placing all the items (elements) inside parentheses () , separated by commas.\n"
      ],
      "metadata": {
        "id": "ryNnxXs5rQQa"
      }
    }
  ]
}