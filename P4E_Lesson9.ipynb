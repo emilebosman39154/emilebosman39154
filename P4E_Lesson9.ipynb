{
  "nbformat": 4,
  "nbformat_minor": 0,
  "metadata": {
    "colab": {
      "name": "Copy of Untitled9.ipynb",
      "provenance": [],
      "authorship_tag": "ABX9TyMtl+sJKYUu1Q94bLTZJPIP",
      "include_colab_link": true
    },
    "kernelspec": {
      "name": "python3",
      "display_name": "Python 3"
    },
    "language_info": {
      "name": "python"
    }
  },
  "cells": [
    {
      "cell_type": "markdown",
      "metadata": {
        "id": "view-in-github",
        "colab_type": "text"
      },
      "source": [
        "<a href=\"https://colab.research.google.com/github/emilebosman39154/emilebosman39154/blob/main/P4E_Lesson9.ipynb\" target=\"_parent\"><img src=\"https://colab.research.google.com/assets/colab-badge.svg\" alt=\"Open In Colab\"/></a>"
      ]
    },
    {
      "cell_type": "markdown",
      "source": [
        "# **Lesson 9: Iteration**\n",
        "\n",
        "**Iteration**, in the context of computer programming, is a **process** wherein a *set of instructions or structures are repeated in a sequence a specified number of times* or *until a condition is met*. When the first set of instructions is executed again, it is called an iteration. *When a sequence of instructions is executed in a repeated manner*, it is **called a loop**.\n",
        "\n",
        "e.g. var x is updated as follows: x = x + 1 (x is now iteratively updated to a new value)"
      ],
      "metadata": {
        "id": "WZ8M9Kxk91uW"
      }
    },
    {
      "cell_type": "code",
      "execution_count": null,
      "metadata": {
        "id": "SMY5OhAO9AGm"
      },
      "outputs": [],
      "source": [
        "x = x+1"
      ]
    },
    {
      "cell_type": "markdown",
      "source": [
        "Why do you get an error with the above code:"
      ],
      "metadata": {
        "id": "XIeT2nND_Y9l"
      }
    },
    {
      "cell_type": "markdown",
      "source": [
        "It should be: first declaring (initialise the variable) the variable x"
      ],
      "metadata": {
        "id": "TvkzEN-J_iPj"
      }
    },
    {
      "cell_type": "code",
      "source": [
        "x = 0\n",
        "x = x + 1"
      ],
      "metadata": {
        "id": "Vacijktu_m5c"
      },
      "execution_count": null,
      "outputs": []
    },
    {
      "cell_type": "markdown",
      "source": [
        "### ***Terminology: ***\n",
        "\n",
        "Increment: adding (n)\n",
        "Decrement: subtracting (n)"
      ],
      "metadata": {
        "id": "kWNKDoKI_qd5"
      }
    },
    {
      "cell_type": "markdown",
      "source": [
        "## **While Statement**\n",
        "\n",
        "**Using Iteration in an Automative Statement** (in a While Statement / Loop)"
      ],
      "metadata": {
        "id": "Ccf3MgocAOZe"
      }
    },
    {
      "cell_type": "code",
      "source": [
        "n=5\n",
        "while n > 0:\n",
        "  print(n)\n",
        "  n=n-1 \n",
        "print('Blastoff!')\n"
      ],
      "metadata": {
        "id": "rfXcfoMRAT0X"
      },
      "execution_count": null,
      "outputs": []
    },
    {
      "cell_type": "markdown",
      "source": [
        "For the above code there is ***5 iterations***"
      ],
      "metadata": {
        "id": "_8WVn0FUA7ro"
      }
    },
    {
      "cell_type": "markdown",
      "source": [
        "What happens when you run the following code and why?"
      ],
      "metadata": {
        "id": "o5SHqC19BVQg"
      }
    },
    {
      "cell_type": "code",
      "source": [
        "a = 1\n",
        "\n",
        "while a==1:\n",
        "  b = input(\"what is your name?\")\n",
        "print(\"'Hi', b, '', Welcome to LTL Robotics!'\")"
      ],
      "metadata": {
        "id": "_Q9cvdu2BgsC"
      },
      "execution_count": null,
      "outputs": []
    },
    {
      "cell_type": "code",
      "source": [
        "i = 0\n",
        "while 1 <= 10:\n",
        "  print(\"I will run forever\")\n"
      ],
      "metadata": {
        "id": "Vf7Bj33PE7MO"
      },
      "execution_count": null,
      "outputs": []
    },
    {
      "cell_type": "markdown",
      "source": [
        "A corrective **break** \n",
        "\n",
        "The code below will continue to ask for an input until the user type in the exist response (\"done\" in this instance will create a break in the code)."
      ],
      "metadata": {
        "id": "5ubG06LkB1H8"
      }
    },
    {
      "cell_type": "code",
      "source": [
        "while True:\n",
        "  line = input('> ') \n",
        "  if line == 'done':\n",
        "    break\n",
        "  print(line)\n",
        "print('Done!')"
      ],
      "metadata": {
        "id": "lnFTAF0CB8QJ"
      },
      "execution_count": null,
      "outputs": []
    },
    {
      "cell_type": "markdown",
      "source": [
        "Using Iterations with **continue** statement\n",
        "\n",
        "This is useful when code needs to progress to a subsequent (next) iteration without first having to complete its current one.  \n",
        "\n",
        "All the lines are printed except the one that starts with the hash sign because when the continue is executed, it ends the current iteration and jumps back to the while statement to start the next iteration, thus skipping the print statement.\n",
        "\n",
        "See below: "
      ],
      "metadata": {
        "id": "n9557YTccBTf"
      }
    },
    {
      "cell_type": "code",
      "source": [
        "while True:\n",
        "    line = input('> ') # not empty field\n",
        "    if line[0] == '#': # '#' pre-fix lines is not printed\n",
        "        continue\n",
        "    if line == 'done':\n",
        "        break\n",
        "    print(line)\n",
        "print('Done!')"
      ],
      "metadata": {
        "id": "YV-4gxOHdBDy"
      },
      "execution_count": null,
      "outputs": []
    },
    {
      "cell_type": "markdown",
      "source": [
        "## **For Loop**\n",
        "\n",
        "Sometimes we want to loop through a set of things such as a list of words, the lines in a file, or a list of numbers. When we have a list of things to loop through, we can construct a definite loop using a for statement. We call the while statement an indefinite loop because it simply loops until some condition becomes False, whereas the for loop is looping through a known set of items so it runs through as many iterations as there are items in the set."
      ],
      "metadata": {
        "id": "gNGN0zNZfgtm"
      }
    },
    {
      "cell_type": "code",
      "source": [
        "friends = ['Joseph', 'Glenn', 'Sally']   # friends as a variable is a \"list\"\n",
        "for friend in friends:                   # this for loop runs through the list and print for each items (as specified in the print statement)\n",
        "    print('Happy New Year:', friend)\n",
        "print('Done!')"
      ],
      "metadata": {
        "colab": {
          "base_uri": "https://localhost:8080/"
        },
        "id": "nx3kctocb8A5",
        "outputId": "5887c8e4-d990-452c-eb93-b1b307daf025"
      },
      "execution_count": 13,
      "outputs": [
        {
          "output_type": "stream",
          "name": "stdout",
          "text": [
            "Happy New Year: Joseph\n",
            "Happy New Year: Glenn\n",
            "Happy New Year: Sally\n",
            "Done!\n"
          ]
        }
      ]
    },
    {
      "cell_type": "markdown",
      "source": [
        "Above in everyday language: *“Run the statements in the body of the for loop once for each friend in the set named friends.”*"
      ],
      "metadata": {
        "id": "yruCBTXugavc"
      }
    },
    {
      "cell_type": "markdown",
      "source": [
        "Loop Patterns\n",
        "\n",
        "1. Counting or Summing in a Loops\n",
        "\n",
        "For example, to count the number of items in a list, we would write the following for loop:"
      ],
      "metadata": {
        "id": "7PMReAUNggSY"
      }
    },
    {
      "cell_type": "markdown",
      "source": [
        "**Count**"
      ],
      "metadata": {
        "id": "UeuYDcZFijy6"
      }
    },
    {
      "cell_type": "code",
      "source": [
        "count = 0\n",
        "for itervar in [3, 41, 12, 9, 74, 15]:   # iteration variable is \"itervar\"\n",
        "    count = count + 1\n",
        "print('Count: ', count)"
      ],
      "metadata": {
        "id": "NAL9z3_miEcJ"
      },
      "execution_count": null,
      "outputs": []
    },
    {
      "cell_type": "markdown",
      "source": [
        "**Summation**"
      ],
      "metadata": {
        "id": "3hHCmX0wiln0"
      }
    },
    {
      "cell_type": "code",
      "source": [
        "total = 0\n",
        "for itervar in [3, 41, 12, 9, 74, 15]:\n",
        "    total = total + itervar             # add all the numbers in the list together\n",
        "print('Total: ', total)"
      ],
      "metadata": {
        "id": "kVXnuqtLiW3C"
      },
      "execution_count": null,
      "outputs": []
    },
    {
      "cell_type": "markdown",
      "source": [
        "NOTE:\n",
        "\n",
        "Python already has building functions to perform the above:\n",
        "\n",
        "built-in functions **len()** and **sum()**"
      ],
      "metadata": {
        "id": "uC3Pjc6dix1W"
      }
    },
    {
      "cell_type": "markdown",
      "source": [
        "**Largest / Smallest Loops**\n",
        "\n",
        "Python has for this too a built-in functions max() and min() "
      ],
      "metadata": {
        "id": "zn2eD60bj3L9"
      }
    },
    {
      "cell_type": "code",
      "source": [
        "largest = None            # this runs to detect: \"largest value we have seen so far\n",
        "print('Before:', largest)\n",
        "for itervar in [3, 41, 12, 9, 74, 15]:\n",
        "  if largest is None or itervar > largest : \n",
        "    largest = itervar\n",
        "  print('Loop:', itervar, largest)\n",
        "print('Largest:', largest)"
      ],
      "metadata": {
        "id": "JAgbUrQujCMg"
      },
      "execution_count": null,
      "outputs": []
    },
    {
      "cell_type": "markdown",
      "source": [
        "Below is how the min() function works."
      ],
      "metadata": {
        "id": "lcuipvmUk43Y"
      }
    },
    {
      "cell_type": "code",
      "source": [
        "def min(values): \n",
        "  smallest = None\n",
        "  for value in values:\n",
        "    if smallest is None or value < smallest:\n",
        "      smallest = value \n",
        "return smallest"
      ],
      "metadata": {
        "id": "ah9WvsaGj_Nx"
      },
      "execution_count": null,
      "outputs": []
    }
  ]
}